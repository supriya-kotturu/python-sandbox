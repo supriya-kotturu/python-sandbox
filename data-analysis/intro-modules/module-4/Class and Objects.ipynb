{
 "cells": [
  {
   "cell_type": "markdown",
   "id": "f561af9e",
   "metadata": {},
   "source": [
    "What is Object Oriented Programming in Python\n",
    "Object-oriented programming (OOP) is a programming paradigm based on the concept of \"objects\". The object contains both data and code: Data in the form of properties (often known as attributes), and code, in the form of methods (actions object can perform).\n",
    "\n",
    "An object-oriented paradigm is to design the program using classes and objects. Python programming language supports different programming approaches like functional programming, modular programming. One of the popular approaches is object-oriented programming (OOP) to solve a programming problem is by creating objects\n",
    "\n",
    "An object has the following two characteristics:\n",
    "\n",
    "Attribute\n",
    "Behavior\n",
    "For example, A Car is an object, as it has the following properties:\n",
    "\n",
    "name, price, color as attributes\n",
    "breaking, acceleration as behavior\n",
    "One important aspect of OOP in Python is to create reusable code using the concept of inheritance. This concept is also known as DRY (Don't Repeat Yourself).\n",
    "\n",
    "Class and Objects\n",
    "In Python, everything is an object. A class is a blueprint for the object. To create an object we require a model or plan or blueprint which is nothing but class.\n",
    "\n",
    "For example, you are creating a vehicle according to the Vehicle blueprint (template). The plan contains all dimensions and structure. Based on these descriptions, we can construct a car, truck, bus, or any vehicle. Here, a car, truck, bus are objects of Vehicle class\n",
    "\n",
    "A class contains the properties (attribute) and action (behavior) of the object. Properties represent variables, and the methods represent actions. Hence class includes both variables and methods.\n"
   ]
  },
  {
   "cell_type": "markdown",
   "id": "671b4eb7-15da-441d-aa6f-d12cf67d0760",
   "metadata": {},
   "source": [
    "A real-life example of class and objects.\n",
    "\n",
    "Class: Person\n",
    "\n",
    "State: Name, Sex, Profession\n",
    "Behavior: Working, Study\n",
    "Using the above class, we can create multiple objects that depict different states and behavior.\n",
    "\n",
    "Object 1: Jessa\n",
    "\n",
    "State:\n",
    "Name: Jessa\n",
    "Sex: Female\n",
    "Profession: Software Engineer\n",
    "Behavior:\n",
    "Working: She is working as a software developer at ABC Company\n",
    "Study: She studies 2 hours a day\n",
    "Object 2: Jon\n",
    "\n",
    "State:\n",
    "Name: Jon\n",
    "Sex: Male\n",
    "Profession: Doctor\n",
    "Behavior:\n",
    "Working: He is working as a doctor\n",
    "Study: He studies 5 hours a day\n",
    "As you can see, Jessa is female, and she works as a Software engineer. On the other hand, Jon is a male, and he is a lawyer. Here, both objects are created from the same class, but they have different states and behaviors.\n"
   ]
  },
  {
   "cell_type": "code",
   "execution_count": 8,
   "id": "3e5db275-d025-4895-8fd9-3567b91f9207",
   "metadata": {},
   "outputs": [],
   "source": [
    "# Example of defining a class\n",
    "\n",
    "class Person:\n",
    "    def __init__(self, name, sex, profession):\n",
    "        # data members (instance variables)\n",
    "        self.name = name\n",
    "        self.sex = sex\n",
    "        self.profession = profession\n",
    "\n",
    "    # Behavior (instance methods)\n",
    "    def show(self):\n",
    "        print('Name:', self.name, 'Sex:', self.sex, 'Profession:', self.profession)\n",
    "\n",
    "    # Behavior (instance methods)\n",
    "    def work(self):\n",
    "        print(self.name, 'working as a', self.profession)"
   ]
  },
  {
   "cell_type": "markdown",
   "id": "33b47607-441f-4f67-8438-a7a97c704c9c",
   "metadata": {},
   "source": [
    "Create Object of a Class\n",
    "An object is essential to working with class attributes. It is created using the class name. When we create an object of a class, it is called instantiation. The object is also called the instance of a class.\n",
    "\n",
    "A constructor is a special method defined in a class that creates and initializes a class object.\n",
    "\n",
    "In Python, Object creation is divided into two parts in Object Creation and Object initialization\n",
    "\n",
    "Internally, the **new** is the method that creates the object\n",
    "And, using the **init**() method we can implement a constructor to initialize the object.\n",
    "\n",
    "Syntax:\n",
    "\n",
    "<object-name> = <class-name>(<arguments>)\n"
   ]
  },
  {
   "cell_type": "code",
   "execution_count": 2,
   "id": "8f458d69-6587-4336-bddc-b0e7601ed136",
   "metadata": {},
   "outputs": [
    {
     "name": "stdout",
     "output_type": "stream",
     "text": [
      "Name: Jessa Sex: Female Profession: Software Engineer\n",
      "Jessa working as a Software Engineer\n"
     ]
    }
   ],
   "source": [
    "class Person:\n",
    "    def __init__(self, name, sex, profession):\n",
    "        # data members (instance variables)\n",
    "        self.name = name\n",
    "        self.sex = sex\n",
    "        self.profession = profession\n",
    "\n",
    "    # Behavior (instance methods)\n",
    "    def show(self):\n",
    "        print('Name:', self.name, 'Sex:', self.sex, 'Profession:', self.profession)\n",
    "\n",
    "    # Behavior (instance methods)\n",
    "    def work(self):\n",
    "        print(self.name, 'working as a', self.profession)\n",
    "\n",
    "# create object of a class\n",
    "jessa = Person('Jessa', 'Female', 'Software Engineer')\n",
    "\n",
    "# call methods\n",
    "jessa.show()\n",
    "jessa.work()\n"
   ]
  },
  {
   "cell_type": "markdown",
   "id": "a16235a1-c8b9-4580-91c2-a8662303dc1d",
   "metadata": {},
   "source": [
    "Class Attributes\n",
    "When we design a class, we use instance variables and class variables.\n",
    "\n",
    "In Class, attributes can be defined into two parts:\n",
    "\n",
    "Instance variables: The instance variables are attributes attached to an instance of a class. We define instance variables in the constructor ( the **init**() method of a class).\n",
    "Class Variables: A class variable is a variable that is declared inside of class, but outside of any instance method or **init**() m\n",
    "\n",
    "Objects do not share instance attributes. Instead, every object has its copy of the instance attribute and is unique to each object.\n",
    "\n",
    "All instances of a class share the class variables. However, unlike instance variables, the value of a class variable is not varied from object to object.\n",
    "\n",
    "Only one copy of the static variable will be created and shared between all objects of the class.\n",
    "\n",
    "Accessing properties and assigning values\n",
    "\n",
    "An instance attribute can be accessed or modified by using the dot notation: instance_name.attribute_name.\n",
    "A class variable is accessed or modified using the class nameethod.\n"
   ]
  },
  {
   "cell_type": "code",
   "execution_count": 3,
   "id": "0814c246-fba8-4224-b98d-d98f628470e0",
   "metadata": {},
   "outputs": [
    {
     "name": "stdout",
     "output_type": "stream",
     "text": [
      "Student: Harry 12\n",
      "School name: ABC School\n",
      "Student: Jessa 14\n",
      "School name: XYZ School\n"
     ]
    }
   ],
   "source": [
    "class Student:\n",
    "    # class variables\n",
    "    school_name = 'ABC School'\n",
    "\n",
    "    # constructor\n",
    "    def __init__(self, name, age):\n",
    "        # instance variables\n",
    "        self.name = name\n",
    "        self.age = age\n",
    "\n",
    "s1 = Student(\"Harry\", 12)\n",
    "# access instance variables\n",
    "print('Student:', s1.name, s1.age)\n",
    "\n",
    "# access class variable\n",
    "print('School name:', Student.school_name)\n",
    "\n",
    "# Modify instance variables\n",
    "s1.name = 'Jessa'\n",
    "s1.age = 14\n",
    "print('Student:', s1.name, s1.age)\n",
    "\n",
    "# Modify class variables\n",
    "Student.school_name = 'XYZ School'\n",
    "print('School name:', Student.school_name)"
   ]
  },
  {
   "cell_type": "markdown",
   "id": "950d6bbf-75f1-42e8-b0f5-a8d8f492c408",
   "metadata": {},
   "source": [
    "Class Methods\n",
    "In Object-oriented programming, Inside a Class, we can define the following three types of methods.\n",
    "\n",
    "Instance method: Used to access or modify the object state. If we use instance variables inside a method, such methods are called instance metho\n",
    "ds.\n",
    "Class method: Used to access or modify the class state. In method implementation, if we use only class variables, then such type of methods we should declare as a class met\n",
    "hod.\n",
    "Static method: It is a general utility method that performs a task in isolation. Inside this method, we don’t use instance or class variable because this static method doesn’t have access to the class attrib\n",
    "\n",
    "Instance methods work on the instance level (object level). For example, if we have two objects created from the student class, They may have different names, marks, roll numbers, etc. Using instance methods, we can access and modify the instance variables.\n",
    "\n",
    "A class method is bound to the class and not the object of the class. It can access only class variables.utes.utes.\n"
   ]
  },
  {
   "cell_type": "code",
   "execution_count": 4,
   "id": "82ecbd4c-5f4e-4d1e-a00f-0f19e42206fc",
   "metadata": {},
   "outputs": [
    {
     "name": "stdout",
     "output_type": "stream",
     "text": [
      "Student: Harry 12 ABC School\n",
      "Student: Harry 14 XYZ School\n"
     ]
    }
   ],
   "source": [
    "# class methods demo\n",
    "class Student:\n",
    "    # class variable\n",
    "    school_name = 'ABC School'\n",
    "\n",
    "    # constructor\n",
    "    def __init__(self, name, age):\n",
    "        # instance variables\n",
    "        self.name = name\n",
    "        self.age = age\n",
    "\n",
    "    # instance method\n",
    "    def show(self):\n",
    "        # access instance variables and class variables\n",
    "        print('Student:', self.name, self.age, Student.school_name)\n",
    "\n",
    "    # instance method\n",
    "    def change_age(self, new_age):\n",
    "        # modify instance variable\n",
    "        self.age = new_age\n",
    "\n",
    "    # class method\n",
    "    @classmethod\n",
    "    def modify_school_name(cls, new_name):\n",
    "        # modify class variable\n",
    "        cls.school_name = new_name\n",
    "\n",
    "s1 = Student(\"Harry\", 12)\n",
    "\n",
    "# call instance methods\n",
    "s1.show()\n",
    "s1.change_age(14)\n",
    "\n",
    "# call class method\n",
    "Student.modify_school_name('XYZ School')\n",
    "# call instance methods\n",
    "s1.show()"
   ]
  },
  {
   "cell_type": "markdown",
   "id": "cbc33748-889f-4ccf-b658-38fde089fff4",
   "metadata": {},
   "source": [
    "Class Naming Convention\n",
    "\n",
    "Naming conventions are essential in any programming language for better readability. If we give a sensible name, it will save our time and energy later. Writing readable code is one of the guiding principles of the Python language.\n",
    "\n",
    "We should follow specific rules while we are deciding a name for the class in Python.\n",
    "\n",
    "Rule-1: Class names should follow the UpperCaseCamelCase convention\n",
    "Rule-2: Exception classes should end in “Error“.\n",
    "Rule-3: If a class is callable (Calling the class from somewhere), in that case, we can give a class name like a function.\n",
    "Rule-4: Python’s built-in classes are typically lowercase words\n",
    "pass Statement in Class\n",
    "In Python, the pass is a null statement. Therefore, nothing happens when the pass statement is executed.\n",
    "\n",
    "The pass statement is used to have an empty block in a code because the empty code is not allowed in loops, function definition, class definition. Thus, the pass statement will results in no operation (NOP). Generally, we use it as a placeholder when we do not know what code to write or add code in a future release.\n",
    "\n",
    "For example, suppose we have a class that is not implemented yet, but we want to implement it in the future, and they cannot have an empty body because the interpreter gives an error. So use the pass statement to construct a body that does nothing.\n"
   ]
  },
  {
   "cell_type": "code",
   "execution_count": 5,
   "id": "53cf29cc-821f-4133-b881-eafd52a4775f",
   "metadata": {},
   "outputs": [],
   "source": [
    "class Demo:\n",
    "  pass"
   ]
  },
  {
   "cell_type": "markdown",
   "id": "250fff86-8643-4d56-9884-bb38432ae1e1",
   "metadata": {},
   "source": [
    "Modify Object Properties\n",
    "Every object has properties associated with them. We can set or modify the object’s properties after object initialization by calling the property directly using the dot operator.\n",
    "\n",
    "Syntax:\n",
    "\n",
    "Obj.PROPERTY=value\n"
   ]
  },
  {
   "cell_type": "code",
   "execution_count": 6,
   "id": "dd342d83-e38c-479e-86dc-4a4593c3a6ac",
   "metadata": {},
   "outputs": [
    {
     "name": "stdout",
     "output_type": "stream",
     "text": [
      "Fruit is strawberry and Color is red\n"
     ]
    }
   ],
   "source": [
    "class Fruit:\n",
    "    def __init__(self, name, color):\n",
    "        self.name = name\n",
    "        self.color = color\n",
    "\n",
    "    def show(self):\n",
    "        print(\"Fruit is\", self.name, \"and Color is\", self.color)\n",
    "\n",
    "# creating object of the class\n",
    "obj = Fruit(\"Apple\", \"red\")\n",
    "\n",
    "# Modifying Object Properties\n",
    "obj.name = \"strawberry\"\n",
    "\n",
    "# calling the instance method using the object obj\n",
    "obj.show()\n",
    "# Output Fruit is strawberry and Color is red"
   ]
  },
  {
   "cell_type": "markdown",
   "id": "d1896cb0-ce0b-48ce-9efe-545e6463bf6b",
   "metadata": {},
   "source": [
    "Delete object properties\n",
    "We can delete the object property by using the del keyword. After deleting it, if we try to access it, we will get an error.\n"
   ]
  },
  {
   "cell_type": "code",
   "execution_count": 7,
   "id": "454e5612-02c4-4d2a-bca2-0eb9032de71d",
   "metadata": {},
   "outputs": [
    {
     "ename": "AttributeError",
     "evalue": "'Fruit' object has no attribute 'name'",
     "output_type": "error",
     "traceback": [
      "\u001b[1;31m---------------------------------------------------------------------------\u001b[0m",
      "\u001b[1;31mAttributeError\u001b[0m                            Traceback (most recent call last)",
      "Cell \u001b[1;32mIn[7], line 16\u001b[0m\n\u001b[0;32m     13\u001b[0m \u001b[38;5;28;01mdel\u001b[39;00m obj\u001b[38;5;241m.\u001b[39mname\n\u001b[0;32m     15\u001b[0m \u001b[38;5;66;03m# Accessing object properties after deleting\u001b[39;00m\n\u001b[1;32m---> 16\u001b[0m \u001b[38;5;28mprint\u001b[39m(\u001b[43mobj\u001b[49m\u001b[38;5;241;43m.\u001b[39;49m\u001b[43mname\u001b[49m)\n",
      "\u001b[1;31mAttributeError\u001b[0m: 'Fruit' object has no attribute 'name'"
     ]
    }
   ],
   "source": [
    "class Fruit:\n",
    "    def __init__(self, name, color):\n",
    "        self.name = name\n",
    "        self.color = color\n",
    "\n",
    "    def show(self):\n",
    "        print(\"Fruit is\", self.name, \"and Color is\", self.color)\n",
    "\n",
    "# creating object of the class\n",
    "obj = Fruit(\"Apple\", \"red\")\n",
    "\n",
    "# Deleting Object Properties\n",
    "del obj.name\n",
    "\n",
    "# Accessing object properties after deleting\n",
    "print(obj.name)"
   ]
  },
  {
   "cell_type": "code",
   "execution_count": 21,
   "id": "516d88e7-f358-47ff-9eeb-a13f47483a3f",
   "metadata": {},
   "outputs": [
    {
     "name": "stdout",
     "output_type": "stream",
     "text": [
      "Department is  IT\n"
     ]
    },
    {
     "ename": "NameError",
     "evalue": "name 'emp' is not defined",
     "output_type": "error",
     "traceback": [
      "\u001b[1;31m---------------------------------------------------------------------------\u001b[0m",
      "\u001b[1;31mNameError\u001b[0m                                 Traceback (most recent call last)",
      "\u001b[1;32m~\\AppData\\Local\\Temp\\ipykernel_12756\\457542951.py\u001b[0m in \u001b[0;36m<module>\u001b[1;34m\u001b[0m\n\u001b[0;32m     12\u001b[0m \u001b[1;33m\u001b[0m\u001b[0m\n\u001b[0;32m     13\u001b[0m \u001b[1;31m# Accessing after delete object\u001b[0m\u001b[1;33m\u001b[0m\u001b[1;33m\u001b[0m\u001b[1;33m\u001b[0m\u001b[0m\n\u001b[1;32m---> 14\u001b[1;33m \u001b[0memp\u001b[0m\u001b[1;33m.\u001b[0m\u001b[0mshow\u001b[0m\u001b[1;33m(\u001b[0m\u001b[1;33m)\u001b[0m\u001b[1;33m\u001b[0m\u001b[1;33m\u001b[0m\u001b[0m\n\u001b[0m\u001b[0;32m     15\u001b[0m \u001b[1;31m# Output : NameError: name 'emp' is not defined\u001b[0m\u001b[1;33m\u001b[0m\u001b[1;33m\u001b[0m\u001b[1;33m\u001b[0m\u001b[0m\n",
      "\u001b[1;31mNameError\u001b[0m: name 'emp' is not defined"
     ]
    }
   ],
   "source": [
    "class Employee:\n",
    "    depatment = \"IT\"\n",
    "\n",
    "    def show(self):\n",
    "        print(\"Department is \", self.depatment)\n",
    "\n",
    "emp = Employee()\n",
    "emp.show()\n",
    "\n",
    "# delete object\n",
    "del emp\n",
    "\n",
    "# Accessing after delete object\n",
    "emp.show()\n",
    "# Output : NameError: name 'emp' is not defined "
   ]
  },
  {
   "cell_type": "code",
   "execution_count": null,
   "id": "ab9808ba-b30b-44c8-a33a-caed3a57b335",
   "metadata": {},
   "outputs": [],
   "source": []
  }
 ],
 "metadata": {
  "kernelspec": {
   "display_name": "Python 3",
   "language": "python",
   "name": "python3"
  },
  "language_info": {
   "codemirror_mode": {
    "name": "ipython",
    "version": 3
   },
   "file_extension": ".py",
   "mimetype": "text/x-python",
   "name": "python",
   "nbconvert_exporter": "python",
   "pygments_lexer": "ipython3",
   "version": "3.10.2"
  }
 },
 "nbformat": 4,
 "nbformat_minor": 5
}
