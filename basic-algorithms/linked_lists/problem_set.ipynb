{
 "cells": [
  {
   "cell_type": "markdown",
   "metadata": {},
   "source": [
    "# Linked List - problem set\n",
    "\n",
    "This Jupyter Notebook contains a series of exercises focused on linked list data structure.\n"
   ]
  },
  {
   "cell_type": "code",
   "execution_count": 4,
   "metadata": {},
   "outputs": [],
   "source": [
    "import import_ipynb\n",
    "\n",
    "\n",
    "from linked_lists import LinkedList\n",
    "from linked_lists import Node"
   ]
  },
  {
   "cell_type": "code",
   "execution_count": 13,
   "metadata": {},
   "outputs": [
    {
     "name": "stdout",
     "output_type": "stream",
     "text": [
      "\n",
      "Linked list created.\n",
      "3-> 2-> 1-> \n",
      "Linked list created.\n",
      "1-> 2-> 3-> "
     ]
    }
   ],
   "source": [
    "# Reverse a Linked List\n",
    "# INPUT: LinkedList\n",
    "# OUTPUT: LinkedList\n",
    "\n",
    "\n",
    "def reverse_linked_list(list: LinkedList) -> LinkedList:\n",
    "    # dummy is a pointer, not a node\n",
    "    dummy = None\n",
    "    curr = list.head\n",
    "\n",
    "    while curr is not None:\n",
    "        nextNode = curr.next\n",
    "\n",
    "        curr.next = dummy   # update the curr.next to point to dummy \n",
    "        dummy = curr        # update dummy to have the value of curr, so that the next node can point to it\n",
    "        curr = nextNode     # update curr to next node in the list\n",
    "\n",
    "    rev = LinkedList()\n",
    "    rev.head = dummy\n",
    "    return rev\n",
    "\n",
    "\n",
    "ll = LinkedList()\n",
    "ll.insert_at_beginning(1)\n",
    "ll.insert_at_beginning(2)\n",
    "ll.insert_at_beginning(3)\n",
    "ll.print_list()\n",
    "\n",
    "rev =  reverse_linked_list(ll)\n",
    "rev.print_list()"
   ]
  },
  {
   "cell_type": "code",
   "execution_count": 20,
   "metadata": {},
   "outputs": [
    {
     "name": "stdout",
     "output_type": "stream",
     "text": [
      "\n",
      "Linked list created.\n",
      "9-> 3-> 4-> 5-> 4-> 3-> 9-> \n",
      "\n",
      "orignal: 9345439\n",
      "reverse: 9345439\n"
     ]
    },
    {
     "data": {
      "text/plain": [
       "True"
      ]
     },
     "execution_count": 20,
     "metadata": {},
     "output_type": "execute_result"
    }
   ],
   "source": [
    "# Check if the current list is a palindrome\n",
    "# INPUT: LinkedList\n",
    "# OUTPUT: Boolean\n",
    "\n",
    "def is_palindrome(list: LinkedList) -> bool:\n",
    "    original, reverse = \"\", \"\"\n",
    "    curr = list.head\n",
    "\n",
    "    while(curr is not None):\n",
    "        original = original + str(curr.data)\n",
    "        reverse = str(curr.data) + reverse\n",
    "\n",
    "        curr = curr.next\n",
    "    \n",
    "    print(\"\\n\\norignal: {}\\nreverse: {}\".format(original, reverse))\n",
    "    return original == reverse\n",
    "\n",
    "\n",
    "ll = LinkedList()\n",
    "ll.insert_at_beginning(9)\n",
    "ll.insert_at_beginning(3)\n",
    "ll.insert_at_beginning(4)\n",
    "ll.insert_at_beginning(5)\n",
    "ll.insert_at_beginning(4)\n",
    "# ll.insert_at_beginning(9)\n",
    "ll.insert_at_beginning(3)\n",
    "ll.insert_at_beginning(9)\n",
    "\n",
    "ll.print_list()\n",
    "\n",
    "is_palindrome(ll)\n",
    "\n"
   ]
  },
  {
   "cell_type": "code",
   "execution_count": null,
   "metadata": {},
   "outputs": [],
   "source": [
    "# Add two numbers represented in linked lists by creating a new list\n",
    "# INPUT: LinkedList, LinkedList\n",
    "# OUTPUT: LinkedList\n",
    "\n",
    "def add_two_lists(list_1: LinkedList, list_2: LinkedList) -> LinkedList:\n",
    "    "
   ]
  }
 ],
 "metadata": {
  "kernelspec": {
   "display_name": "Python 3",
   "language": "python",
   "name": "python3"
  },
  "language_info": {
   "codemirror_mode": {
    "name": "ipython",
    "version": 3
   },
   "file_extension": ".py",
   "mimetype": "text/x-python",
   "name": "python",
   "nbconvert_exporter": "python",
   "pygments_lexer": "ipython3",
   "version": "3.10.2"
  }
 },
 "nbformat": 4,
 "nbformat_minor": 2
}
