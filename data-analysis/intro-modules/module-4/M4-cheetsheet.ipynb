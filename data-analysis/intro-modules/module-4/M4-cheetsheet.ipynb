{
 "cells": [
  {
   "cell_type": "markdown",
   "metadata": {},
   "source": [
    "# Module - 4\n"
   ]
  },
  {
   "cell_type": "code",
   "execution_count": null,
   "metadata": {},
   "outputs": [],
   "source": [
    "class Stock:\n",
    "    def __init__(self,ticker_symbol, name, price):\n",
    "        self.ticker_symbol = ticker_symbol\n",
    "        self.name = name\n",
    "        self.price = price\n",
    "        \n",
    "    def getStockDeatails(self):\n",
    "        print(f\"\")\n",
    "    "
   ]
  }
 ],
 "metadata": {
  "kernelspec": {
   "display_name": "Python 3",
   "language": "python",
   "name": "python3"
  },
  "language_info": {
   "name": "python",
   "version": "3.10.2"
  }
 },
 "nbformat": 4,
 "nbformat_minor": 2
}
