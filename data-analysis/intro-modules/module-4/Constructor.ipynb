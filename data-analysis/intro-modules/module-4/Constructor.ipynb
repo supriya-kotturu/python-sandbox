{
 "cells": [
  {
   "cell_type": "markdown",
   "id": "1464461b-0471-4684-ac66-997bc10f9572",
   "metadata": {},
   "source": [
    "What is Constructor in Python?\r\n",
    "In object-oriented programming, A constructor is a special method used to create and initialize an object of a class. This method is defined in the class.\r\n",
    "\r\n",
    "The constructor is executed automatically at the time of object creation.\r\n",
    "The primary use of a constructor is to declare and initialize data member/ instance variables of a class. The constructor contains a collection of statements (i.e., instructions) that executes at the time of object creation to initialize the attributes of an object.\r\n",
    "For example, when we execute obj = Sample(), Python gets to know that obj is an object of class Sample and calls the constructor of that class to create an object.\r\n",
    "\r\n",
    "Note: In Python, internally, the __new__ is the method that creates the object, and __del__ method is called to destroy the object when the reference count for that object becomes zero.\r\n",
    "\r\n",
    "In Python, Object creation is divided into two parts in Object Creation and Object initialization\r\n",
    "\r\n",
    "Internally, the __new__ is the method that creates the object\r\n",
    "And, using the __init__() method we can implement constructor to initialize\n",
    " the object.\r\n",
    "Syntax of :\n",
    "def __init__(self):\r\n",
    "    # body of the constructo\n",
    "\n",
    "Home » Python » Python Object-Oriented Programming (OOP) » Constructors in Python\r\n",
    "Constructors in Python\r\n",
    "Updated on: August 28, 2021 | 10 Comments\r\n",
    "\r\n",
    "Constructor is a special method used to create and initialize an object of a class. On the other hand, a destructor is used to destroy the object.\r\n",
    "\r\n",
    "After reading this article, you will lred By Adobe Creative Cloud\r\n",
    "Learn more\r\n",
    "Wher\n",
    "e,\r\n",
    "\r\n",
    "def: The keyword is used to define function.\r\n",
    "__init__() Method: It is a reserved method. This method gets call\n",
    "ed as soon as an object of a class is instantiated.\r\n",
    "self: The first argument self refers to the current object. It binds the instance to the __init__() method. It’s\n",
    " usually named self to follow the naming convention.\r\n",
    "Note: The __init__() method arguments are optional. We c\n",
    "an define a constructor with any number of arguments.ra constructor"
   ]
  },
  {
   "cell_type": "markdown",
   "id": "8f07afa8-a81b-417e-acf5-5f055b7a0051",
   "metadata": {},
   "source": [
    "Example: Create a Constructor in Python\r\n",
    "In this example, we’ll create a Class Student with an instance variable student name. we’ll see how to use a constructor to initialize the student name at the time of object creation."
   ]
  },
  {
   "cell_type": "code",
   "execution_count": 1,
   "id": "c77457d1-a42c-4c8f-8cb0-fae154d22898",
   "metadata": {},
   "outputs": [
    {
     "name": "stdout",
     "output_type": "stream",
     "text": [
      "Inside Constructor\n",
      "All variables initialized\n",
      "Hello, my name is Emma\n"
     ]
    }
   ],
   "source": [
    "class Student:\n",
    "\n",
    "    # constructor\n",
    "    # initialize instance variable\n",
    "    def __init__(self, name):\n",
    "        print('Inside Constructor')\n",
    "        self.name = name\n",
    "        print('All variables initialized')\n",
    "\n",
    "    # instance Method\n",
    "    def show(self):\n",
    "        print('Hello, my name is', self.name)\n",
    "\n",
    "\n",
    "# create object using constructor\n",
    "s1 = Student('Emma')\n",
    "s1.show()"
   ]
  },
  {
   "cell_type": "markdown",
   "id": "b4c719ae-d87c-43a2-892d-46834da37710",
   "metadata": {},
   "source": [
    "Note:\n",
    "\n",
    "For every object, the constructor will be executed only once. For example, if we create four objects, the constructor is called four times.\n",
    "In Python, every class has a constructor, but it’s not required to define it explicitly. Defining constructors in class is optional.\n",
    "Python will provide a default constructor if no constructor is defined."
   ]
  },
  {
   "cell_type": "markdown",
   "id": "77a074e1-56f0-46ca-9678-b3c826a8cc36",
   "metadata": {},
   "source": [
    "Types of Constructors\n",
    "In Python, we have the following three types of constructors.\n",
    "\n",
    "Default Constructor\n",
    "Non-parametrized constructor\n",
    "Parameterized constructor"
   ]
  },
  {
   "cell_type": "markdown",
   "id": "9027be38-1227-42ae-b90a-9df547155da8",
   "metadata": {},
   "source": [
    "Default Constructor\n",
    "Python will provide a default constructor if no constructor is defined. Python adds a default constructor when we do not include the constructor in the class or forget to declare it. It does not perform any task but initializes the objects. It is an empty constructor without a body.\n",
    "\n",
    "If you do not implement any constructor in your class or forget to declare it, the Python inserts a default constructor into your code on your behalf. This constructor is known as the default constructor.\n",
    "\n",
    "It does not perform any task but initializes the objects. It is an empty constructor without a body.\n",
    "\n",
    "Note:\n",
    "\n",
    "The default constructor is not present in the source py file. It is inserted into the code during compilation if not exists. See the below image.\n",
    "As you can see in the example, we do not have a constructor, but we can still create an object for the class because Python added the default constructor during a program compilation."
   ]
  },
  {
   "cell_type": "code",
   "execution_count": 3,
   "id": "7444331b-98dd-4b00-b170-bd3c4009d305",
   "metadata": {},
   "outputs": [
    {
     "name": "stdout",
     "output_type": "stream",
     "text": [
      "Inside Display\n"
     ]
    }
   ],
   "source": [
    "class Employee:\n",
    "\n",
    "    def display(self):\n",
    "        print('Inside Display')\n",
    "\n",
    "emp = Employee()\n",
    "emp.display()\n"
   ]
  },
  {
   "cell_type": "markdown",
   "id": "b50ee4bd-3532-4ca7-95d6-1e8fd1270d0a",
   "metadata": {},
   "source": [
    "Non-Parametrized Constructor\r\n",
    "A constructor without any arguments is called a non-parameterized constructor. This type of constructor is used to initialize each object with default values.\r\n",
    "\r\n",
    "This constructor doesn’t accept the arguments during object creation. Instead, it initializes every object with the same set of values."
   ]
  },
  {
   "cell_type": "code",
   "execution_count": 7,
   "id": "880a4d3e-6f0b-4ff0-87d1-97adfd814243",
   "metadata": {},
   "outputs": [
    {
     "name": "stdout",
     "output_type": "stream",
     "text": [
      "Name: VIT Address: Bangalore\n"
     ]
    }
   ],
   "source": [
    "class Company:\n",
    "\n",
    "    # no-argument constructor\n",
    "    def __init__(self):\n",
    "        self.name = \"VIT\"\n",
    "        self.address = \"Bangalore\"\n",
    "\n",
    "    # a method for printing data members\n",
    "    def show(self):\n",
    "        print('Name:', self.name, 'Address:', self.address)\n",
    "\n",
    "# creating object of the class\n",
    "cmp = Company()\n",
    "\n",
    "# calling the instance method using the object\n",
    "cmp.show()"
   ]
  },
  {
   "cell_type": "markdown",
   "id": "5d57377c-dab5-43ef-ad60-cd80fe034e22",
   "metadata": {},
   "source": [
    "Parameterized Constructor\n",
    "A constructor with defined parameters or arguments is called a parameterized constructor. We can pass different values to each object at the time of creation using a parameterized constructor.\n",
    "\n",
    "The first parameter to constructor is self that is a reference to the being constructed, and the rest of the arguments are provided by the programmer. A parameterized constructor can have any number of arguments.\n",
    "\n",
    "For example, consider a company that contains thousands of employees. In this case, while creating each employee object, we need to pass a different name, age, and salary. In such cases, use the parameterized constructor"
   ]
  },
  {
   "cell_type": "code",
   "execution_count": 9,
   "id": "589ce832-b40d-4e72-82bd-bc5caf88232b",
   "metadata": {},
   "outputs": [
    {
     "name": "stdout",
     "output_type": "stream",
     "text": [
      "Emma 23 7500\n",
      "Kelly 25 8500\n"
     ]
    }
   ],
   "source": [
    "class Employee:\n",
    "    # parameterized constructor\n",
    "    def __init__(self, name, age, salary):\n",
    "        self.name = name\n",
    "        self.age = age\n",
    "        self.salary = salary\n",
    "\n",
    "    # display object\n",
    "    def show(self):\n",
    "        print(self.name, self.age, self.salary)\n",
    "\n",
    "# creating object of the Employee class\n",
    "emma = Employee('Emma', 23, 7500)\n",
    "emma.show()\n",
    "\n",
    "kelly = Employee('Kelly', 25, 8500)\n",
    "kelly.show()\n"
   ]
  },
  {
   "cell_type": "markdown",
   "id": "e1ac879f-e028-48a0-94ef-d81e20989412",
   "metadata": {},
   "source": [
    "\n",
    "Constructor With Default Values\n",
    "Python allows us to define a constructor with default values. The default value will be used if we do not pass arguments to the constructor at the time of object creation.\n",
    "\n",
    "The following example shows how to use the default values with the constructor."
   ]
  },
  {
   "cell_type": "code",
   "execution_count": 11,
   "id": "e9858047-25d8-4e48-a4b9-e139e4c2e4eb",
   "metadata": {},
   "outputs": [
    {
     "name": "stdout",
     "output_type": "stream",
     "text": [
      "Emma 12 7\n",
      "Kelly 13 7\n"
     ]
    }
   ],
   "source": [
    "class Student:\n",
    "    # constructor with default values age and classroom\n",
    "    def __init__(self, name, age=12, classroom=7):\n",
    "        self.name = name\n",
    "        self.age = age\n",
    "        self.classroom = classroom\n",
    "\n",
    "    # display Student\n",
    "    def show(self):\n",
    "        print(self.name, self.age, self.classroom)\n",
    "\n",
    "# creating object of the Student class\n",
    "emma = Student('Emma')\n",
    "emma.show()\n",
    "\n",
    "kelly = Student('Kelly', 13)\n",
    "kelly.show()\n"
   ]
  },
  {
   "cell_type": "code",
   "execution_count": null,
   "id": "9e0ba649-7f93-4ac3-90c5-095204cbc8d8",
   "metadata": {},
   "outputs": [],
   "source": []
  }
 ],
 "metadata": {
  "kernelspec": {
   "display_name": "Python 3 (ipykernel)",
   "language": "python",
   "name": "python3"
  },
  "language_info": {
   "codemirror_mode": {
    "name": "ipython",
    "version": 3
   },
   "file_extension": ".py",
   "mimetype": "text/x-python",
   "name": "python",
   "nbconvert_exporter": "python",
   "pygments_lexer": "ipython3",
   "version": "3.8.19"
  }
 },
 "nbformat": 4,
 "nbformat_minor": 5
}
