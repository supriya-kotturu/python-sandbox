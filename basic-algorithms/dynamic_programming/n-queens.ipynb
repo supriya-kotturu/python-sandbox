{
 "cells": [
  {
   "cell_type": "markdown",
   "metadata": {},
   "source": [
    "# Dynamic Programming\n",
    "\n",
    "This Jupyter Notebook contains a series of exercises focused on dynamic programming patterns.\n"
   ]
  },
  {
   "cell_type": "code",
   "execution_count": 1,
   "metadata": {},
   "outputs": [],
   "source": [
    "from typing import List"
   ]
  },
  {
   "cell_type": "code",
   "execution_count": null,
   "metadata": {},
   "outputs": [
    {
     "name": "stdout",
     "output_type": "stream",
     "text": [
      "Solution for 8-Queens:\n",
      "Q . . . . . . .\n",
      ". . . . . . Q .\n",
      ". . . . Q . . .\n",
      ". . . . . . . Q\n",
      ". Q . . . . . .\n",
      ". . . Q . . . .\n",
      ". . . . . Q . .\n",
      ". . Q . . . . .\n"
     ]
    }
   ],
   "source": [
    "# Return the number of queens that can be inserted in a n x n board\n",
    "# INPUT: int\n",
    "# OUTPUT: list[list[str]]\n",
    "\n",
    "def solve_n_queens(n: int) -> list[list[str]]:\n",
    "    def is_safe(board: list[list[str]], row: int, col: int) -> bool:\n",
    "        # Check row on left side\n",
    "        for j in range(col):\n",
    "            if board[row][j] == 'Q':\n",
    "                return False\n",
    "        \n",
    "        # Check upper diagonal on left side\n",
    "        for i, j in zip(range(row, -1, -1), range(col, -1, -1)):\n",
    "            if board[i][j] == 'Q':\n",
    "                return False\n",
    "        \n",
    "        # Check lower diagonal on left side\n",
    "        for i, j in zip(range(row, n, 1), range(col, -1, -1)):\n",
    "            if board[i][j] == 'Q':\n",
    "                return False\n",
    "        \n",
    "        return True\n",
    "\n",
    "    def solve(board: list[list[str]], col: int) -> bool:\n",
    "        # Base case: If all queens are placed, return True\n",
    "        if col >= n:\n",
    "            return True\n",
    "\n",
    "        # Consider this column and try placing this queen in all rows one by one\n",
    "        for i in range(n):\n",
    "            if is_safe(board, i, col):\n",
    "                # Place this queen in board[i][col]\n",
    "                board[i][col] = 'Q'\n",
    "                \n",
    "                # Recur to place rest of the queens\n",
    "                if solve(board, col + 1):\n",
    "                    return True\n",
    "\n",
    "                # If placing queen in board[i][col] doesn't lead to a solution,\n",
    "                # then remove queen from board[i][col]\n",
    "                board[i][col] = '.'\n",
    "        \n",
    "        # If queen can't be placed in any row in this column col, return False\n",
    "        return False\n",
    "\n",
    "    # Initialize the chessboard\n",
    "    board = [['.' for x in range(n)] for y in range(n)]\n",
    "    \n",
    "    if solve(board, 0) == False:\n",
    "        print(\"Solution does not exist\")\n",
    "        return []\n",
    "    \n",
    "    return board\n",
    "\n",
    "def print_board(board: list[list[str]]) -> None:\n",
    "    for row in board:\n",
    "        print(' '.join(row))\n",
    "\n",
    "# Example usage\n",
    "n = 8 # You can change this to any number\n",
    "solution = solve_n_queens(n)\n",
    "if solution:\n",
    "    print(f\"Solution for {n}-Queens:\")\n",
    "    print_board(solution)\n"
   ]
  }
 ],
 "metadata": {
  "kernelspec": {
   "display_name": "Python 3",
   "language": "python",
   "name": "python3"
  },
  "language_info": {
   "codemirror_mode": {
    "name": "ipython",
    "version": 3
   },
   "file_extension": ".py",
   "mimetype": "text/x-python",
   "name": "python",
   "nbconvert_exporter": "python",
   "pygments_lexer": "ipython3",
   "version": "3.10.2"
  }
 },
 "nbformat": 4,
 "nbformat_minor": 2
}
