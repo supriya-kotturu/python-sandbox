{
 "cells": [
  {
   "cell_type": "markdown",
   "metadata": {},
   "source": [
    "# Intro to SQL using python\n"
   ]
  },
  {
   "cell_type": "code",
   "execution_count": 6,
   "metadata": {},
   "outputs": [],
   "source": [
    "# pip install mysql-connector-python"
   ]
  },
  {
   "cell_type": "code",
   "execution_count": 7,
   "metadata": {},
   "outputs": [],
   "source": [
    "import mysql.connector as mysql\n",
    "\n",
    "HOST = 'localhost'\n",
    "USER = 'supriya'\n",
    "PASSWORD = \"supriya-1234\"\n",
    "DATABASE = \"stocks\""
   ]
  },
  {
   "cell_type": "code",
   "execution_count": 8,
   "metadata": {},
   "outputs": [
    {
     "name": "stdout",
     "output_type": "stream",
     "text": [
      "('information_schema',)\n",
      "('mysql',)\n",
      "('performance_schema',)\n",
      "('sakila',)\n",
      "('stocks',)\n",
      "('sys',)\n",
      "('world',)\n"
     ]
    }
   ],
   "source": [
    "#   Create database\n",
    "\n",
    "db = mysql.connect(\n",
    "    host=HOST,\n",
    "    user=USER,\n",
    "    password=PASSWORD,\n",
    ")\n",
    "\n",
    "cursor = db.cursor()\n",
    "# cursor.execute(\"CREATE DATABASE STOCKS\")\n",
    "cursor.execute(\"SHOW DATABASES\")\n",
    "\n",
    "for x in cursor:\n",
    "    print(x)\n"
   ]
  },
  {
   "cell_type": "code",
   "execution_count": 9,
   "metadata": {},
   "outputs": [
    {
     "name": "stdout",
     "output_type": "stream",
     "text": [
      "('stock_price',)\n",
      "('ticker_symbol', 'varchar(4)', 'YES', '', None, '')\n",
      "('price', 'int', 'YES', '', None, '')\n",
      "('stocks', 'int', 'YES', '', None, '')\n"
     ]
    }
   ],
   "source": [
    "#   Create table\n",
    "\n",
    "db = mysql.connect(\n",
    "    host=HOST,\n",
    "    user=USER,\n",
    "    password=PASSWORD,\n",
    "    database=DATABASE\n",
    ")\n",
    "\n",
    "cursor = db.cursor()\n",
    "CREATE_TABLE = 'CREATE TABLE stock_price (ticker_symbol VARCHAR(4), price INT, stocks INT)'\n",
    "\n",
    "cursor.execute(CREATE_TABLE)\n",
    "\n",
    "cursor.execute(\"SHOW TABLES\")\n",
    "for x in cursor:\n",
    "    print(x)\n",
    "\n",
    "\n",
    "cursor.execute(\"DESCRIBE stock_price\")\n",
    "for x in cursor:\n",
    "    print(x)"
   ]
  },
  {
   "cell_type": "code",
   "execution_count": 10,
   "metadata": {},
   "outputs": [],
   "source": [
    "#   Insert\n",
    "\n",
    "ticker_symbols = ['TATA','NVDA']\n",
    "price = [56, 120]\n",
    "stocks = [12, 45]\n",
    "\n",
    "query = \"INSERT INTO stock_price (ticker_symbol, price, stocks) VALUES (%s, %s, %s)\"\n",
    "\n",
    "for idx in range(0,2):\n",
    "    cursor.execute(query, (ticker_symbols[idx], price[idx], stocks[idx]))\n",
    "\n",
    "db.commit()"
   ]
  },
  {
   "cell_type": "code",
   "execution_count": 11,
   "metadata": {},
   "outputs": [
    {
     "name": "stdout",
     "output_type": "stream",
     "text": [
      "('TATA', 56, 12)\n",
      "('NVDA', 120, 45)\n"
     ]
    }
   ],
   "source": [
    "#   Select\n",
    "\n",
    "cursor.execute('SELECT * FROM stock_price')\n",
    "for x in cursor:\n",
    "    print(x)\n"
   ]
  },
  {
   "cell_type": "code",
   "execution_count": 12,
   "metadata": {},
   "outputs": [
    {
     "name": "stdout",
     "output_type": "stream",
     "text": [
      "('TATA', 56, 12)\n"
     ]
    }
   ],
   "source": [
    "#   Where\n",
    "\n",
    "cursor.execute(\"SELECT * FROM stock_price WHERE price = 56\")\n",
    "for x in cursor:\n",
    "    print(x)"
   ]
  },
  {
   "cell_type": "code",
   "execution_count": 13,
   "metadata": {},
   "outputs": [
    {
     "name": "stdout",
     "output_type": "stream",
     "text": [
      "('NVDA', 120, 45)\n",
      "('TATA', 56, 12)\n"
     ]
    }
   ],
   "source": [
    "#   Order by\n",
    "\n",
    "cursor.execute(\"SELECT * FROM stock_price ORDER BY price DESC\")\n",
    "for x in cursor:\n",
    "    print(x)"
   ]
  },
  {
   "cell_type": "code",
   "execution_count": 14,
   "metadata": {},
   "outputs": [
    {
     "name": "stdout",
     "output_type": "stream",
     "text": [
      "('TATA', 67, 12)\n",
      "('NVDA', 120, 45)\n"
     ]
    }
   ],
   "source": [
    "#   Update\n",
    "\n",
    "cursor.execute(\"UPDATE stock_price SET price = %s WHERE ticker_symbol = %s\", (67, 'TATA'))\n",
    "cursor.execute(\"SELECT * FROM stock_price\")\n",
    "for x in cursor:\n",
    "    print(x)\n"
   ]
  },
  {
   "cell_type": "code",
   "execution_count": 15,
   "metadata": {},
   "outputs": [],
   "source": [
    "#   Drop\n",
    "cursor.execute(\"DROP TABLE stock_price\")\n",
    "cursor.execute(\"SHOW TABLES\")\n",
    "for x in cursor:\n",
    "    print(x)"
   ]
  }
 ],
 "metadata": {
  "kernelspec": {
   "display_name": "Python 3",
   "language": "python",
   "name": "python3"
  },
  "language_info": {
   "codemirror_mode": {
    "name": "ipython",
    "version": 3
   },
   "file_extension": ".py",
   "mimetype": "text/x-python",
   "name": "python",
   "nbconvert_exporter": "python",
   "pygments_lexer": "ipython3",
   "version": "3.10.2"
  }
 },
 "nbformat": 4,
 "nbformat_minor": 2
}
