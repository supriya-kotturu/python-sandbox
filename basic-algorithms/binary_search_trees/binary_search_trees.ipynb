{
 "cells": [
  {
   "cell_type": "markdown",
   "metadata": {},
   "source": [
    "# Binary Search Tree\n",
    "\n",
    "This notebook explores the operations that can be performed on a Binary Search Trees\n"
   ]
  },
  {
   "cell_type": "code",
   "execution_count": 19,
   "metadata": {},
   "outputs": [],
   "source": [
    "class Node:\n",
    "    def __init__(self,data):\n",
    "        self.data = data\n",
    "        self.left = None\n",
    "        self.right = None\n",
    "\n",
    "\n",
    "    # insert node \n",
    "    def insert(self, data):\n",
    "        if(data < self.data):\n",
    "            if self.left is None:\n",
    "                self.left = Node(data)\n",
    "            else:\n",
    "                self.left.insert(data)\n",
    "        elif(data > self.data):\n",
    "            if self.right is None:\n",
    "                self.right = Node(data)\n",
    "            else:\n",
    "                self.right.insert(data)\n",
    "\n",
    "\n",
    "    # delete node\n",
    "    def delete(self,data):\n",
    "        if(data < self.data):\n",
    "            if (self.left is not None):\n",
    "                self.left = None\n",
    "            else:\n",
    "                self.left\n",
    "\n",
    "    \n",
    "    # inorder traversal:\n",
    "    def inorder(self):\n",
    "        if(self is None):\n",
    "            return []\n",
    "        else:\n",
    "            left = []\n",
    "            right = [] \n",
    "            middle = []\n",
    "            \n",
    "            if(self.left):\n",
    "                left =  self.left.inorder()\n",
    "            middle = [self.data]\n",
    "            if(self.right):\n",
    "                right = self.right.inorder()\n",
    "\n",
    "            return left + middle + right\n",
    "\n"
   ]
  },
  {
   "cell_type": "code",
   "execution_count": 21,
   "metadata": {},
   "outputs": [
    {
     "name": "stdout",
     "output_type": "stream",
     "text": [
      "None\n"
     ]
    }
   ],
   "source": [
    "class BST: \n",
    "    def __init__(self):\n",
    "        self.root = None\n",
    "\n",
    "    def insert(self, data):\n",
    "        if(self.root is None):\n",
    "            self.root = Node(data)\n",
    "        else:\n",
    "            self.root.insert(data)\n",
    "\n",
    "\n",
    "    # preorder traversal\n",
    "    def preorder(self, root):\n",
    "        if(root is None):\n",
    "            return\n",
    "        \n",
    "        print(root.data)\n",
    "        if(root.left is not None):\n",
    "            self.preorder(root.left)\n",
    "        if(root.right is not None):\n",
    "            self.preorder(root.right)\n",
    "\n",
    "\n",
    "    # inorder traversal\n",
    "    def inorder(self):\n",
    "        if(self.root is None):\n",
    "            return\n",
    "        else:\n",
    "            self.root.inorder()\n",
    "\n",
    "        \n",
    "\n",
    "\n",
    "bst = BST()\n",
    "bst.insert(45)\n",
    "bst.insert(34)\n",
    "bst.insert(4)\n",
    "bst.insert(14)\n",
    "\n",
    "# bst.preorder(bst.root)\n",
    "# bst.inorder(bst.root)\n",
    "print(bst.inorder())\n"
   ]
  }
 ],
 "metadata": {
  "kernelspec": {
   "display_name": "Python 3",
   "language": "python",
   "name": "python3"
  },
  "language_info": {
   "codemirror_mode": {
    "name": "ipython",
    "version": 3
   },
   "file_extension": ".py",
   "mimetype": "text/x-python",
   "name": "python",
   "nbconvert_exporter": "python",
   "pygments_lexer": "ipython3",
   "version": "3.10.2"
  }
 },
 "nbformat": 4,
 "nbformat_minor": 2
}
