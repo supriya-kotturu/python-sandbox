{
 "cells": [
  {
   "cell_type": "code",
   "execution_count": 1,
   "metadata": {
    "id": "q7SQBxrXIlYb"
   },
   "outputs": [],
   "source": [
    "import pandas as pd\n",
    "import numpy as np\n",
    "import matplotlib.pyplot as plt"
   ]
  },
  {
   "cell_type": "code",
   "execution_count": 2,
   "metadata": {
    "id": "X7xpYhuHJ6D6"
   },
   "outputs": [],
   "source": [
    "data =pd.read_csv('./data/salary-data.csv')"
   ]
  },
  {
   "cell_type": "code",
   "execution_count": 3,
   "metadata": {
    "colab": {
     "base_uri": "https://localhost:8080/",
     "height": 206
    },
    "executionInfo": {
     "elapsed": 171,
     "status": "ok",
     "timestamp": 1646547073190,
     "user": {
      "displayName": "sivabalan nagarajan",
      "photoUrl": "https://lh3.googleusercontent.com/a/default-user=s64",
      "userId": "02908043839111052378"
     },
     "user_tz": -330
    },
    "id": "BhvL0xY7KBI3",
    "outputId": "50783252-1ef1-46db-a6ae-158ab090b22b"
   },
   "outputs": [
    {
     "data": {
      "text/html": [
       "<div>\n",
       "<style scoped>\n",
       "    .dataframe tbody tr th:only-of-type {\n",
       "        vertical-align: middle;\n",
       "    }\n",
       "\n",
       "    .dataframe tbody tr th {\n",
       "        vertical-align: top;\n",
       "    }\n",
       "\n",
       "    .dataframe thead th {\n",
       "        text-align: right;\n",
       "    }\n",
       "</style>\n",
       "<table border=\"1\" class=\"dataframe\">\n",
       "  <thead>\n",
       "    <tr style=\"text-align: right;\">\n",
       "      <th></th>\n",
       "      <th>YearsExperience</th>\n",
       "      <th>Salary</th>\n",
       "    </tr>\n",
       "  </thead>\n",
       "  <tbody>\n",
       "    <tr>\n",
       "      <th>0</th>\n",
       "      <td>1.1</td>\n",
       "      <td>39343.0</td>\n",
       "    </tr>\n",
       "    <tr>\n",
       "      <th>1</th>\n",
       "      <td>1.3</td>\n",
       "      <td>46205.0</td>\n",
       "    </tr>\n",
       "    <tr>\n",
       "      <th>2</th>\n",
       "      <td>1.5</td>\n",
       "      <td>37731.0</td>\n",
       "    </tr>\n",
       "    <tr>\n",
       "      <th>3</th>\n",
       "      <td>2.0</td>\n",
       "      <td>43525.0</td>\n",
       "    </tr>\n",
       "    <tr>\n",
       "      <th>4</th>\n",
       "      <td>2.2</td>\n",
       "      <td>39891.0</td>\n",
       "    </tr>\n",
       "  </tbody>\n",
       "</table>\n",
       "</div>"
      ],
      "text/plain": [
       "   YearsExperience   Salary\n",
       "0              1.1  39343.0\n",
       "1              1.3  46205.0\n",
       "2              1.5  37731.0\n",
       "3              2.0  43525.0\n",
       "4              2.2  39891.0"
      ]
     },
     "execution_count": 3,
     "metadata": {},
     "output_type": "execute_result"
    }
   ],
   "source": [
    "data.head()"
   ]
  },
  {
   "cell_type": "code",
   "execution_count": 4,
   "metadata": {
    "colab": {
     "base_uri": "https://localhost:8080/"
    },
    "executionInfo": {
     "elapsed": 162,
     "status": "ok",
     "timestamp": 1646547073191,
     "user": {
      "displayName": "sivabalan nagarajan",
      "photoUrl": "https://lh3.googleusercontent.com/a/default-user=s64",
      "userId": "02908043839111052378"
     },
     "user_tz": -330
    },
    "id": "K3ibxvVnKGD9",
    "outputId": "7f9c63db-92ec-4cdf-98d8-22fab06eaab1"
   },
   "outputs": [
    {
     "name": "stdout",
     "output_type": "stream",
     "text": [
      "<class 'pandas.core.frame.DataFrame'>\n",
      "RangeIndex: 30 entries, 0 to 29\n",
      "Data columns (total 2 columns):\n",
      " #   Column           Non-Null Count  Dtype  \n",
      "---  ------           --------------  -----  \n",
      " 0   YearsExperience  30 non-null     float64\n",
      " 1   Salary           30 non-null     float64\n",
      "dtypes: float64(2)\n",
      "memory usage: 608.0 bytes\n"
     ]
    }
   ],
   "source": [
    "data.info()"
   ]
  },
  {
   "cell_type": "code",
   "execution_count": 5,
   "metadata": {
    "id": "edVDwMO8KSg_"
   },
   "outputs": [],
   "source": [
    "x=data['YearsExperience']  # features\n",
    "y= data['Salary']          # target"
   ]
  },
  {
   "cell_type": "code",
   "execution_count": 6,
   "metadata": {
    "colab": {
     "base_uri": "https://localhost:8080/"
    },
    "executionInfo": {
     "elapsed": 152,
     "status": "ok",
     "timestamp": 1646547073195,
     "user": {
      "displayName": "sivabalan nagarajan",
      "photoUrl": "https://lh3.googleusercontent.com/a/default-user=s64",
      "userId": "02908043839111052378"
     },
     "user_tz": -330
    },
    "id": "ZIRUHln5Kbzu",
    "outputId": "a366a7b4-e962-4b4f-9f69-a072cedfc60b"
   },
   "outputs": [
    {
     "data": {
      "text/plain": [
       "pandas.core.series.Series"
      ]
     },
     "execution_count": 6,
     "metadata": {},
     "output_type": "execute_result"
    }
   ],
   "source": [
    "type(x)"
   ]
  },
  {
   "cell_type": "code",
   "execution_count": 7,
   "metadata": {
    "id": "UYw9q85jLcHH"
   },
   "outputs": [],
   "source": [
    "x=data[['YearsExperience']] # x should always be a 2d input"
   ]
  },
  {
   "cell_type": "code",
   "execution_count": 8,
   "metadata": {
    "colab": {
     "base_uri": "https://localhost:8080/"
    },
    "executionInfo": {
     "elapsed": 144,
     "status": "ok",
     "timestamp": 1646547073198,
     "user": {
      "displayName": "sivabalan nagarajan",
      "photoUrl": "https://lh3.googleusercontent.com/a/default-user=s64",
      "userId": "02908043839111052378"
     },
     "user_tz": -330
    },
    "id": "5HRwBvgSLxKy",
    "outputId": "868e30c8-b7ea-415b-e43c-10fa17bdd03a"
   },
   "outputs": [
    {
     "data": {
      "text/plain": [
       "pandas.core.frame.DataFrame"
      ]
     },
     "execution_count": 8,
     "metadata": {},
     "output_type": "execute_result"
    }
   ],
   "source": [
    "type(x)"
   ]
  },
  {
   "cell_type": "code",
   "execution_count": 9,
   "metadata": {
    "colab": {
     "base_uri": "https://localhost:8080/"
    },
    "executionInfo": {
     "elapsed": 138,
     "status": "ok",
     "timestamp": 1646547073199,
     "user": {
      "displayName": "sivabalan nagarajan",
      "photoUrl": "https://lh3.googleusercontent.com/a/default-user=s64",
      "userId": "02908043839111052378"
     },
     "user_tz": -330
    },
    "id": "JKCcjaHGL2Y0",
    "outputId": "755f79bc-a3a8-4bdb-93fd-10cc7c7fc45f"
   },
   "outputs": [
    {
     "data": {
      "text/plain": [
       "(30, 1)"
      ]
     },
     "execution_count": 9,
     "metadata": {},
     "output_type": "execute_result"
    }
   ],
   "source": [
    "x.shape"
   ]
  },
  {
   "cell_type": "code",
   "execution_count": 10,
   "metadata": {
    "colab": {
     "base_uri": "https://localhost:8080/"
    },
    "executionInfo": {
     "elapsed": 136,
     "status": "ok",
     "timestamp": 1646547073203,
     "user": {
      "displayName": "sivabalan nagarajan",
      "photoUrl": "https://lh3.googleusercontent.com/a/default-user=s64",
      "userId": "02908043839111052378"
     },
     "user_tz": -330
    },
    "id": "Qu-Igu5FMSmz",
    "outputId": "a73df2e1-c353-49bb-b979-ba7486aef72e"
   },
   "outputs": [
    {
     "data": {
      "text/plain": [
       "(30,)"
      ]
     },
     "execution_count": 10,
     "metadata": {},
     "output_type": "execute_result"
    }
   ],
   "source": [
    "y.shape"
   ]
  },
  {
   "cell_type": "code",
   "execution_count": 11,
   "metadata": {},
   "outputs": [
    {
     "data": {
      "text/plain": [
       "pandas.core.series.Series"
      ]
     },
     "execution_count": 11,
     "metadata": {},
     "output_type": "execute_result"
    }
   ],
   "source": [
    "type(y)"
   ]
  },
  {
   "cell_type": "code",
   "execution_count": 12,
   "metadata": {
    "id": "o4uIb3PaMkdi"
   },
   "outputs": [],
   "source": [
    "# split the data into train and test\n",
    "from sklearn.model_selection import train_test_split\n",
    "xtrain , xtest, ytrain , ytest = train_test_split(x,y,train_size=0.8 ,random_state=1)"
   ]
  },
  {
   "cell_type": "code",
   "execution_count": 13,
   "metadata": {
    "colab": {
     "base_uri": "https://localhost:8080/",
     "height": 238
    },
    "executionInfo": {
     "elapsed": 131,
     "status": "ok",
     "timestamp": 1646547073207,
     "user": {
      "displayName": "sivabalan nagarajan",
      "photoUrl": "https://lh3.googleusercontent.com/a/default-user=s64",
      "userId": "02908043839111052378"
     },
     "user_tz": -330
    },
    "id": "q7z1VqodN8sJ",
    "outputId": "01bab720-73fc-4723-89b0-3d43e08c2307"
   },
   "outputs": [
    {
     "data": {
      "text/html": [
       "<div>\n",
       "<style scoped>\n",
       "    .dataframe tbody tr th:only-of-type {\n",
       "        vertical-align: middle;\n",
       "    }\n",
       "\n",
       "    .dataframe tbody tr th {\n",
       "        vertical-align: top;\n",
       "    }\n",
       "\n",
       "    .dataframe thead th {\n",
       "        text-align: right;\n",
       "    }\n",
       "</style>\n",
       "<table border=\"1\" class=\"dataframe\">\n",
       "  <thead>\n",
       "    <tr style=\"text-align: right;\">\n",
       "      <th></th>\n",
       "      <th>YearsExperience</th>\n",
       "    </tr>\n",
       "  </thead>\n",
       "  <tbody>\n",
       "    <tr>\n",
       "      <th>17</th>\n",
       "      <td>5.3</td>\n",
       "    </tr>\n",
       "    <tr>\n",
       "      <th>21</th>\n",
       "      <td>7.1</td>\n",
       "    </tr>\n",
       "    <tr>\n",
       "      <th>10</th>\n",
       "      <td>3.9</td>\n",
       "    </tr>\n",
       "    <tr>\n",
       "      <th>19</th>\n",
       "      <td>6.0</td>\n",
       "    </tr>\n",
       "    <tr>\n",
       "      <th>14</th>\n",
       "      <td>4.5</td>\n",
       "    </tr>\n",
       "    <tr>\n",
       "      <th>20</th>\n",
       "      <td>6.8</td>\n",
       "    </tr>\n",
       "  </tbody>\n",
       "</table>\n",
       "</div>"
      ],
      "text/plain": [
       "    YearsExperience\n",
       "17              5.3\n",
       "21              7.1\n",
       "10              3.9\n",
       "19              6.0\n",
       "14              4.5\n",
       "20              6.8"
      ]
     },
     "execution_count": 13,
     "metadata": {},
     "output_type": "execute_result"
    }
   ],
   "source": [
    "xtest"
   ]
  },
  {
   "cell_type": "code",
   "execution_count": 14,
   "metadata": {
    "id": "tCM5E32_OZBj"
   },
   "outputs": [],
   "source": [
    "#build the model\n",
    "from sklearn.linear_model import LinearRegression, LogisticRegression\n",
    "model =LinearRegression()"
   ]
  },
  {
   "cell_type": "code",
   "execution_count": 15,
   "metadata": {
    "colab": {
     "base_uri": "https://localhost:8080/"
    },
    "executionInfo": {
     "elapsed": 127,
     "status": "ok",
     "timestamp": 1646547073209,
     "user": {
      "displayName": "sivabalan nagarajan",
      "photoUrl": "https://lh3.googleusercontent.com/a/default-user=s64",
      "userId": "02908043839111052378"
     },
     "user_tz": -330
    },
    "id": "jAeTrPqpO6Ws",
    "outputId": "dbd8c285-0146-4f9b-d31c-9be90cad0154"
   },
   "outputs": [
    {
     "data": {
      "text/html": [
       "<style>#sk-container-id-1 {\n",
       "  /* Definition of color scheme common for light and dark mode */\n",
       "  --sklearn-color-text: black;\n",
       "  --sklearn-color-line: gray;\n",
       "  /* Definition of color scheme for unfitted estimators */\n",
       "  --sklearn-color-unfitted-level-0: #fff5e6;\n",
       "  --sklearn-color-unfitted-level-1: #f6e4d2;\n",
       "  --sklearn-color-unfitted-level-2: #ffe0b3;\n",
       "  --sklearn-color-unfitted-level-3: chocolate;\n",
       "  /* Definition of color scheme for fitted estimators */\n",
       "  --sklearn-color-fitted-level-0: #f0f8ff;\n",
       "  --sklearn-color-fitted-level-1: #d4ebff;\n",
       "  --sklearn-color-fitted-level-2: #b3dbfd;\n",
       "  --sklearn-color-fitted-level-3: cornflowerblue;\n",
       "\n",
       "  /* Specific color for light theme */\n",
       "  --sklearn-color-text-on-default-background: var(--sg-text-color, var(--theme-code-foreground, var(--jp-content-font-color1, black)));\n",
       "  --sklearn-color-background: var(--sg-background-color, var(--theme-background, var(--jp-layout-color0, white)));\n",
       "  --sklearn-color-border-box: var(--sg-text-color, var(--theme-code-foreground, var(--jp-content-font-color1, black)));\n",
       "  --sklearn-color-icon: #696969;\n",
       "\n",
       "  @media (prefers-color-scheme: dark) {\n",
       "    /* Redefinition of color scheme for dark theme */\n",
       "    --sklearn-color-text-on-default-background: var(--sg-text-color, var(--theme-code-foreground, var(--jp-content-font-color1, white)));\n",
       "    --sklearn-color-background: var(--sg-background-color, var(--theme-background, var(--jp-layout-color0, #111)));\n",
       "    --sklearn-color-border-box: var(--sg-text-color, var(--theme-code-foreground, var(--jp-content-font-color1, white)));\n",
       "    --sklearn-color-icon: #878787;\n",
       "  }\n",
       "}\n",
       "\n",
       "#sk-container-id-1 {\n",
       "  color: var(--sklearn-color-text);\n",
       "}\n",
       "\n",
       "#sk-container-id-1 pre {\n",
       "  padding: 0;\n",
       "}\n",
       "\n",
       "#sk-container-id-1 input.sk-hidden--visually {\n",
       "  border: 0;\n",
       "  clip: rect(1px 1px 1px 1px);\n",
       "  clip: rect(1px, 1px, 1px, 1px);\n",
       "  height: 1px;\n",
       "  margin: -1px;\n",
       "  overflow: hidden;\n",
       "  padding: 0;\n",
       "  position: absolute;\n",
       "  width: 1px;\n",
       "}\n",
       "\n",
       "#sk-container-id-1 div.sk-dashed-wrapped {\n",
       "  border: 1px dashed var(--sklearn-color-line);\n",
       "  margin: 0 0.4em 0.5em 0.4em;\n",
       "  box-sizing: border-box;\n",
       "  padding-bottom: 0.4em;\n",
       "  background-color: var(--sklearn-color-background);\n",
       "}\n",
       "\n",
       "#sk-container-id-1 div.sk-container {\n",
       "  /* jupyter's `normalize.less` sets `[hidden] { display: none; }`\n",
       "     but bootstrap.min.css set `[hidden] { display: none !important; }`\n",
       "     so we also need the `!important` here to be able to override the\n",
       "     default hidden behavior on the sphinx rendered scikit-learn.org.\n",
       "     See: https://github.com/scikit-learn/scikit-learn/issues/21755 */\n",
       "  display: inline-block !important;\n",
       "  position: relative;\n",
       "}\n",
       "\n",
       "#sk-container-id-1 div.sk-text-repr-fallback {\n",
       "  display: none;\n",
       "}\n",
       "\n",
       "div.sk-parallel-item,\n",
       "div.sk-serial,\n",
       "div.sk-item {\n",
       "  /* draw centered vertical line to link estimators */\n",
       "  background-image: linear-gradient(var(--sklearn-color-text-on-default-background), var(--sklearn-color-text-on-default-background));\n",
       "  background-size: 2px 100%;\n",
       "  background-repeat: no-repeat;\n",
       "  background-position: center center;\n",
       "}\n",
       "\n",
       "/* Parallel-specific style estimator block */\n",
       "\n",
       "#sk-container-id-1 div.sk-parallel-item::after {\n",
       "  content: \"\";\n",
       "  width: 100%;\n",
       "  border-bottom: 2px solid var(--sklearn-color-text-on-default-background);\n",
       "  flex-grow: 1;\n",
       "}\n",
       "\n",
       "#sk-container-id-1 div.sk-parallel {\n",
       "  display: flex;\n",
       "  align-items: stretch;\n",
       "  justify-content: center;\n",
       "  background-color: var(--sklearn-color-background);\n",
       "  position: relative;\n",
       "}\n",
       "\n",
       "#sk-container-id-1 div.sk-parallel-item {\n",
       "  display: flex;\n",
       "  flex-direction: column;\n",
       "}\n",
       "\n",
       "#sk-container-id-1 div.sk-parallel-item:first-child::after {\n",
       "  align-self: flex-end;\n",
       "  width: 50%;\n",
       "}\n",
       "\n",
       "#sk-container-id-1 div.sk-parallel-item:last-child::after {\n",
       "  align-self: flex-start;\n",
       "  width: 50%;\n",
       "}\n",
       "\n",
       "#sk-container-id-1 div.sk-parallel-item:only-child::after {\n",
       "  width: 0;\n",
       "}\n",
       "\n",
       "/* Serial-specific style estimator block */\n",
       "\n",
       "#sk-container-id-1 div.sk-serial {\n",
       "  display: flex;\n",
       "  flex-direction: column;\n",
       "  align-items: center;\n",
       "  background-color: var(--sklearn-color-background);\n",
       "  padding-right: 1em;\n",
       "  padding-left: 1em;\n",
       "}\n",
       "\n",
       "\n",
       "/* Toggleable style: style used for estimator/Pipeline/ColumnTransformer box that is\n",
       "clickable and can be expanded/collapsed.\n",
       "- Pipeline and ColumnTransformer use this feature and define the default style\n",
       "- Estimators will overwrite some part of the style using the `sk-estimator` class\n",
       "*/\n",
       "\n",
       "/* Pipeline and ColumnTransformer style (default) */\n",
       "\n",
       "#sk-container-id-1 div.sk-toggleable {\n",
       "  /* Default theme specific background. It is overwritten whether we have a\n",
       "  specific estimator or a Pipeline/ColumnTransformer */\n",
       "  background-color: var(--sklearn-color-background);\n",
       "}\n",
       "\n",
       "/* Toggleable label */\n",
       "#sk-container-id-1 label.sk-toggleable__label {\n",
       "  cursor: pointer;\n",
       "  display: block;\n",
       "  width: 100%;\n",
       "  margin-bottom: 0;\n",
       "  padding: 0.5em;\n",
       "  box-sizing: border-box;\n",
       "  text-align: center;\n",
       "}\n",
       "\n",
       "#sk-container-id-1 label.sk-toggleable__label-arrow:before {\n",
       "  /* Arrow on the left of the label */\n",
       "  content: \"▸\";\n",
       "  float: left;\n",
       "  margin-right: 0.25em;\n",
       "  color: var(--sklearn-color-icon);\n",
       "}\n",
       "\n",
       "#sk-container-id-1 label.sk-toggleable__label-arrow:hover:before {\n",
       "  color: var(--sklearn-color-text);\n",
       "}\n",
       "\n",
       "/* Toggleable content - dropdown */\n",
       "\n",
       "#sk-container-id-1 div.sk-toggleable__content {\n",
       "  max-height: 0;\n",
       "  max-width: 0;\n",
       "  overflow: hidden;\n",
       "  text-align: left;\n",
       "  /* unfitted */\n",
       "  background-color: var(--sklearn-color-unfitted-level-0);\n",
       "}\n",
       "\n",
       "#sk-container-id-1 div.sk-toggleable__content.fitted {\n",
       "  /* fitted */\n",
       "  background-color: var(--sklearn-color-fitted-level-0);\n",
       "}\n",
       "\n",
       "#sk-container-id-1 div.sk-toggleable__content pre {\n",
       "  margin: 0.2em;\n",
       "  border-radius: 0.25em;\n",
       "  color: var(--sklearn-color-text);\n",
       "  /* unfitted */\n",
       "  background-color: var(--sklearn-color-unfitted-level-0);\n",
       "}\n",
       "\n",
       "#sk-container-id-1 div.sk-toggleable__content.fitted pre {\n",
       "  /* unfitted */\n",
       "  background-color: var(--sklearn-color-fitted-level-0);\n",
       "}\n",
       "\n",
       "#sk-container-id-1 input.sk-toggleable__control:checked~div.sk-toggleable__content {\n",
       "  /* Expand drop-down */\n",
       "  max-height: 200px;\n",
       "  max-width: 100%;\n",
       "  overflow: auto;\n",
       "}\n",
       "\n",
       "#sk-container-id-1 input.sk-toggleable__control:checked~label.sk-toggleable__label-arrow:before {\n",
       "  content: \"▾\";\n",
       "}\n",
       "\n",
       "/* Pipeline/ColumnTransformer-specific style */\n",
       "\n",
       "#sk-container-id-1 div.sk-label input.sk-toggleable__control:checked~label.sk-toggleable__label {\n",
       "  color: var(--sklearn-color-text);\n",
       "  background-color: var(--sklearn-color-unfitted-level-2);\n",
       "}\n",
       "\n",
       "#sk-container-id-1 div.sk-label.fitted input.sk-toggleable__control:checked~label.sk-toggleable__label {\n",
       "  background-color: var(--sklearn-color-fitted-level-2);\n",
       "}\n",
       "\n",
       "/* Estimator-specific style */\n",
       "\n",
       "/* Colorize estimator box */\n",
       "#sk-container-id-1 div.sk-estimator input.sk-toggleable__control:checked~label.sk-toggleable__label {\n",
       "  /* unfitted */\n",
       "  background-color: var(--sklearn-color-unfitted-level-2);\n",
       "}\n",
       "\n",
       "#sk-container-id-1 div.sk-estimator.fitted input.sk-toggleable__control:checked~label.sk-toggleable__label {\n",
       "  /* fitted */\n",
       "  background-color: var(--sklearn-color-fitted-level-2);\n",
       "}\n",
       "\n",
       "#sk-container-id-1 div.sk-label label.sk-toggleable__label,\n",
       "#sk-container-id-1 div.sk-label label {\n",
       "  /* The background is the default theme color */\n",
       "  color: var(--sklearn-color-text-on-default-background);\n",
       "}\n",
       "\n",
       "/* On hover, darken the color of the background */\n",
       "#sk-container-id-1 div.sk-label:hover label.sk-toggleable__label {\n",
       "  color: var(--sklearn-color-text);\n",
       "  background-color: var(--sklearn-color-unfitted-level-2);\n",
       "}\n",
       "\n",
       "/* Label box, darken color on hover, fitted */\n",
       "#sk-container-id-1 div.sk-label.fitted:hover label.sk-toggleable__label.fitted {\n",
       "  color: var(--sklearn-color-text);\n",
       "  background-color: var(--sklearn-color-fitted-level-2);\n",
       "}\n",
       "\n",
       "/* Estimator label */\n",
       "\n",
       "#sk-container-id-1 div.sk-label label {\n",
       "  font-family: monospace;\n",
       "  font-weight: bold;\n",
       "  display: inline-block;\n",
       "  line-height: 1.2em;\n",
       "}\n",
       "\n",
       "#sk-container-id-1 div.sk-label-container {\n",
       "  text-align: center;\n",
       "}\n",
       "\n",
       "/* Estimator-specific */\n",
       "#sk-container-id-1 div.sk-estimator {\n",
       "  font-family: monospace;\n",
       "  border: 1px dotted var(--sklearn-color-border-box);\n",
       "  border-radius: 0.25em;\n",
       "  box-sizing: border-box;\n",
       "  margin-bottom: 0.5em;\n",
       "  /* unfitted */\n",
       "  background-color: var(--sklearn-color-unfitted-level-0);\n",
       "}\n",
       "\n",
       "#sk-container-id-1 div.sk-estimator.fitted {\n",
       "  /* fitted */\n",
       "  background-color: var(--sklearn-color-fitted-level-0);\n",
       "}\n",
       "\n",
       "/* on hover */\n",
       "#sk-container-id-1 div.sk-estimator:hover {\n",
       "  /* unfitted */\n",
       "  background-color: var(--sklearn-color-unfitted-level-2);\n",
       "}\n",
       "\n",
       "#sk-container-id-1 div.sk-estimator.fitted:hover {\n",
       "  /* fitted */\n",
       "  background-color: var(--sklearn-color-fitted-level-2);\n",
       "}\n",
       "\n",
       "/* Specification for estimator info (e.g. \"i\" and \"?\") */\n",
       "\n",
       "/* Common style for \"i\" and \"?\" */\n",
       "\n",
       ".sk-estimator-doc-link,\n",
       "a:link.sk-estimator-doc-link,\n",
       "a:visited.sk-estimator-doc-link {\n",
       "  float: right;\n",
       "  font-size: smaller;\n",
       "  line-height: 1em;\n",
       "  font-family: monospace;\n",
       "  background-color: var(--sklearn-color-background);\n",
       "  border-radius: 1em;\n",
       "  height: 1em;\n",
       "  width: 1em;\n",
       "  text-decoration: none !important;\n",
       "  margin-left: 1ex;\n",
       "  /* unfitted */\n",
       "  border: var(--sklearn-color-unfitted-level-1) 1pt solid;\n",
       "  color: var(--sklearn-color-unfitted-level-1);\n",
       "}\n",
       "\n",
       ".sk-estimator-doc-link.fitted,\n",
       "a:link.sk-estimator-doc-link.fitted,\n",
       "a:visited.sk-estimator-doc-link.fitted {\n",
       "  /* fitted */\n",
       "  border: var(--sklearn-color-fitted-level-1) 1pt solid;\n",
       "  color: var(--sklearn-color-fitted-level-1);\n",
       "}\n",
       "\n",
       "/* On hover */\n",
       "div.sk-estimator:hover .sk-estimator-doc-link:hover,\n",
       ".sk-estimator-doc-link:hover,\n",
       "div.sk-label-container:hover .sk-estimator-doc-link:hover,\n",
       ".sk-estimator-doc-link:hover {\n",
       "  /* unfitted */\n",
       "  background-color: var(--sklearn-color-unfitted-level-3);\n",
       "  color: var(--sklearn-color-background);\n",
       "  text-decoration: none;\n",
       "}\n",
       "\n",
       "div.sk-estimator.fitted:hover .sk-estimator-doc-link.fitted:hover,\n",
       ".sk-estimator-doc-link.fitted:hover,\n",
       "div.sk-label-container:hover .sk-estimator-doc-link.fitted:hover,\n",
       ".sk-estimator-doc-link.fitted:hover {\n",
       "  /* fitted */\n",
       "  background-color: var(--sklearn-color-fitted-level-3);\n",
       "  color: var(--sklearn-color-background);\n",
       "  text-decoration: none;\n",
       "}\n",
       "\n",
       "/* Span, style for the box shown on hovering the info icon */\n",
       ".sk-estimator-doc-link span {\n",
       "  display: none;\n",
       "  z-index: 9999;\n",
       "  position: relative;\n",
       "  font-weight: normal;\n",
       "  right: .2ex;\n",
       "  padding: .5ex;\n",
       "  margin: .5ex;\n",
       "  width: min-content;\n",
       "  min-width: 20ex;\n",
       "  max-width: 50ex;\n",
       "  color: var(--sklearn-color-text);\n",
       "  box-shadow: 2pt 2pt 4pt #999;\n",
       "  /* unfitted */\n",
       "  background: var(--sklearn-color-unfitted-level-0);\n",
       "  border: .5pt solid var(--sklearn-color-unfitted-level-3);\n",
       "}\n",
       "\n",
       ".sk-estimator-doc-link.fitted span {\n",
       "  /* fitted */\n",
       "  background: var(--sklearn-color-fitted-level-0);\n",
       "  border: var(--sklearn-color-fitted-level-3);\n",
       "}\n",
       "\n",
       ".sk-estimator-doc-link:hover span {\n",
       "  display: block;\n",
       "}\n",
       "\n",
       "/* \"?\"-specific style due to the `<a>` HTML tag */\n",
       "\n",
       "#sk-container-id-1 a.estimator_doc_link {\n",
       "  float: right;\n",
       "  font-size: 1rem;\n",
       "  line-height: 1em;\n",
       "  font-family: monospace;\n",
       "  background-color: var(--sklearn-color-background);\n",
       "  border-radius: 1rem;\n",
       "  height: 1rem;\n",
       "  width: 1rem;\n",
       "  text-decoration: none;\n",
       "  /* unfitted */\n",
       "  color: var(--sklearn-color-unfitted-level-1);\n",
       "  border: var(--sklearn-color-unfitted-level-1) 1pt solid;\n",
       "}\n",
       "\n",
       "#sk-container-id-1 a.estimator_doc_link.fitted {\n",
       "  /* fitted */\n",
       "  border: var(--sklearn-color-fitted-level-1) 1pt solid;\n",
       "  color: var(--sklearn-color-fitted-level-1);\n",
       "}\n",
       "\n",
       "/* On hover */\n",
       "#sk-container-id-1 a.estimator_doc_link:hover {\n",
       "  /* unfitted */\n",
       "  background-color: var(--sklearn-color-unfitted-level-3);\n",
       "  color: var(--sklearn-color-background);\n",
       "  text-decoration: none;\n",
       "}\n",
       "\n",
       "#sk-container-id-1 a.estimator_doc_link.fitted:hover {\n",
       "  /* fitted */\n",
       "  background-color: var(--sklearn-color-fitted-level-3);\n",
       "}\n",
       "</style><div id=\"sk-container-id-1\" class=\"sk-top-container\"><div class=\"sk-text-repr-fallback\"><pre>LinearRegression()</pre><b>In a Jupyter environment, please rerun this cell to show the HTML representation or trust the notebook. <br />On GitHub, the HTML representation is unable to render, please try loading this page with nbviewer.org.</b></div><div class=\"sk-container\" hidden><div class=\"sk-item\"><div class=\"sk-estimator fitted sk-toggleable\"><input class=\"sk-toggleable__control sk-hidden--visually\" id=\"sk-estimator-id-1\" type=\"checkbox\" checked><label for=\"sk-estimator-id-1\" class=\"sk-toggleable__label fitted sk-toggleable__label-arrow fitted\">&nbsp;&nbsp;LinearRegression<a class=\"sk-estimator-doc-link fitted\" rel=\"noreferrer\" target=\"_blank\" href=\"https://scikit-learn.org/1.5/modules/generated/sklearn.linear_model.LinearRegression.html\">?<span>Documentation for LinearRegression</span></a><span class=\"sk-estimator-doc-link fitted\">i<span>Fitted</span></span></label><div class=\"sk-toggleable__content fitted\"><pre>LinearRegression()</pre></div> </div></div></div></div>"
      ],
      "text/plain": [
       "LinearRegression()"
      ]
     },
     "execution_count": 15,
     "metadata": {},
     "output_type": "execute_result"
    }
   ],
   "source": [
    "#fit the model\n",
    "model.fit(xtrain , ytrain)"
   ]
  },
  {
   "cell_type": "code",
   "execution_count": 16,
   "metadata": {
    "id": "cD7mBH4tPJNr"
   },
   "outputs": [],
   "source": [
    "# testing ---predicting\n",
    "ypred = model.predict(xtest)"
   ]
  },
  {
   "cell_type": "code",
   "execution_count": 17,
   "metadata": {
    "id": "BMo0954QP2MT"
   },
   "outputs": [],
   "source": [
    "# compare y test and y pred "
   ]
  },
  {
   "cell_type": "code",
   "execution_count": 18,
   "metadata": {
    "colab": {
     "base_uri": "https://localhost:8080/"
    },
    "executionInfo": {
     "elapsed": 117,
     "status": "ok",
     "timestamp": 1646547073211,
     "user": {
      "displayName": "sivabalan nagarajan",
      "photoUrl": "https://lh3.googleusercontent.com/a/default-user=s64",
      "userId": "02908043839111052378"
     },
     "user_tz": -330
    },
    "id": "Fy7SRjyLP8XT",
    "outputId": "077fcecc-be7b-4192-b487-2375e1df4b61"
   },
   "outputs": [
    {
     "data": {
      "text/plain": [
       "array([83088., 98273., 63218., 93940., 61111., 91738.])"
      ]
     },
     "execution_count": 18,
     "metadata": {},
     "output_type": "execute_result"
    }
   ],
   "source": [
    " ytest.values"
   ]
  },
  {
   "cell_type": "code",
   "execution_count": 19,
   "metadata": {
    "colab": {
     "base_uri": "https://localhost:8080/"
    },
    "executionInfo": {
     "elapsed": 113,
     "status": "ok",
     "timestamp": 1646547073212,
     "user": {
      "displayName": "sivabalan nagarajan",
      "photoUrl": "https://lh3.googleusercontent.com/a/default-user=s64",
      "userId": "02908043839111052378"
     },
     "user_tz": -330
    },
    "id": "FKvtiqP9QLKV",
    "outputId": "fe6f48df-d7f5-4d3c-fa5a-f044c3b6b617"
   },
   "outputs": [
    {
     "data": {
      "text/plain": [
       "array([75074.50510972, 91873.8056381 , 62008.38247653, 81607.56642631,\n",
       "       67608.14931932, 89073.92221671])"
      ]
     },
     "execution_count": 19,
     "metadata": {},
     "output_type": "execute_result"
    }
   ],
   "source": [
    "ypred"
   ]
  },
  {
   "cell_type": "code",
   "execution_count": 20,
   "metadata": {
    "colab": {
     "base_uri": "https://localhost:8080/"
    },
    "executionInfo": {
     "elapsed": 109,
     "status": "ok",
     "timestamp": 1646547073214,
     "user": {
      "displayName": "sivabalan nagarajan",
      "photoUrl": "https://lh3.googleusercontent.com/a/default-user=s64",
      "userId": "02908043839111052378"
     },
     "user_tz": -330
    },
    "id": "Rm6PHnxtQTXZ",
    "outputId": "4f0271a7-2320-4324-d3e0-b2e461534198"
   },
   "outputs": [
    {
     "data": {
      "text/plain": [
       "numpy.ndarray"
      ]
     },
     "execution_count": 20,
     "metadata": {},
     "output_type": "execute_result"
    }
   ],
   "source": [
    "type(ypred)"
   ]
  },
  {
   "cell_type": "code",
   "execution_count": 21,
   "metadata": {
    "id": "qIb0gn9wQarm"
   },
   "outputs": [],
   "source": [
    "#calculate the accuracy using R2\n",
    "from sklearn.metrics import r2_score"
   ]
  },
  {
   "cell_type": "code",
   "execution_count": 22,
   "metadata": {
    "colab": {
     "base_uri": "https://localhost:8080/"
    },
    "executionInfo": {
     "elapsed": 106,
     "status": "ok",
     "timestamp": 1646547073219,
     "user": {
      "displayName": "sivabalan nagarajan",
      "photoUrl": "https://lh3.googleusercontent.com/a/default-user=s64",
      "userId": "02908043839111052378"
     },
     "user_tz": -330
    },
    "id": "HbHpzfjuhO_t",
    "outputId": "78235109-b59a-4311-c761-6ea5f33effae"
   },
   "outputs": [
    {
     "name": "stdout",
     "output_type": "stream",
     "text": [
      "0.7616681465472094\n"
     ]
    },
    {
     "data": {
      "text/plain": [
       "\"'The R-squared may need to be above 0.95 for a regression model \\nto be considered reliable.\""
      ]
     },
     "execution_count": 22,
     "metadata": {},
     "output_type": "execute_result"
    }
   ],
   "source": [
    "r2result = r2_score(ytest, ypred)\n",
    "print(r2result)\n",
    "''''The R-squared may need to be above 0.95 for a regression model \n",
    "to be considered reliable.'''"
   ]
  },
  {
   "cell_type": "code",
   "execution_count": 23,
   "metadata": {
    "id": "U7_WIGqPhpna"
   },
   "outputs": [],
   "source": [
    "#plot line of regression for training samples"
   ]
  },
  {
   "cell_type": "code",
   "execution_count": 24,
   "metadata": {
    "colab": {
     "base_uri": "https://localhost:8080/",
     "height": 265
    },
    "executionInfo": {
     "elapsed": 90,
     "status": "ok",
     "timestamp": 1646547073222,
     "user": {
      "displayName": "sivabalan nagarajan",
      "photoUrl": "https://lh3.googleusercontent.com/a/default-user=s64",
      "userId": "02908043839111052378"
     },
     "user_tz": -330
    },
    "id": "PvLHTBGth-7L",
    "outputId": "ff28e7f8-e1c0-4b87-cab3-8171fa1aca13"
   },
   "outputs": [
    {
     "data": {
      "image/png": "[encoded data removed]",
      "text/plain": [
       "<Figure size 640x480 with 1 Axes>"
      ]
     },
     "metadata": {},
     "output_type": "display_data"
    }
   ],
   "source": [
    "plt.scatter(xtrain,ytrain,color='red',s=12,label='actual data')\n",
    "plt.legend()\n",
    "plt.show()"
   ]
  },
  {
   "cell_type": "code",
   "execution_count": 25,
   "metadata": {
    "executionInfo": {
     "elapsed": 7,
     "status": "ok",
     "timestamp": 1649056179135,
     "user": {
      "displayName": "sivabalan nagarajan",
      "userId": "02908043839111052378"
     },
     "user_tz": -330
    },
    "id": "glkXuABgl0wr"
   },
   "outputs": [],
   "source": [
    "# all in one graph"
   ]
  },
  {
   "cell_type": "code",
   "execution_count": 26,
   "metadata": {
    "id": "ny0ygyv8id5V"
   },
   "outputs": [],
   "source": [
    "# line of regression for predicted data"
   ]
  },
  {
   "cell_type": "code",
   "execution_count": 27,
   "metadata": {
    "colab": {
     "base_uri": "https://localhost:8080/",
     "height": 265
    },
    "executionInfo": {
     "elapsed": 880,
     "status": "ok",
     "timestamp": 1646547074027,
     "user": {
      "displayName": "sivabalan nagarajan",
      "photoUrl": "https://lh3.googleusercontent.com/a/default-user=s64",
      "userId": "02908043839111052378"
     },
     "user_tz": -330
    },
    "id": "RJ8kB2n1jbkd",
    "outputId": "2b710f7e-dd2d-4d99-cecc-e95d5d3bd418"
   },
   "outputs": [
    {
     "data": {
      "image/png": "[encoded data removed]",
      "text/plain": [
       "<Figure size 640x480 with 1 Axes>"
      ]
     },
     "metadata": {},
     "output_type": "display_data"
    }
   ],
   "source": [
    "\n",
    "ypred_xtrain = model.predict(xtrain)\n",
    "plt.scatter(xtrain, ypred_xtrain ,color ='green',s=100 ,label='predicted data')\n",
    "plt.show()"
   ]
  },
  {
   "cell_type": "code",
   "execution_count": 28,
   "metadata": {
    "colab": {
     "base_uri": "https://localhost:8080/",
     "height": 265
    },
    "executionInfo": {
     "elapsed": 66,
     "status": "ok",
     "timestamp": 1646547074032,
     "user": {
      "displayName": "sivabalan nagarajan",
      "photoUrl": "https://lh3.googleusercontent.com/a/default-user=s64",
      "userId": "02908043839111052378"
     },
     "user_tz": -330
    },
    "id": "hEnnv7S6l9U9",
    "outputId": "4afcd37d-f38c-40a7-ca5c-a0c838b6a182"
   },
   "outputs": [
    {
     "data": {
      "image/png": "[encoded data removed]",
      "text/plain": [
       "<Figure size 640x480 with 1 Axes>"
      ]
     },
     "metadata": {},
     "output_type": "display_data"
    }
   ],
   "source": [
    "plt.scatter(xtrain,ytrain,color='red',s=100,label='actual data')\n",
    "plt.scatter(xtrain, ypred_xtrain ,color ='green',s=100 ,label='predicted data')\n",
    "plt.plot(xtrain,ypred_xtrain,color='blue',label='line of regression')\n",
    "\n",
    "plt.legend()\n",
    "plt.show()"
   ]
  },
  {
   "cell_type": "code",
   "execution_count": 29,
   "metadata": {
    "colab": {
     "base_uri": "https://localhost:8080/",
     "height": 269
    },
    "executionInfo": {
     "elapsed": 62,
     "status": "ok",
     "timestamp": 1646547074035,
     "user": {
      "displayName": "sivabalan nagarajan",
      "photoUrl": "https://lh3.googleusercontent.com/a/default-user=s64",
      "userId": "02908043839111052378"
     },
     "user_tz": -330
    },
    "id": "DuSfcxeAmv_R",
    "outputId": "77ed735f-0412-4af2-8d1c-ce88247566e8"
   },
   "outputs": [
    {
     "data": {
      "image/png": "[encoded data removed]",
      "text/plain": [
       "<Figure size 640x480 with 1 Axes>"
      ]
     },
     "metadata": {},
     "output_type": "display_data"
    }
   ],
   "source": [
    "# line of regresssion for testing sample\n",
    "ypred_xtest = model.predict(xtest)\n",
    "plt.scatter(xtest,ytest,color='red',s=100 , label='actual data')\n",
    "plt.scatter(xtest , ypred_xtest,color='green',s=100, label='predicted data')\n",
    "plt.plot(xtest,ypred_xtest, color='blue',label='line of regression')\n",
    "plt.legend()\n",
    "plt.show()\n"
   ]
  },
  {
   "cell_type": "code",
   "execution_count": 30,
   "metadata": {
    "colab": {
     "base_uri": "https://localhost:8080/"
    },
    "executionInfo": {
     "elapsed": 59,
     "status": "ok",
     "timestamp": 1646547074037,
     "user": {
      "displayName": "sivabalan nagarajan",
      "photoUrl": "https://lh3.googleusercontent.com/a/default-user=s64",
      "userId": "02908043839111052378"
     },
     "user_tz": -330
    },
    "id": "camsaZCYo32l",
    "outputId": "eb19686d-20b3-4dd3-adb9-205a451b7c4c"
   },
   "outputs": [
    {
     "name": "stdout",
     "output_type": "stream",
     "text": [
      "[9332.94473799] 25609.89799835482\n"
     ]
    }
   ],
   "source": [
    "#calculating m and c of y=mx+c , m is slope or coeffecient and c is y intercept\n",
    "m=model.coef_\n",
    "c=model.intercept_\n",
    "print(m,c)"
   ]
  },
  {
   "cell_type": "code",
   "execution_count": 31,
   "metadata": {
    "id": "kCgBDDpGp9jS"
   },
   "outputs": [],
   "source": [
    "# changing the accuracy of the prediction\n",
    "#xtrain , xtest, ytrain , ytest = train_test_split(x,y,train_size=0.8 ,random_state=0)\n",
    "# in this command change the random_state to either 1,2,3 and check the result\n",
    "\n",
    "# the above step can be automated by passing a huge value to random state and fetch the accuracy % to a list"
   ]
  },
  {
   "cell_type": "code",
   "execution_count": 32,
   "metadata": {
    "id": "qbgM4fOAu-VI"
   },
   "outputs": [],
   "source": [
    "# create a list to fetch the accuracy result\n",
    "accuracy_list=[]\n",
    "for i in range(1000):\n",
    "    xtrain,xtest, ytrain , ytest = train_test_split(x,y,train_size=0.8 ,random_state=i)\n",
    "    model =LinearRegression()\n",
    "    model.fit(xtrain , ytrain)\n",
    "    ypred = model.predict(xtest)\n",
    "    r2result = r2_score(ytest, ypred)\n",
    "    accuracy_list.append(r2result)\n"
   ]
  },
  {
   "cell_type": "code",
   "execution_count": 33,
   "metadata": {
    "colab": {
     "base_uri": "https://localhost:8080/"
    },
    "executionInfo": {
     "elapsed": 76,
     "status": "ok",
     "timestamp": 1646547078893,
     "user": {
      "displayName": "sivabalan nagarajan",
      "photoUrl": "https://lh3.googleusercontent.com/a/default-user=s64",
      "userId": "02908043839111052378"
     },
     "user_tz": -330
    },
    "id": "LzPSY0e3wTOB",
    "outputId": "9f1f6da4-2244-4268-a54d-566607f5f5ca"
   },
   "outputs": [
    {
     "name": "stdout",
     "output_type": "stream",
     "text": [
      "[0.988169515729126, 0.7616681465472094, 0.8886956733784565, 0.9695039421049821, 0.9504404484884267, 0.9439628569611375, 0.9368146227107088, 0.8143022783109006, 0.9631182154839476, 0.9388416537799072, 0.9816423482070253, 0.940882728477622, 0.9429269163491423, 0.9394460269118793, 0.9606215790278543, 0.8697012433817218, 0.7949890249259297, 0.9384744808306155, 0.8864330645841889, 0.9415531751862448, 0.9441299149555877, 0.9398582853702572, 0.8870702615446783, 0.9184170849214232, 0.9520702017424296, 0.9531732818427658, 0.9835849730044816, 0.9636425773684423, 0.9217841352107623, 0.9467172742609803, 0.9944092048209745, 0.8967649524853984, 0.8985995727228404, 0.9350785573211586, 0.9244141448042442, 0.8839476512584652, 0.955021106900739, 0.9778242092591888, 0.972479448737762, 0.9928344802911048, 0.7775083459037235, 0.9802519469633169, 0.9024461774180497, 0.8688045158887867, 0.934951117043928, 0.9250487875802145, 0.9789129767378081, 0.9839919389056401, 0.980277279178695, 0.9497670285223545, 0.8824679635169839, 0.9608624689052039, 0.9743646706957548, 0.9501154883629506, 0.9492729968840661, 0.8924137091604109, 0.9804067424885895, 0.809635146935763, 0.4815220524569873, 0.9547990109846669, 0.9139925364405546, 0.9505222881477348, 0.9719509793938972, 0.9582008985104701, 0.9140067830429534, 0.811270086006565, 0.7782285644532063, 0.9588832495320916, 0.9791787060652751, 0.8711824073761935, 0.9429397733426299, 0.9694792167947474, 0.9562771755752736, 0.981214310330871, 0.9618591691900452, 0.9652242905568412, 0.8468270318540349, 0.9782012346646264, 0.9861836585536035, 0.9806625667591384, 0.9356346952232668, 0.9760426364249574, 0.9561094647440507, 0.953240654259053, 0.9535679874886691, 0.977173992682254, 0.9743110017459554, 0.9534669191518677, 0.9770761663991681, 0.9744265816506664, 0.9676701872390631, 0.5524142829082106, 0.9793995823406392, 0.9682219576297961, 0.9676991009836634, 0.9059754831220264, 0.9359396033635742, 0.9537039102493191, 0.3397513854022737, 0.9102354571044845, 0.9720725422361338, 0.993422386435995, 0.9514303308376894, 0.993951370348244, 0.923551573304823, 0.942305013171397, 0.948036562674564, 0.9167407278644975, 0.9581214060756787, 0.974143810559606, 0.9458719613187272, 0.9140896140716743, 0.9744533591342565, 0.7067080298759723, 0.8969184343196762, 0.9643784690800865, 0.9809041874061502, 0.9624544504513641, 0.9403605009491255, 0.9569237636359416, 0.969201601811706, 0.9426102773227346, 0.8314282027856672, 0.9711590965698118, 0.959425996638188, 0.8853691773789206, 0.9351781113190845, 0.88713702109919, 0.8816634513963472, 0.9766134443801546, 0.9693237228921454, 0.9628150835061432, 0.9353949018583007, 0.9709691542389867, 0.9035398966004998, 0.9741726420842486, 0.957842520171026, 0.9711354452524612, 0.8694650910857331, 0.9546561177635546, 0.9758329776898194, 0.9450380685152898, 0.9559923177407321, 0.964933658486602, 0.9448507972795978, 0.844965000029796, 0.5822280600077009, 0.9478316304839808, 0.9075029901638413, 0.9516106361115769, 0.9596167623070662, 0.9402503517787065, 0.8957631087832572, 0.9145394103280926, 0.9426402309990841, 0.9518369325259827, 0.933793219956961, 0.9843512789791997, 0.9585524727702663, 0.9780987254510393, 0.9621705643828616, 0.949444823144052, 0.9200482925733225, 0.94994563232073, 0.9555715853779447, 0.8839908155845717, 0.9305836440315953, 0.9932156213730909, 0.9864154376087744, 0.9513552895244857, 0.8773894469882996, 0.960929979295671, 0.9201348920476703, 0.9044203412945565, 0.9614687354107081, 0.9669073401764426, 0.8843691365028534, 0.8976424872331359, 0.9502545043219972, 0.8927546777449028, 0.9629485298775463, 0.7440224096019279, 0.9172878674673552, 0.976156008155332, 0.9685177747353091, 0.8823148255766505, 0.9634854326525794, 0.7788592737857019, 0.9254482470869076, 0.8872094764399351, 0.9478290543549621, 0.9376525545746504, 0.6075719619008022, 0.9407957279953787, 0.9505478201330253, 0.951419220195714, 0.9623404402868286, 0.9680210264507269, 0.9821278944501098, 0.9043638161837544, 0.9952429110093546, 0.9574899187661282, 0.9906524413209953, 0.9482503595698928, 0.9647766965261255, 0.9494339723924751, 0.9157179140109509, 0.9663509078659444, 0.9805909492370417, 0.8767618756965904, 0.9062046482988906, 0.9501209102439497, 0.9515727163406867, 0.9349561564235962, 0.42322027491470726, 0.9628724892712616, 0.8977817993201394, 0.9618961564380784, 0.9653156219786904, 0.9528659580761882, 0.9612823827734808, 0.9329164770976629, 0.976523249176461, 0.9574763758899382, 0.9626667015805849, 0.9387654047932767, 0.9748393431398527, 0.93832129615285, 0.9249320758180195, 0.9390586506255431, 0.9537671927002505, 0.9578955059593178, 0.9821531726157032, 0.8802490427653341, 0.9400380805593752, 0.9506840140225761, 0.9240203987172712, 0.96069794282716, 0.9557364730110924, 0.931543924532029, 0.9545758377518041, 0.9508540777006826, 0.9752893678304031, 0.9694451439354064, 0.9063631622439331, 0.9445465850668773, 0.9422466156971665, 0.9689097172430862, 0.9483473444970703, 0.9677654478381044, 0.8888932290918311, 0.9397924907779216, 0.9702346045953483, 0.9842569785332597, 0.9474569382824549, 0.9401026714509406, 0.9553041067326024, 0.9887014555518095, 0.9249483001266275, 0.9801241683705093, 0.8827913206666979, 0.936790827910295, 0.9437159112219031, 0.9575703835213646, 0.9276186014844053, 0.9094343639020072, 0.8180546128860345, 0.9580711077077905, 0.8629195023134444, 0.8939000539996173, 0.9258011670995567, 0.9723662701717581, 0.9240388343632948, 0.9514218884351788, 0.9286663865985184, 0.915977653412763, 0.934294156342874, 0.8510306040950117, 0.9313387951265095, 0.8962467925227375, 0.8582528171086797, 0.9386936970053863, 0.9644682536114649, 0.9671688815456763, 0.9569677288711765, 0.9686286434665914, 0.968130737754169, 0.9584963768110077, 0.9284391238003984, 0.8709522316877528, 0.8998260743075644, 0.9828929197755568, 0.913177990512414, 0.9103842809431602, 0.9620915954900193, 0.8224364077189524, 0.9747424830242787, 0.9678780881362677, 0.9771569669145379, 0.9237622740490861, -2.175274357832557, 0.9782741040339776, 0.9827282185048205, 0.9832970238943499, 0.9868137587268364, 0.9228797371934636, 0.9241953831328015, 0.9706829077505805, 0.9734828712263711, 0.9668318629149866, 0.9755453723566424, 0.9717199946773938, 0.8952012705427325, 0.9345232296884088, 0.9018764358154756, 0.9553217976056722, 0.961770642601842, 0.9420311956797234, 0.9289407262064421, 0.9655705070629778, 0.9604782062347975, 0.9290148357619183, 0.988024925310538, 0.9421321136934616, 0.9848192060235849, 0.9582033915914415, 0.9765888431364823, 0.8523219589927007, 0.9527535376592942, 0.9364773378148156, 0.9750335178364884, 0.9197261800045895, 0.9611092645555072, 0.9421901163257497, 0.9568229413474396, 0.9624934239394792, 0.9442032416197734, 0.9415967828419688, 0.8741621911554218, 0.91879278127018, 0.8777336855392486, 0.77417380188522, 0.4927649907153494, 0.9174129229623054, 0.913632186052151, 0.9623661311342274, 0.9721335782446513, 0.9452693088190398, 0.94906599049595, 0.9800872513980994, 0.9536200175966912, 0.9839317794607522, 0.9702537977119801, 0.9317041744112311, 0.9711845434063585, 0.9232168583317828, 0.9677797267999915, 0.9364178127970496, 0.9586270780141151, 0.9117865447831565, 0.9072305797372391, 0.9288080716567694, 0.9395304557094496, 0.9455928882501519, 0.8663479360216312, 0.90222423303666, 0.9384180729718122, 0.9153822642434364, 0.8640038996961943, 0.9731386892832472, 0.9675044986151414, 0.9763615359455476, 0.7754633680831431, 0.8579028661970863, 0.8178553082974258, 0.9451418283007481, 0.9755336334699207, 0.8927957253962784, -0.12038325518752369, 0.9478327463320066, 0.9149908029824452, 0.965846997843408, 0.9567435049194214, 0.9290982417876945, 0.9060402715057205, 0.9418842526313294, 0.9372279384965195, 0.9722819435903672, 0.9632625173645575, 0.9767388481902819, 0.9329434467250439, 0.9679219660859564, 0.9452313733736595, 0.8492724942099856, 0.95212429598111, 0.9610021436153754, 0.9201700537747247, 0.8316851791302221, 0.7418275789432853, 0.9417598439045696, 0.9898434390588872, 0.9767827249581711, 0.8885681046263565, 0.939027512368197, 0.9417898937084337, 0.9700666177666281, 0.914496375633173, 0.9569552519415891, 0.9506261936336418, 0.9738809199309473, 0.9562936554075491, 0.9521495213183243, 0.9233520431912321, 0.9762981408435532, 0.9362131576104327, 0.9526078313488782, 0.9287582434289874, 0.9149879005916816, 0.9374701392819709, 0.9477399563525247, 0.9823751294462939, 0.9628174543536127, 0.9307783431484525, 0.8405934469306451, 0.9524927528629347, 0.9584993488485485, 0.9696458072304073, 0.9432752536744781, 0.6889784969517632, 0.8872254193412725, 0.975037829172383, -0.16474183748777427, 0.9433008990265421, 0.9775914736367702, 0.9451642883888033, 0.8459718769645332, 0.9758259120366866, 0.9640496752989667, 0.9632572060781348, 0.926340726855575, 0.8239534370082878, 0.8808927348644479, 0.9069078118126628, 0.870532477878796, 0.9203652315176376, 0.9497201211175037, 0.9449143349401226, 0.9694411777911821, 0.8664326770330526, 0.9827173515096721, 0.9584672351750041, 0.9376964418573707, 0.9721574945710459, 0.9305025488469474, 0.9325237351154199, 0.9198758699403128, 0.9379586850369461, 0.9627671465013857, 0.9746885156297657, 0.9388776097661393, 0.8022547284289652, 0.9846725654835888, 0.9572487893087314, 0.9774459918785455, 0.8957590637668914, 0.9371022180493387, 0.9628022627176109, 0.9901641327766026, 0.9227907294033851, 0.8934351800519259, 0.961671748226427, 0.9626803243941433, 0.9422036608385017, 0.9496469403244372, 0.9280748703099433, 0.9686776645323301, 0.9089645972300915, 0.9200418295723104, 0.9466854541704197, 0.9396761172666035, 0.892815565409324, 0.9506312178510892, 0.9361846293702507, 0.9670461229645954, 0.9003236750410633, 0.9357786181886608, 0.9492298370776889, 0.9672211781816686, 0.47030041761941443, 0.8693981713910438, 0.8049523574997428, 0.9808152835202145, 0.9606849543645315, 0.8921759578899421, 0.9519106868096108, 0.8236978985135599, 0.9446111008218258, 0.9789836285697657, 0.9626062626007694, 0.8272933043147526, 0.9423807325268492, 0.5341277419116585, 0.9625697580486694, 0.9370710672705311, 0.968800828488439, 0.8707576090443222, 0.8927058977550412, 0.9095944399133462, 0.9436759430962954, 0.9788418034133417, 0.9795020214269874, 0.8860719227269691, 0.9667878167590427, 0.8934589515850936, 0.7880815721071617, 0.9193110415699464, 0.980189986610669, 0.9755072899845885, 0.9159454211696545, 0.9583996864783677, 0.9620960171305601, 0.9819682413906201, 0.9559718217916736, 0.9451191568286068, 0.9179089049437799, 0.911232022243978, 0.9405405809011685, 0.9538687230265789, 0.9848994015907195, 0.9458103275865942, 0.9715760991250979, 0.9490087188529919, 0.8929178794311817, 0.8356008230402168, 0.9574543233352043, 0.9319659172203952, 0.9178372968741659, 0.9375549682745848, 0.9294540103422095, 0.8615952153620354, 0.9396450849669981, 0.9245457454818625, 0.9446797084032811, 0.9969626143077172, 0.9203426277107891, 0.853681953537638, 0.965343542419411, 0.9248307210826989, 0.9703417910285309, 0.9451648251624104, 0.9687348489702843, 0.9250240443903603, 0.9800866536116801, 0.9553180382799751, 0.8468482175587946, 0.9753601208386771, 0.9287540094733002, 0.9374053266957032, 0.8792107090481546, 0.894021333761955, 0.9718997502508852, 0.9393180898787475, 0.9902670901137737, 0.9036646128769367, 0.5778977680349873, 0.9629055802206097, 0.9353991597506015, 0.9641619097004344, 0.9541603737674044, 0.9153422977050082, 0.9621103376891232, 0.9537279948266103, 0.9467642043155237, 0.9466890743586983, 0.7073767298859426, 0.9011319187752425, 0.9080615948368768, 0.9839943254859473, 0.9800583474019097, 0.9849973752711736, 0.9321058378154456, 0.9710260833803692, 0.964763408020785, 0.9347829565192001, 0.9546019669318404, 0.9662222090575951, 0.7357148589399558, 0.883113615314462, 0.9007121938113452, 0.956432492195764, 0.9573326654856475, 0.8861974027695264, 0.9208104335492732, 0.9660208059926182, 0.9474030460684443, 0.8530897001710069, 0.9598542835582576, 0.8413686320053041, 0.8565115013697542, 0.9251337870437063, 0.9016533989404518, 0.9605938835210031, 0.9593615784853198, 0.926062498093922, 0.9847100419547572, 0.9793042076102768, 0.9214401360489413, 0.9670991348214946, 0.9741355342640969, 0.9493137814014116, 0.9532788370194566, 0.9677621138202007, 0.8580594487852391, 0.9575284827866684, 0.9430903177038523, 0.871104345774096, 0.7950316286730233, 0.9530228284789894, 0.8287032700931048, 0.8736561859807614, 0.9316747188638009, 0.9748727396368181, 0.9367960584548187, 0.8811585570699526, 0.9492146459741009, 0.9572959064161317, 0.9324372359734084, 0.932307992111821, 0.9369102558946588, 0.9805313265632065, 0.9573496000538803, 0.9826104254492398, 0.9906858986164085, 0.9088026214486704, 0.911708413516058, 0.9268469214985319, 0.9414785180640347, 0.7730278295623014, 0.9630724551556088, 0.9653297278338526, 0.9165140627803875, 0.9422205131146905, 0.9550588331756479, 0.947716312294151, 0.9264152717952154, 0.9747172986622091, 0.908968832134319, 0.9274274027229727, 0.8818181452816809, 0.9716232272103968, 0.9320925365130739, 0.9252658262473697, 0.9796550644168873, 0.8940280602697069, 0.9196589355261383, 0.9660665479377885, 0.9667562491681018, 0.9553019393623179, 0.9842518385079428, 0.9531954046372427, 0.9865143051766097, 0.8196624325287438, 0.33449133341444304, 0.9474721713843287, 0.8874558644921968, 0.9513834232068243, 0.9536770372463365, 0.7788491352637356, 0.8947368252368746, 0.9284242821263482, 0.9874155800110458, 0.9760369130706567, 0.9125892248282668, 0.7417803724171229, 0.9258464942695392, 0.9626711260364619, 0.827017362862368, 0.8970855383675048, 0.9247009662920953, 0.959632746286622, 0.9346988805873729, 0.9590834413860571, 0.9507935318459654, 0.5477990787111477, 0.9720406490284106, 0.9341100524226861, 0.9717910556500209, 0.9556108593377165, 0.9435006080802293, 0.915500355318466, 0.9613416885598628, 0.9703659219097831, 0.9166527194621167, 0.9678391428896278, 0.9679030886348975, 0.9172258725213683, 0.8735387198698221, 0.9714058458639794, 0.9044148281511839, 0.94477909395162, 0.7879935096061559, 0.9124017139171481, 0.9185948199931228, 0.9694716917615688, 0.9397052724876108, 0.9324484982454256, 0.967960757350355, 0.6435137423507482, 0.8901600756230291, 0.9453261655150065, -4.703895027849656, 0.9705185877186248, 0.9474004438452848, 0.8818584086638195, 0.9286447492256937, 0.9232890510473, 0.9531476300563202, 0.9733337133469917, 0.9685744239261471, 0.9238718983845855, 0.4265812632001622, 0.882176870106404, 0.9821378551152633, 0.9239149983547849, 0.924341058124809, 0.9746294381933703, 0.9655716018258157, 0.9095529103175576, 0.9800397777726697, 0.9512521990991137, 0.9321710021455307, 0.8691627868495562, -1.612359836664453, 0.9236605931129265, 0.9461429499709457, 0.9809334462865393, 0.9424795018536941, 0.9230694117880271, 0.9667915871346439, 0.9542893061589602, 0.8290887233108911, 0.9359201997906554, 0.909463463129715, 0.9688376045490087, 0.6762122837241933, 0.9519117030839388, 0.8451610109291098, 0.9078549319377163, 0.9134974319546784, 0.9617261259208943, 0.8869601825174971, 0.916846285034455, 0.972520964611564, 0.9230979642389947, 0.9026085523993649, 0.9803490120179892, 0.918508539490047, 0.9182808385593867, 0.9467825466045802, 0.9097684990955741, 0.9813340047082014, 0.9072823464937968, 0.7846955231951259, 0.9410144410636017, 0.9506296019811682, 0.9680600171254548, 0.948038029678424, 0.9178233345693153, 0.9615552207161862, 0.9220028574492534, 0.9712704124571909, 0.9722391891549718, 0.9508408768218614, 0.9411050645722544, 0.9562291277276684, 0.915201119901584, 0.8761454910427445, 0.9581696664098647, 0.9486103212957981, 0.9117420398581344, 0.9706499138482259, 0.951963498684143, 0.9823602482002123, 0.9660954471973039, 0.9186945089433181, 0.16177689107317628, 0.8913440416037777, 0.9475080654056147, 0.9388477233944852, 0.8246578900241779, 0.9804349972985741, 0.9328279693738364, 0.9261337321374286, 0.8697936085447693, 0.9862739089579583, 0.960196885300784, 0.8750965481421714, 0.9424532708423978, 0.9777441168333517, 0.9255782806940138, 0.7425771269332582, 0.9341156484693863, 0.9166517852394217, 0.9350891956206432, 0.9583221027657336, 0.9592986756995828, 0.9552411299959358, 0.8876692836438573, 0.9789615053766036, 0.9567931020711615, 0.8272044344999971, 0.8951693970183819, 0.9596902074163899, 0.9485159857769885, 0.884392387157638, 0.9185432408713732, 0.810234975801577, 0.9918048646059987, 0.9352586120454286, 0.9453713184171785, 0.9231645870143115, 0.9300481455958627, 0.9807355975851538, 0.8698225971565224, 0.9356749764429559, 0.9157634924671473, 0.966471588957575, 0.9882739867930922, 0.9609320331032158, 0.9271995121780492, 0.9592279226044743, 0.8989934732657678, 0.9055607884646898, 0.8576494023975337, 0.9315859705665342, 0.9454195388195801, 0.9304247905474018, 0.810841275794802, 0.9531267806075827, 0.9610855221431444, 0.9410141207239751, 0.9191538033273708, 0.9563884524836818, 0.979025837472473, 0.9395804741976437, 0.9815450188959574, 0.9740585941969339, 0.9768245676815586, 0.9345948971855489, 0.9328908393222156, 0.9633173649750879, 0.9700671364265533, 0.9640047185687584, 0.9274004345970388, 0.9043738553198624, 0.9858336172264318, 0.9661506618180161, 0.9558814141573142, 0.9472494374501792, 0.9628476944831741, 0.6553837702867374, 0.975626735067883, 0.9730988693449953, 0.8978992401859369, 0.6782015872614777, 0.8949190559379536, 0.9259980478069402, 0.9330077524940776, 0.9815730844263426, 0.864495015723264, 0.9642985808764544, 0.9678031232259136, 0.9907845722087265, 0.9093299329078212, 0.863623953855099, 0.9023882059670665, 0.9579302562994899, 0.9674031087606845, 0.9333928787688233, 0.8859016721694866, 0.9347699873525179, 0.9741242653035922, 0.9673270051595625, 0.9049111243010914, 0.960623571087481, 0.9878331442133956, 0.9473773627572841, 0.5338430652009033, 0.9481058670012783, 0.920425287785012, 0.9697937802109571, -0.7278396565780847, 0.9499001965319859, 0.9186766726462209, 0.9098994886128541, 0.9768975128571273, 0.9392697429384421, 0.8976170988350489, 0.9320924187665183, 0.8238468980380996, 0.9657174121472181, 0.9710588352611398, 0.9693881869077462, 0.9144160052557725, 0.9420532309839498, 0.9215088934827369, 0.9885572759378118, 0.9150036685078625, 0.912990269493103, 0.8661085365640789, 0.9469847394472902, 0.9624342725999893, 0.9500558050867962, 0.8841429580611884, 0.9061379018994437, 0.9502229507572498, 0.9724545588160051, 0.993936328245946, 0.9697689564605961, 0.9837578090800082, 0.980899143383815, 0.9623810142025581, -1.853839111300268, 0.9406244982871935, 0.9181716425037043, 0.9219689816970844, 0.9624775585698903, 0.9607051018976505, 0.9738824488149536, 0.9233777512964202, 0.9639663736540254, 0.958541697169241, 0.9799334532636735, 0.8199712156201668, 0.9177232061724263, 0.8973681371241345, 0.8856453290421529, 0.9690622186006214, 0.8843062516149605, 0.9416909461387619, 0.9586793832486532, 0.9473281998706775, 0.96562942594148, 0.9240754999594049, 0.9588031185448085, 0.9589382047889163, 0.9707005095330686, 0.6910037180898915, 0.9762648421759171, 0.9553776026357086, 0.9042645088004798, 0.9772443849998477, 0.9610231014812723, 0.9593206474361993, 0.9715642978479702, 0.9663953270382615, 0.9684871766567913, 0.963568493487432, 0.9303604797612035, 0.9332175508557613, 0.9350569736586123, 0.8106334700521366, 0.9621246857572422, 0.957790072975979, 0.8664089638007796, 0.9538910475674496, 0.9236740896662866, 0.9777942437281025, 0.9163509961476484, 0.9847192895327423, 0.9536618548120445, 0.9854934694082944, 0.9466325803430597, 0.9757689087448463, 0.8661246173530779, 0.9438715469734503, 0.9591583779038217, 0.9472816711605883, 0.961388468459876, 0.98508899628466, 0.8312021007821169, 0.9487639151550842, 0.8695706854145353, 0.9872964512129854, 0.9493407308635767, 0.9672883794710768, 0.9773781439814536, 0.9529149241487506, 0.9327854659520325, 0.9073350084484484, 0.9319542825541854, 0.9701842775209298, 0.9147383702454277, 0.9444717757487134, 0.9045643486591679, 0.9436331974817302, 0.9560661042373898, 0.9402176815582463, 0.9940046138219651, 0.9535092863982116]\n"
     ]
    }
   ],
   "source": [
    "print(accuracy_list)"
   ]
  },
  {
   "cell_type": "code",
   "execution_count": 34,
   "metadata": {
    "colab": {
     "base_uri": "https://localhost:8080/"
    },
    "executionInfo": {
     "elapsed": 68,
     "status": "ok",
     "timestamp": 1646547078894,
     "user": {
      "displayName": "sivabalan nagarajan",
      "photoUrl": "https://lh3.googleusercontent.com/a/default-user=s64",
      "userId": "02908043839111052378"
     },
     "user_tz": -330
    },
    "id": "X8vK_esbwXWS",
    "outputId": "c1cea007-9b5c-4d2d-fa84-8d16324b697a"
   },
   "outputs": [
    {
     "data": {
      "text/plain": [
       "np.float64(0.9969626143077172)"
      ]
     },
     "execution_count": 34,
     "metadata": {},
     "output_type": "execute_result"
    }
   ],
   "source": [
    "np.max(accuracy_list)"
   ]
  },
  {
   "cell_type": "code",
   "execution_count": 35,
   "metadata": {
    "colab": {
     "base_uri": "https://localhost:8080/"
    },
    "executionInfo": {
     "elapsed": 44,
     "status": "ok",
     "timestamp": 1646547078896,
     "user": {
      "displayName": "sivabalan nagarajan",
      "photoUrl": "https://lh3.googleusercontent.com/a/default-user=s64",
      "userId": "02908043839111052378"
     },
     "user_tz": -330
    },
    "id": "GdF1JrbmwgS4",
    "outputId": "ec1cccb4-0046-43d7-b4fb-669416660a66"
   },
   "outputs": [
    {
     "data": {
      "text/plain": [
       "np.int64(543)"
      ]
     },
     "execution_count": 35,
     "metadata": {},
     "output_type": "execute_result"
    }
   ],
   "source": [
    "# to find the index of the max value\n",
    "np.argmax(accuracy_list)"
   ]
  },
  {
   "cell_type": "code",
   "execution_count": 36,
   "metadata": {
    "colab": {
     "base_uri": "https://localhost:8080/"
    },
    "executionInfo": {
     "elapsed": 38,
     "status": "ok",
     "timestamp": 1646547078897,
     "user": {
      "displayName": "sivabalan nagarajan",
      "photoUrl": "https://lh3.googleusercontent.com/a/default-user=s64",
      "userId": "02908043839111052378"
     },
     "user_tz": -330
    },
    "id": "sh-dxacSxMaY",
    "outputId": "5bb1fa16-f335-4aae-b5df-ad55991bead2"
   },
   "outputs": [
    {
     "data": {
      "text/plain": [
       "['./models/salary.pkl']"
      ]
     },
     "execution_count": 36,
     "metadata": {},
     "output_type": "execute_result"
    }
   ],
   "source": [
    "# to save this model and test anyday anytime\n",
    "# this model needs to be saved to a file\n",
    "import joblib\n",
    "joblib.dump(model , './models/salary.pkl')"
   ]
  },
  {
   "cell_type": "code",
   "execution_count": 37,
   "metadata": {
    "id": "YpLJ4aPNyDs1"
   },
   "outputs": [],
   "source": [
    "# how to use the saved model later\n",
    "# first load the model to your environment\n",
    "mymodel = joblib.load('./models/salary.pkl' )"
   ]
  },
  {
   "cell_type": "code",
   "execution_count": 38,
   "metadata": {
    "colab": {
     "base_uri": "https://localhost:8080/"
    },
    "executionInfo": {
     "elapsed": 32,
     "status": "ok",
     "timestamp": 1646547078899,
     "user": {
      "displayName": "sivabalan nagarajan",
      "photoUrl": "https://lh3.googleusercontent.com/a/default-user=s64",
      "userId": "02908043839111052378"
     },
     "user_tz": -330
    },
    "id": "Da_9rFV3ynIu",
    "outputId": "5ba5981a-8816-4f0f-8b29-4bd757774885"
   },
   "outputs": [
    {
     "name": "stderr",
     "output_type": "stream",
     "text": [
      "c:\\Users\\supri\\AppData\\Local\\Programs\\Python\\Python310\\lib\\site-packages\\sklearn\\base.py:493: UserWarning: X does not have valid feature names, but LinearRegression was fitted with feature names\n",
      "  warnings.warn(\n"
     ]
    },
    {
     "data": {
      "text/plain": [
       "array([128042.47966025])"
      ]
     },
     "execution_count": 38,
     "metadata": {},
     "output_type": "execute_result"
    }
   ],
   "source": [
    "# after loading the model , use the loaded model to predict the salary gor the given ip experience, \n",
    "#ip should be given in 2d array , as we know x should be given in 2d\n",
    "mymodel.predict([[11]])"
   ]
  },
  {
   "cell_type": "code",
   "execution_count": 39,
   "metadata": {
    "colab": {
     "base_uri": "https://localhost:8080/"
    },
    "executionInfo": {
     "elapsed": 696,
     "status": "ok",
     "timestamp": 1646547079570,
     "user": {
      "displayName": "sivabalan nagarajan",
      "photoUrl": "https://lh3.googleusercontent.com/a/default-user=s64",
      "userId": "02908043839111052378"
     },
     "user_tz": -330
    },
    "id": "MsCo-ll_zPnG",
    "outputId": "92b3b275-e50f-4ced-c77b-6e270c1a6b30"
   },
   "outputs": [
    {
     "name": "stderr",
     "output_type": "stream",
     "text": [
      "c:\\Users\\supri\\AppData\\Local\\Programs\\Python\\Python310\\lib\\site-packages\\sklearn\\base.py:493: UserWarning: X does not have valid feature names, but LinearRegression was fitted with feature names\n",
      "  warnings.warn(\n"
     ]
    },
    {
     "data": {
      "text/plain": [
       "array([118832.63411185, 128042.47966025, 137252.32520864])"
      ]
     },
     "execution_count": 39,
     "metadata": {},
     "output_type": "execute_result"
    }
   ],
   "source": [
    "# to check the exp for ,multiple inputs use array if list\n",
    "mymodel.predict([[10],[11],[12]])"
   ]
  }
 ],
 "metadata": {
  "colab": {
   "authorship_tag": "ABX9TyPspATIfb1HUKiAMd93euNM",
   "name": "UMAMNG-LINEAR-REGRESSION.ipynb",
   "provenance": []
  },
  "kernelspec": {
   "display_name": "Python 3",
   "language": "python",
   "name": "python3"
  },
  "language_info": {
   "codemirror_mode": {
    "name": "ipython",
    "version": 3
   },
   "file_extension": ".py",
   "mimetype": "text/x-python",
   "name": "python",
   "nbconvert_exporter": "python",
   "pygments_lexer": "ipython3",
   "version": "3.10.2"
  }
 },
 "nbformat": 4,
 "nbformat_minor": 1
}
