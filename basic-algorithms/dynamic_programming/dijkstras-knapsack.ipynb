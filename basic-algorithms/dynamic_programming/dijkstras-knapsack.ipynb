{
 "cells": [
  {
   "cell_type": "code",
   "execution_count": 1,
   "metadata": {},
   "outputs": [],
   "source": [
    "import math\n",
    "\n",
    "from heapq import heappop, heappush, heapify\n",
    "from typing import List, Tuple\n"
   ]
  },
  {
   "cell_type": "code",
   "execution_count": 2,
   "metadata": {},
   "outputs": [
    {
     "name": "stdout",
     "output_type": "stream",
     "text": [
      "[0, 1, 1, 2, 3, 5, 8, 13, 21, 34, 55, 89, 144, 233, 377]\n",
      "15th fibonacci number is 377\n"
     ]
    }
   ],
   "source": [
    "# fibonacci with dynamic programming\n",
    "\n",
    "def fib(n: int) -> int:\n",
    "    dp = [0,1]\n",
    "\n",
    "    for i in range(2, n):\n",
    "        dp.append(dp[i-1] + dp[i-2])\n",
    "    \n",
    "    print(dp)\n",
    "    return dp[n-1]\n",
    "\n",
    "n = 15\n",
    "print(f\"{n}th fibonacci number is {fib(n)}\")"
   ]
  },
  {
   "cell_type": "code",
   "execution_count": null,
   "metadata": {},
   "outputs": [
    {
     "name": "stdout",
     "output_type": "stream",
     "text": [
      "The shortest path from 1 to 5 is 13\n"
     ]
    }
   ],
   "source": [
    "# Directed Graph\n",
    "# We represent the graph in a 2D matrix, where the index is the node and the value at the index is a list of neighbors\n",
    "#   graph = [[neighbors_of_0], [neighbors_of_1], [neighbors_of_2]]\n",
    "# The neighbor is a Tuple with the respective vertex and the weight of the edge\n",
    "#   neighbors_of_0 = [(vertex, weight), (vertex, weight)]\n",
    "\n",
    "from heapq import heappop\n",
    "graph = [[(1, 1), (2, 2)], [(2, 3), (3, 4)], [(3, 5), (4, 6)], [(4, 7), (5, 8)], [(5, 9)], []]\n",
    "\n",
    "\n",
    "#      1 ----3---> 2\n",
    "#    /  \\          |\n",
    "#   1    4         5\n",
    "#  /      \\        |\n",
    "# 0        3 ---7-> 4 ---9-> 5\n",
    "#  \\        \\\n",
    "#   2        8\n",
    "#    \\        \\\n",
    "#     ----5---> 3\n",
    "\n",
    "# Node format: (vertex, weight)\n",
    "\n",
    "# Node 0: [(1,1), (2,2)]        # Node 0 connects to Node 1 (weight 1) and Node 2 (weight 2)\n",
    "# Node 1: [(2,3), (3,4)]        # Node 1 connects to Node 2 (weight 3) and Node 3 (weight 4)\n",
    "# Node 2: [(3,5), (4,6)]        # Node 2 connects to Node 3 (weight 5) and Node 4 (weight 6)\n",
    "# Node 3: [(4,7), (5,8)]        # Node 3 connects to Node 4 (weight 7) and Node 5 (weight 8)\n",
    "# Node 4: [(5,9)]               # Node 4 connects to Node 5 (weight 9)\n",
    "# Node 5: []                    # Node 5 has no outgoing edges (terminal node)\n",
    "\n",
    "\n",
    "# Dijkstra's Algorithm\n",
    "def dijkstra(graph: List[List[Tuple[int, int]]] , source: int, destination: int) -> int:\n",
    "    def get_neighbors(node: int) -> List[Tuple[int, int]]:\n",
    "        return graph[node]\n",
    "\n",
    "    def bfs(root: int, target: int) -> int:\n",
    "        queue : List[Tuple[float, int]] = [(0, root)]\n",
    "        heapify(queue)\n",
    "        distances : List[float] = [math.inf] * len(graph)\n",
    "        distances[root] = 0\n",
    "\n",
    "        # update the distances as we traverse through the graph\n",
    "        # referring the priority queue\n",
    "        while queue:\n",
    "            curr_dist, node = heappop(queue)\n",
    "\n",
    "            for neighbor, weight in get_neighbors(node): \n",
    "                d = distances[node] + weight\n",
    "\n",
    "                if distances[neighbor] <= d:\n",
    "                    continue\n",
    "                \n",
    "                distances[neighbor] = d\n",
    "                heappush(queue, (d, neighbor))\n",
    "\n",
    "        # Convert the result to int if it's not infinity\n",
    "        return int(distances[target]) if distances[target] != math.inf else -1\n",
    "    \n",
    "    res = bfs(source, destination)\n",
    "\n",
    "    return res\n",
    "\n",
    "\n",
    "print(f\"The shortest path from 1 to 5 is {dijkstra(graph, 0, 5)}\")\n"
   ]
  },
  {
   "cell_type": "code",
   "execution_count": 4,
   "metadata": {},
   "outputs": [
    {
     "name": "stdout",
     "output_type": "stream",
     "text": [
      "The shortest path from 4 to 5 is 5\n"
     ]
    }
   ],
   "source": [
    "graph = [\n",
    "    [(1,4), (3,8), (4,2)],    # Node 0\n",
    "    [(2,3), (4,5)],           # Node 1\n",
    "    [(5,1), (3,2)],           # Node 2\n",
    "    [(4,7)],                  # Node 3\n",
    "    [(2,4), (5,6)],           # Node 4\n",
    "    []                        # Node 5\n",
    "]\n",
    "\n",
    "\n",
    "#           4\n",
    "#       0 -----> 1\n",
    "#       | \\      |\n",
    "#       |  \\     |3\n",
    "#     8 |   \\ 2  |\n",
    "#       |    \\   |\n",
    "#       ↓     ↘  ↓     1\n",
    "#       3       4 ---> 5\n",
    "#       |      ↗ \\     ↑\n",
    "#       |    7/   \\6   |\n",
    "#       |   /     \\    |\n",
    "#       | /    4   \\   |\n",
    "#       ↓/          ↘  |\n",
    "#       4 -----------> 5\n",
    "#            6\n",
    "\n",
    "# Node format: (vertex, weight)\n",
    "\n",
    "# Node 0: [(1,4), (3,8), (4,2)]   # Node 0 connects to: Node 1(weight 4), Node 3(weight 8), Node 4(weight 2)\n",
    "# Node 1: [(2,3), (4,5)]          # Node 1 connects to: Node 2(weight 3), Node 4(weight 5)\n",
    "# Node 2: [(5,1), (3,2)]          # Node 2 connects to: Node 5(weight 1), Node 3(weight 2)\n",
    "# Node 3: [(4,7)]                 # Node 3 connects to: Node 4(weight 7)\n",
    "# Node 4: [(2,4), (5,6)]          # Node 4 connects to: Node 2(weight 4), Node 5(weight 6)\n",
    "# Node 5: []                      # Node 5 has no outgoing edges (terminal node)\n",
    "\n",
    "\n",
    "print(f\"The shortest path from 4 to 5 is {dijkstra(graph, 4, 5)}\")"
   ]
  },
  {
   "cell_type": "code",
   "execution_count": 5,
   "metadata": {},
   "outputs": [
    {
     "name": "stdout",
     "output_type": "stream",
     "text": [
      "220\n"
     ]
    }
   ],
   "source": [
    "# 0/1 knapsack problem with branch and bound technique\n",
    "\n",
    "def knapSack(W, wt, val, n):\n",
    "    # Base Case\n",
    "    if n == 0 or W == 0:\n",
    "        return 0\n",
    "\n",
    "    # If weight of the nth item is\n",
    "    # more than Knapsack of capacity W,\n",
    "    # then this item cannot be included\n",
    "    # in the optimal solution\n",
    "    if (wt[n-1] > W):\n",
    "        return knapSack(W, wt, val, n-1)\n",
    "\n",
    "    # return the maximum of two cases:\n",
    "    # (1) nth item included\n",
    "    # (2) not included\n",
    "    else:\n",
    "        return max(\n",
    "            val[n-1] + knapSack(\n",
    "                W-wt[n-1], wt, val, n-1),\n",
    "            knapSack(W, wt, val, n-1))\n",
    "\n",
    "profit = [60, 100, 120]\n",
    "weight = [10, 20, 30]\n",
    "W = 50\n",
    "n = len(profit)\n",
    "print(knapSack(W, weight, profit, n))"
   ]
  },
  {
   "cell_type": "markdown",
   "metadata": {},
   "source": [
    "## NP completeness\n",
    "\n",
    "1. Classification of Computational Problems:\n",
    "   - P: Problems solvable in polynomial time\n",
    "   - NP: Problems verifiable in polynomial time\n",
    "   - NP-Complete: Hardest problems in NP\n",
    "2. Key Characteristics:\n",
    "   - Decision problems (yes/no answers)\n",
    "   - All NP-complete problems are equally hard\n",
    "   - If one NP-complete problem is solved in polynomial time, all are solvable in polynomial time\n",
    "3. Common NP-Complete Problems:\n",
    "   - Traveling Salesman Problem (TSP)\n",
    "   - Boolean Satisfiability (SAT)\n",
    "   - Graph Coloring\n",
    "   - Subset Sum\n",
    "   - Knapsack Problem\n"
   ]
  },
  {
   "cell_type": "markdown",
   "metadata": {},
   "source": [
    "## Randomization\n",
    "\n",
    "1. Types of Randomized Algorithms:\n",
    "\n",
    "   a) Las Vegas Algorithms:\n",
    "\n",
    "   - Always give correct results\n",
    "   - Running time is random\n",
    "   - Example: QuickSort with random pivot\n",
    "\n",
    "   b) Monte Carlo Algorithms:\n",
    "\n",
    "   - Fixed running time\n",
    "   - May give incorrect results with small probability\n",
    "   - Example: Miller-Rabin primality testing\n",
    "\n",
    "2. Advantages:\n",
    "   - Simple and efficient solutions\n",
    "   - Better average-case performance\n",
    "   - Break worst-case scenarios\n",
    "3. Common Applications:\n",
    "   - Quick Sort (random pivot)\n",
    "   - Random sampling\n",
    "   - Load balancing\n",
    "   - Cryptographic algorithms\n"
   ]
  },
  {
   "cell_type": "code",
   "execution_count": 6,
   "metadata": {},
   "outputs": [
    {
     "name": "stdout",
     "output_type": "stream",
     "text": [
      "[2, 5, 7, 13, 34, 56, 63, 778]\n",
      "3.141772\n"
     ]
    }
   ],
   "source": [
    "import random\n",
    "\n",
    "# Las Vegas Algorithm Example: QuickSort with random pivot\n",
    "def quicksort(arr):\n",
    "    if len(arr) <= 1:\n",
    "        return arr\n",
    "    else:\n",
    "        pivot = random.choice(arr)  # Random pivot selection\n",
    "        left = [x for x in arr if x < pivot]\n",
    "        middle = [x for x in arr if x == pivot]\n",
    "        right = [x for x in arr if x > pivot]\n",
    "        return quicksort(left) + middle + quicksort(right)\n",
    "\n",
    "# Monte Carlo Algorithm Example: Approximate π using random points\n",
    "def estimate_pi(n):\n",
    "    inside_circle = 0\n",
    "    total_points = n\n",
    "    \n",
    "    for _ in range(total_points):\n",
    "        x = random.uniform(-1, 1)\n",
    "        y = random.uniform(-1, 1)\n",
    "        if x*x + y*y <= 1:  # Check if point is inside unit circle\n",
    "            inside_circle += 1\n",
    "            \n",
    "    pi_estimate = 4 * inside_circle / total_points\n",
    "    return pi_estimate\n",
    "\n",
    "\n",
    "print(quicksort([34,5,13,56,778,63,2,7]))\n",
    "print(estimate_pi(1000000))"
   ]
  }
 ],
 "metadata": {
  "kernelspec": {
   "display_name": "Python 3",
   "language": "python",
   "name": "python3"
  },
  "language_info": {
   "codemirror_mode": {
    "name": "ipython",
    "version": 3
   },
   "file_extension": ".py",
   "mimetype": "text/x-python",
   "name": "python",
   "nbconvert_exporter": "python",
   "pygments_lexer": "ipython3",
   "version": "3.10.2"
  }
 },
 "nbformat": 4,
 "nbformat_minor": 2
}
