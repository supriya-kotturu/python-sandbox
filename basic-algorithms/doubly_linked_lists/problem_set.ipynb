{
 "cells": [
  {
   "cell_type": "markdown",
   "metadata": {},
   "source": [
    "# Doubly Linked List - problem set\n",
    "\n",
    "This Jupyter Notebook contains a series of exercises focused on doubly linked list data structure.\n"
   ]
  },
  {
   "cell_type": "code",
   "execution_count": 5,
   "metadata": {},
   "outputs": [],
   "source": [
    "import import_ipynb\n",
    "\n",
    "from typing import List\n",
    "from doubly_linked_lists import get_doubly_linked_list\n",
    "from doubly_linked_lists import Node\n",
    "from doubly_linked_lists import  DoublyLinkedList"
   ]
  },
  {
   "cell_type": "code",
   "execution_count": 31,
   "metadata": {},
   "outputs": [
    {
     "name": "stdout",
     "output_type": "stream",
     "text": [
      "4 <-> 2 <-> 1 <-> \n",
      "1 <-> 2 <-> 4 <-> "
     ]
    }
   ],
   "source": [
    "# Reverse a Doubly Linked List\n",
    "# INPUT: DoublyLinkedList\n",
    "# OUTPUT: DoublyLinkedList\n",
    "\n",
    "def reverse_doubly_linked_lists(list: DoublyLinkedList) -> DoublyLinkedList:\n",
    "    curr = list.head\n",
    "\n",
    "    while(curr is not None): \n",
    "        nextNode = curr.next\n",
    "        curr.next, curr.prev = curr.prev, curr.next\n",
    "\n",
    "        if(nextNode is None):\n",
    "            list.head = curr\n",
    "            return list\n",
    "        \n",
    "        curr = nextNode\n",
    "    return list\n",
    "\n",
    "def reverse_doubly_linked_lists_rec(list: DoublyLinkedList, node :Node) -> DoublyLinkedList:\n",
    "    if(node is None):\n",
    "        return list\n",
    "\n",
    "    nextNode = node.next\n",
    "    node.prev, node.next = node.next, node.prev\n",
    "\n",
    "    if(nextNode is None):\n",
    "        list.head = node\n",
    "        return list\n",
    "    \n",
    "    return reverse_doubly_linked_lists_rec(list, nextNode)\n",
    "\n",
    "\n",
    "dl = get_doubly_linked_list([1,2,4])\n",
    "dl.print_list()\n",
    "print()\n",
    "# rev_dl = reverse_doubly_linked_lists(dl)\n",
    "rev_dl = reverse_doubly_linked_lists_rec(dl, dl.head)\n",
    "rev_dl.print_list()"
   ]
  }
 ],
 "metadata": {
  "kernelspec": {
   "display_name": "Python 3",
   "language": "python",
   "name": "python3"
  },
  "language_info": {
   "codemirror_mode": {
    "name": "ipython",
    "version": 3
   },
   "file_extension": ".py",
   "mimetype": "text/x-python",
   "name": "python",
   "nbconvert_exporter": "python",
   "pygments_lexer": "ipython3",
   "version": "3.10.2"
  }
 },
 "nbformat": 4,
 "nbformat_minor": 2
}
