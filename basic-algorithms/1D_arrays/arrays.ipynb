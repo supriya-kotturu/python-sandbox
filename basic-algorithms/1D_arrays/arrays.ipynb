{
 "cells": [
  {
   "cell_type": "markdown",
   "metadata": {},
   "source": [
    "# 1D Arrays\n",
    "\n",
    "This notebook explores the sorting operations that can be performed on a 1D Array\n"
   ]
  },
  {
   "cell_type": "code",
   "execution_count": 1,
   "metadata": {},
   "outputs": [],
   "source": [
    "from typing import List"
   ]
  },
  {
   "cell_type": "code",
   "execution_count": 2,
   "metadata": {},
   "outputs": [
    {
     "name": "stdout",
     "output_type": "stream",
     "text": [
      "[1, 2, 3, 3, 4, 4, 5, 5, 6, 24]\n"
     ]
    }
   ],
   "source": [
    "# Bubble sort\n",
    "\n",
    "def bubbleSort(arry: List[int]) -> List[int]:\n",
    "    \n",
    "    for i in range(len(arry)):\n",
    "        swapped = False\n",
    "        for j in range(len(arry) -i -1):\n",
    "            currEle = arry[j]\n",
    "            nextEle = arry[j + 1]\n",
    "            \n",
    "            if(currEle > nextEle):\n",
    "                arry[j] , arry[j + 1] = arry[j + 1], arry[j]\n",
    "                swapped = True\n",
    "                \n",
    "        if(not swapped): break\n",
    "\n",
    "    return arry\n",
    "\n",
    "arry = [3,6,5,24,1, 4,5,4,3,2]\n",
    "sorted_arry = bubbleSort(arry)\n",
    "print(f\"{sorted_arry}\")"
   ]
  },
  {
   "cell_type": "code",
   "execution_count": 3,
   "metadata": {},
   "outputs": [
    {
     "name": "stdout",
     "output_type": "stream",
     "text": [
      "[1, 2, 3, 3, 4, 4, 5, 5, 6, 24]\n"
     ]
    }
   ],
   "source": [
    "# Selection Sort\n",
    "\n",
    "def selectionSort(arry: List[int]) -> List[int]:\n",
    "    \n",
    "    for idx in range(len(arry)):\n",
    "        min_idx = idx\n",
    "        \n",
    "        # loop from the next idx to the end\n",
    "        for j in range(idx+ 1, len(arry)):\n",
    "            currEle = arry[j]\n",
    "            minEle = arry[min_idx]\n",
    "            \n",
    "            # update the correct min_idx\n",
    "            if(currEle < minEle):\n",
    "                min_idx = j\n",
    "    \n",
    "        # swap the curr element and the element at min_idx\n",
    "        arry[idx], arry[min_idx] = arry[min_idx], arry[idx]\n",
    "        \n",
    "    return arry\n",
    "\n",
    "arry = [3,6,5,24,1, 4,5,4,3,2]\n",
    "sorted_arry = selectionSort(arry)\n",
    "print(f\"{sorted_arry}\")"
   ]
  },
  {
   "cell_type": "code",
   "execution_count": 4,
   "metadata": {},
   "outputs": [
    {
     "name": "stdout",
     "output_type": "stream",
     "text": [
      "[1, 2, 3, 3, 4, 4, 5, 5, 6, 24]\n"
     ]
    }
   ],
   "source": [
    "# Insertion sort\n",
    "\n",
    "def insertionSort(arry: List[int]) -> List[int]:\n",
    "    \n",
    "    for idx in range(1, len(arry)):\n",
    "        key = arry[idx]\n",
    "        prevIdx = idx - 1\n",
    "        \n",
    "        while(prevIdx >= 0 and key < arry[prevIdx]):\n",
    "            arry[prevIdx + 1] = arry[prevIdx]\n",
    "            prevIdx -= 1\n",
    "            \n",
    "        arry[prevIdx + 1] = key\n",
    "    \n",
    "    return arry\n",
    "\n",
    "arry = [3,6,5,24,1, 4,5,4,3,2]\n",
    "sorted_arry = insertionSort(arry)\n",
    "print(f\"{sorted_arry}\")"
   ]
  },
  {
   "cell_type": "code",
   "execution_count": 5,
   "metadata": {},
   "outputs": [
    {
     "name": "stdout",
     "output_type": "stream",
     "text": [
      "[1, 2, 3, 3, 4, 4, 5, 5, 6, 24]\n"
     ]
    }
   ],
   "source": [
    "# Merge Sort\n",
    "\n",
    "def merge(target: List[int], leftArry: List[int], rightArry: List[int]) -> List[int]:\n",
    "    leftIdx, rightIdx, idx = 0, 0, 0\n",
    "\n",
    "    while(leftIdx  < len(leftArry) and rightIdx < len(rightArry)):\n",
    "        left = leftArry[leftIdx]\n",
    "        right = rightArry[rightIdx]\n",
    "\n",
    "        target[idx] = min(left, right)\n",
    "\n",
    "        if(left <= right): leftIdx += 1\n",
    "        else: rightIdx += 1\n",
    "\n",
    "        idx += 1\n",
    "\n",
    "    while(leftIdx < len(leftArry)):\n",
    "        target[idx] = leftArry[leftIdx]\n",
    "        leftIdx += 1\n",
    "        idx += 1\n",
    "\n",
    "    while(rightIdx < len(rightArry)):\n",
    "        target[idx] = rightArry[rightIdx]\n",
    "        rightIdx += 1\n",
    "        idx += 1\n",
    "\n",
    "    return target\n",
    "\n",
    "\n",
    "def mergeSort(arr: List[int]) -> List[int]:\n",
    "    length = len(arr)\n",
    "\n",
    "    if(length <= 1): return arr\n",
    "\n",
    "    midIdx = length // 2\n",
    "\n",
    "    left_arry = arr[:midIdx]\n",
    "    right_arry = arr[midIdx:]\n",
    "\n",
    "    mergeSort(left_arry)\n",
    "    mergeSort(right_arry)\n",
    "\n",
    "    return merge(arr, left_arry, right_arry)\n",
    "\n",
    "\n",
    "\n",
    "arry = [3,6,5,24,1, 4,5,4,3,2]\n",
    "sorted_arry = mergeSort(arry)\n",
    "print(f\"{sorted_arry}\")"
   ]
  },
  {
   "cell_type": "code",
   "execution_count": null,
   "metadata": {},
   "outputs": [],
   "source": []
  }
 ],
 "metadata": {
  "kernelspec": {
   "display_name": "Python 3",
   "language": "python",
   "name": "python3"
  },
  "language_info": {
   "codemirror_mode": {
    "name": "ipython",
    "version": 3
   },
   "file_extension": ".py",
   "mimetype": "text/x-python",
   "name": "python",
   "nbconvert_exporter": "python",
   "pygments_lexer": "ipython3",
   "version": "3.10.2"
  }
 },
 "nbformat": 4,
 "nbformat_minor": 2
}
