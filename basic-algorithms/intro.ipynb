{
 "cells": [
  {
   "cell_type": "markdown",
   "metadata": {},
   "source": [
    "# Introduction to python\n",
    "\n",
    "This notebook contains a list of basic programs designed to familiarize users with syntax and nomenclature.\n"
   ]
  },
  {
   "cell_type": "code",
   "execution_count": 1,
   "metadata": {},
   "outputs": [],
   "source": [
    "import math as m\n",
    "import random as r"
   ]
  },
  {
   "cell_type": "code",
   "execution_count": 2,
   "metadata": {},
   "outputs": [],
   "source": [
    "# get an array of random numbers\n",
    "# INPUT: size int, limit int\n",
    "# OUTPUT: []int\n",
    "\n",
    "def get_array(size, limit):\n",
    "    arr = []\n",
    "    for _ in range(0,size):\n",
    "        arr.append(r.randint(1,limit))\n",
    "\n",
    "    return arr"
   ]
  },
  {
   "cell_type": "code",
   "execution_count": 3,
   "metadata": {},
   "outputs": [
    {
     "name": "stdout",
     "output_type": "stream",
     "text": [
      "The largest element in [17, 100, 61, 6, 35, 85, 23, 68, 60, 4]: 100\n"
     ]
    }
   ],
   "source": [
    "# find the largest element in the array\n",
    "# INPUT: arr []int\n",
    "# OUTPUT: int\n",
    "\n",
    "def get_largest(arr):\n",
    "    curr_max = arr[0]\n",
    "    for ele in arr:\n",
    "        curr_max = max(curr_max, ele)\n",
    "    return curr_max\n",
    "    \n",
    "\n",
    "arr = get_array(10, 100)\n",
    "print(\"The largest element in {}: {}\".format(arr, get_largest(arr)))"
   ]
  },
  {
   "cell_type": "code",
   "execution_count": 4,
   "metadata": {},
   "outputs": [
    {
     "name": "stdout",
     "output_type": "stream",
     "text": [
      "The occurance of 1 in [3, 1, 1, 1, 4, 1, 4, 1, 1, 1, 1, 4, 4, 1, 4]: 9\n"
     ]
    }
   ],
   "source": [
    "# find the occurance of a target number in the given array\n",
    "# INPUT: arr int[], target int\n",
    "# OUTPUT: int\n",
    "\n",
    "def get_occurance(arr, target):\n",
    "    count = 0\n",
    "\n",
    "    for num in arr:\n",
    "        if num == target:\n",
    "            count+= 1\n",
    "\n",
    "    return count\n",
    "\n",
    "arr = get_array(15, 4)\n",
    "target = r.randint(1,5)\n",
    "print(\"The occurance of {} in {}: {}\".format(target, arr, get_occurance(arr, target)))"
   ]
  },
  {
   "cell_type": "code",
   "execution_count": 5,
   "metadata": {},
   "outputs": [
    {
     "name": "stdout",
     "output_type": "stream",
     "text": [
      "The sum of elements in [12, 3, 14, 4, 16, 3, 5, 19, 5, 4]: (85, 183859200)\n"
     ]
    }
   ],
   "source": [
    "# find the sum and product of all elements in the array\n",
    "# INPUT: arr []int\n",
    "# OUTPUT: int, int\n",
    "\n",
    "def get_sum_and_product(arr):\n",
    "    total = 0\n",
    "    product = 1\n",
    "    for ele in arr:\n",
    "        total += ele\n",
    "        product *= ele\n",
    "\n",
    "    return total, product\n",
    "\n",
    "arr = get_array(10,20)\n",
    "print(\"The sum of elements in {}: {}\".format(arr, get_sum_and_product(arr)))"
   ]
  },
  {
   "cell_type": "code",
   "execution_count": 6,
   "metadata": {},
   "outputs": [
    {
     "name": "stdout",
     "output_type": "stream",
     "text": [
      "The Factorial of 9: 362880\n"
     ]
    }
   ],
   "source": [
    "# find the factorial of a given number\n",
    "# INPUT: num int\n",
    "# OUTPUT: int\n",
    "\n",
    "memo = {1: 1}\n",
    "\n",
    "def factorial(num):\n",
    "    if(num == 0):\n",
    "        return 1\n",
    "\n",
    "    if num in memo:\n",
    "        return memo[num]\n",
    "    else:\n",
    "        memo[num ] = num * factorial(num - 1)\n",
    "        return memo[num]\n",
    "    \n",
    "num = r.randint(1,20)\n",
    "print(\"The Factorial of {}: {}\".format(num, factorial(num)))"
   ]
  },
  {
   "cell_type": "code",
   "execution_count": 7,
   "metadata": {},
   "outputs": [
    {
     "name": "stdout",
     "output_type": "stream",
     "text": [
      "The Fibonacci sequence till index 12: [0, 1, 1, 2, 3, 5, 8, 13, 21, 34, 55, 89]\n"
     ]
    }
   ],
   "source": [
    "# generate a fibonacci sequence till the given limit index\n",
    "# INPUT: limit int\n",
    "# OUTPUT: int[]\n",
    "\n",
    "def generate_fibonacci_sequence(limit):\n",
    "    if limit <= 0:\n",
    "        return []\n",
    "    elif limit ==  1:\n",
    "        return [0]\n",
    "    \n",
    "    sequence = [0, 1]\n",
    "\n",
    "    for idx in range(2, limit):\n",
    "        next_num = sequence[idx - 1] + sequence[idx -2]\n",
    "        sequence.append(next_num)\n",
    "    return sequence\n",
    "\n",
    "num = r.randint(1, 45)\n",
    "print(\"The Fibonacci sequence till index {}: {}\".format(num, generate_fibonacci_sequence(num)))"
   ]
  },
  {
   "cell_type": "code",
   "execution_count": 8,
   "metadata": {},
   "outputs": [
    {
     "name": "stdout",
     "output_type": "stream",
     "text": [
      "steps after normalizing: 0\n",
      "The array [14, 49, 97, 38, 60, 36, 97, 58, 68, 43] rotated 10: [14, 49, 97, 38, 60, 36, 97, 58, 68, 43]\n"
     ]
    }
   ],
   "source": [
    "# rotate the given array by k steps\n",
    "# INPUT: arr int[], steps int\n",
    "# OUTPUT: arr int[]\n",
    "\n",
    "def rotate_array(arr, steps):\n",
    "    arr_len = len(arr)\n",
    "    \n",
    "    # Normalize the steps to be within the range of the array length\n",
    "    steps = steps % arr_len\n",
    "    print(\"steps after normalizing: {}\".format(steps))\n",
    "\n",
    "    arr = arr[-steps:] + arr[:-steps]\n",
    "\n",
    "    return arr\n",
    "\n",
    "arr = get_array(10,100)\n",
    "steps = r.randint(1, 15)\n",
    "print(\"The array {} rotated {}: {}\".format(arr, steps, rotate_array(arr, steps)))"
   ]
  },
  {
   "cell_type": "code",
   "execution_count": 9,
   "metadata": {},
   "outputs": [
    {
     "name": "stdout",
     "output_type": "stream",
     "text": [
      "Intersection of [2, 2, 3, 3, 1] and [3, 1, 3, 2, 3]: [2, 2, 3, 3, 1]\n",
      "Union of [2, 2, 3, 3, 1] and [3, 1, 3, 2, 3]: [2, 3, 1]\n"
     ]
    }
   ],
   "source": [
    "# find the union and intersection of two arrays\n",
    "# INPUT: arr1 int[], arr2 int[]\n",
    "# OUTPUT: union int[], intersection int[]\n",
    "\n",
    "def get_intersection(arr1, arr2):\n",
    "    intersection = []\n",
    "    for ele in arr1:\n",
    "        if ele in arr2:\n",
    "            intersection.append(ele)\n",
    "\n",
    "    return intersection\n",
    "    \n",
    "\n",
    "def get_union(arr1, arr2):\n",
    "    union = []\n",
    "\n",
    "    for ele in arr1:\n",
    "        if ele not in union:\n",
    "            union.append(ele)\n",
    "\n",
    "    for ele in arr2:\n",
    "        if ele not in union:\n",
    "            union.append(ele)\n",
    "\n",
    "\n",
    "    return union\n",
    "\n",
    "arr1 = get_array(5, 3)\n",
    "arr2 = get_array(5, 3)\n",
    "print(\"Intersection of {} and {}: {}\".format(arr1, arr2, get_intersection(arr1, arr2)))\n",
    "print(\"Union of {} and {}: {}\".format(arr1, arr2, get_union(arr1, arr2)))"
   ]
  },
  {
   "cell_type": "code",
   "execution_count": 10,
   "metadata": {},
   "outputs": [
    {
     "name": "stdout",
     "output_type": "stream",
     "text": [
      "The divisors of [5, 2, 3, 2, 5, 5, 4, 1, 2, 4]: {5: [1, 5], 2: [1, 2], 3: [1, 3], 4: [1, 2, 4], 1: [1]}\n"
     ]
    }
   ],
   "source": [
    "# find the divisors of all the elements in the array\n",
    "# INPUT: arr int[]\n",
    "# OUTPUT: {int: int[]}\n",
    "\n",
    "def get_divisior(ele):\n",
    "    divisors = []\n",
    "\n",
    "    for idx in range(1, ele + 1):\n",
    "        if ele % idx == 0:\n",
    "            divisors.append(idx)\n",
    "\n",
    "    return divisors\n",
    "\n",
    "\n",
    "def get_divisors(arr):\n",
    "    divisors = {}\n",
    "\n",
    "    for ele in arr:\n",
    "        if ele not in divisors:\n",
    "            divisors[ele] = get_divisior(ele)\n",
    "\n",
    "    return divisors\n",
    "\n",
    "arr = get_array(10, 5)\n",
    "print(\"The divisors of {}: {}\".format(arr, get_divisors(arr)))"
   ]
  },
  {
   "cell_type": "code",
   "execution_count": 11,
   "metadata": {},
   "outputs": [
    {
     "name": "stdout",
     "output_type": "stream",
     "text": [
      "The LCM of [4, 2, 1, 5, 3, 4, 3, 3, 2, 1]: 60\n"
     ]
    }
   ],
   "source": [
    "# find the LCM of all the elements in the array\n",
    "# LCM (Least Common Multiple) of two numbers is the smallest number which can be divided by both numbers\n",
    "# INPUT: arr int[]\n",
    "# OUTPUT: int\n",
    "\n",
    "def get_LCM(a, b):\n",
    "    # Find the greatest common divisor (GCD) of a and b\n",
    "    def gcd(x, y):\n",
    "        while y:\n",
    "            x, y = y, x % y\n",
    "        return x\n",
    "\n",
    "    # Calculate the LCM using the formula: (a * b) / gcd(a, b)\n",
    "    return (a * b) // gcd(a, b)\n",
    "\n",
    "def get_array_LCM(arr):\n",
    "    lcm = arr[0]\n",
    "\n",
    "    for idx in range(1, len(arr)):\n",
    "        lcm = get_LCM(lcm, arr[idx])\n",
    "        \n",
    "    return lcm\n",
    "\n",
    "\n",
    "arr = get_array(10, 5)\n",
    "print(\"The LCM of {}: {}\".format(arr, get_array_LCM(arr)))"
   ]
  },
  {
   "cell_type": "code",
   "execution_count": 12,
   "metadata": {},
   "outputs": [
    {
     "name": "stdout",
     "output_type": "stream",
     "text": [
      "The GCD of [5, 10, 15, 20, 25, 30]: 5\n"
     ]
    }
   ],
   "source": [
    "# find the GCD of all the elements in the array\n",
    "# GCD (Greatest Common Divisor) is the largest positive integer that divides all the positive integers\n",
    "# INPUT: arr int[]\n",
    "# OUTPUT: int\n",
    "\n",
    "def get_gcd(num1, num2):\n",
    "    while num2:\n",
    "        num1, num2 = num2, num1 % num2\n",
    "\n",
    "    return num1\n",
    "\n",
    "\n",
    "def get_array_gcd(arr):\n",
    "    gcd = arr[0]\n",
    "\n",
    "    for idx in range (1, len(arr)):\n",
    "        gcd = get_gcd(gcd, arr[idx])\n",
    "\n",
    "    return gcd\n",
    "\n",
    "arr = [5,10,15,20,25,30]\n",
    "print(\"The GCD of {}: {}\".format(arr, get_array_gcd(arr)))"
   ]
  },
  {
   "cell_type": "code",
   "execution_count": 12,
   "metadata": {},
   "outputs": [
    {
     "name": "stdout",
     "output_type": "stream",
     "text": [
      "Move 1 disk from rod A to rod B\n",
      "Move 2 disk from rod A to rod C\n",
      "Move 1 disk from rod B to rod C\n"
     ]
    }
   ],
   "source": [
    "# find the steps taken to solve a towers of hanoi problem\n",
    "# INPUT: int\n",
    "# OUTPUT: void\n",
    "\n",
    "# 1. If there is only one disk, move it from the source rod to the destination rod [print].\n",
    "# 2. Otherwise,\n",
    "#     a. Move n-1 disks from the source rod to the auxiliary rod using the destination rod as an auxiliary.\n",
    "#     b. Move the nth disk from the source rod to the destination rod [print].\n",
    "#     c. Move the n-1 disks from the auxiliary rod to the destination rod using the source rod as an auxiliary.\n",
    "# \n",
    "# source -> auxiliary\n",
    "# auxiliary -> destination\n",
    "\n",
    "def tower_of_hanoi(disks:int, source:str, destination:str, auxiliary: str):\n",
    "    if(disks == 1):\n",
    "        print(f\"Move 1 disk from rod {source} to rod {destination}\")\n",
    "    else:\n",
    "        tower_of_hanoi(disks - 1, source, auxiliary, destination)\n",
    "        print(f\"Move {disks} disk from rod {source} to rod {destination}\")\n",
    "        tower_of_hanoi(disks - 1, auxiliary, destination, source)\n",
    "\n",
    "\n",
    "n = 2\n",
    "tower_of_hanoi(n, 'A', 'C', 'B')"
   ]
  }
 ],
 "metadata": {
  "kernelspec": {
   "display_name": "Python 3",
   "language": "python",
   "name": "python3"
  },
  "language_info": {
   "codemirror_mode": {
    "name": "ipython",
    "version": 3
   },
   "file_extension": ".py",
   "mimetype": "text/x-python",
   "name": "python",
   "nbconvert_exporter": "python",
   "pygments_lexer": "ipython3",
   "version": "3.10.2"
  }
 },
 "nbformat": 4,
 "nbformat_minor": 2
}
