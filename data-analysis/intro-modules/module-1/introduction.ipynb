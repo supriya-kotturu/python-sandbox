{
 "cells": [
  {
   "cell_type": "markdown",
   "id": "d2b1e9d5-3f61-48ab-9773-0e566b949ad7",
   "metadata": {},
   "source": [
    "Module 1:\n",
    "\n",
    "A. Tools for Coding:\n",
    "\n",
    "Python Development Tools\n",
    "Development tools help us to build fast and reliable Python solutions. It includes Integrated Development Environment (IDE), Python package manager, and productive extensions. These tools have made it easy to test the software, debug, and deploy solutions in production.\n",
    "\n",
    "Development tools\n",
    "\n",
    "1. Jupyter Notebook\n",
    "   Jupyter Notebook is a web-based IDE for experimenting with code and displaying the results. It is fairly popular among data scientists and machine learning practitioners. It allows them to run and test small sets of code and view results instead of running the whole file.\n",
    "\n",
    "The Jupyter Notebook lets us add a description and heading using markdown and export the result in the form of PDF and .ipynb files.\n",
    "\n",
    "When you mix scientific computation with Python development, you get a Jupyter Notebook. Nowadays, teachers are using it for teaching data science courses, data analysts are using it to create reports, and machine learning engineers are using experimentation and building high-performing model architecture.\n",
    "\n",
    "A free cloud Jupyter notebook tool is DataLab, built by DataCamp. DataLab runs fully in the browser, so you don't have to install anything else on your computer to start using it. Discover our Jupyter tutorial to learn how to use it.\n",
    "\n",
    "It is not going anywhere in the future, people are building production-ready solutions on it, and tech giants like AWS are also incorporating it into the cloud computing ecosystems.\n",
    "\n",
    "2. Pip\n",
    "   Pip is a tool that uses Python Package Index to install and manage Python software. There are 393,343 projects for you to download and install with lightning speed. The Python ecosystem works on it.\n",
    "\n",
    "pip install <package_name>\n",
    "\n",
    "Powered By\n",
    "Pip is not just an installer. You can create and manage Python environments, install dependencies, and install packages from third-party repositories using URLs. Learn more about pip by following the PIP Python Tutorial tutorial.\n",
    "\n",
    "python -m pip install -r requirements.txt\n",
    "\n",
    "Powered By 3. VSCode\n",
    "Visual Studio Code is free, lightweight, and a powerful code editor. You can build, test, deploy, and maintain all types of applications without leaving the software window. It comes with syntax highlighting, code auto-completing, language, Git, and in-line debug support. You can use extensions to pre-build systems and deploy applications to the cloud.\n",
    "\n",
    "VSCode is the most popular IDE in the world, and its popularity is mainly due to free extensions that improve user experience. The extensions allow data scientists to run experiments on the Jupyter notebook, edit markdown files, integrate SQL server, collaborate on projects, autocomplete code, and in-line code help. Instead of using multiple software, you can use extensions and run everything from VSCode software like bash terminal and browser.\n",
    "\n",
    "Python Data Analysis Tools\n",
    "Data analysis tools allow users to ingest, clean, and manipulate data for statistical analysis. Every data professional must understand the core functionality of these tools to perform data analysis, machine learning, data engineering, and business intelligence tasks.\n",
    "\n",
    "Data Analysis Tools\n",
    "\n",
    "4. pandas\n",
    "   pandas is a gateway into the world of data science. The first thing you learn as a beginner is to load a CSV file using read_csv(). pandas is an essential tool for all data professionals.\n",
    "\n",
    "You can load a dataset, clean it, manipulate it, calculate statistics, create visualizations, and save the data into various file formats. The pandas API is simple and intuitive. You can load and save CSV and text files, Microsoft Excel, SQL databases, and the fast HDF5 file format.\n",
    "\n",
    "Learn more about pandas by taking our Data Manipulation with pandas course.\n",
    "\n",
    "5. Numpy\n",
    "   NumPy is a fundamental Python package for scientific computations, and most modern tools are built upon it. As a data scientist, you will use the Numpy array for mathematical calculations and data wrangling. It provides multidimensional array objects to perform fast operations such as logical, shape manipulation, sorting, selection, basic statics operation, and random simulation.\n",
    "\n",
    "Numpy will help you understand the fundamentals of mathematics in data science and how to convert complex equations into Python code. You can use it to create machine learning models, customized statical formulas, scientific simulations, and perform advanced data analytics tasks.\n",
    "\n",
    "Learn more about NumPy by taking our Introduction to NumPy course.\n",
    "\n",
    "6. SQLAlchemy\n",
    "   SQLAlchemy is a Python SQL toolkit for you to access and manage relational databases. It uses Object Relational Mapper to provide powerful features and flexibility of SQL.\n",
    "\n",
    "This tool is necessary for data scientists and analytics who are used to perform data processing and analytics in Python. You can either use SQL scripts to perform data analysis or use an object-based approach where you can use an intuitive Python API to perform similar tasks in effective ways.\n",
    "\n",
    "Learn more about SQLAlchemy by taking an Introduction to Databases course on DataCamp.\n",
    "\n",
    "7. Dask\n",
    "   Dask is an essential tool for processing big data or files. It uses parallel computing to perform similar tasks by libraries like NumPy, pandas, and scikit-learn.\n",
    "\n",
    "Running a simple logical function on a large dataset of 4GB will take at least 10 minutes. Even with better machines, you cannot improve processing times to a few seconds. Dask uses dynamic task scheduling and parallel data collection to achieve fast results with the same machine.\n",
    "\n",
    "The API is similar to pandas and scikit-learn. It is flexible, native to Python, it can scale up (1000 core) and down (single core), and provides rapid feedback and diagnostics to aid humans.\n",
    "\n",
    "Python Data Visualization Tools\n",
    "Data visualization gives life to data analysis. If you want to explain things to non-technical executives, you need to tell a data story by displaying a bar chart, line plot, scatter plot, heat maps, and histograms. The visualization tools help data analytics create interactive, colorful, and clean visualization with few lines of code.\n",
    "\n",
    "Data Visualization Tools\n",
    "\n",
    "8. Matplotlib\n",
    "   Matplotlib is a gateway to the world of data visualization. You will learn about it in many data visualization introductions.\n",
    "\n",
    "With Matplotlib, you can create fully customizable static, animated, and interactive visualizations. It’s intuitive, and you can use it to plot 3D, multilevel, and detailed visualization. There are hundreds of examples of different visualizations available in the gallery.\n",
    "\n",
    "You can learn more about Matplotlib in our Data Visualization with Matplotlib course..\n",
    "\n",
    "9. Seaborn\n",
    "   Seaborn is a high-level interface based on Matplotlib for creating attractive statistical graphics. Similar to Matplotlib, you can produce interactive visualization by typing a single line of code.\n",
    "\n",
    "It is highly adaptable and works wonders when you are new to data visualization. For customizing, you can always use matplotlib to create multiple graphs, edit axis, title, or even colors. In some cases, seaborn will calculate everything for you and display distplot, violin plot, residplot, implot, joint plot, and boxplot.\n",
    "\n",
    "Learn more about Seaborn by taking a Data Visualization with Seaborn course on DataCamp.\n",
    "\n",
    "10. Plotly\n",
    "    When you want the features of Tableau or PowerBI, you use the Plotly Python library to display interactive and publication-quality graphs. You can zoom into a graph, isolate a single bar, filter things, and even animate it to your needs.\n",
    "\n",
    "It comes with custom controls and allows you to animate your visualizations and work on data transformation. Plotly also contains Jupyter widgets, 3D charts, AI charts, financial charts, and scientific charts.\n",
    "\n",
    "Plotly is the best tool to create data analytics Jupyter-based reports. Instead of creating multiple static plots, you can make one and add custom controls to explore and explain data insights.\n",
    "\n",
    "You can discover how to utilize Plotly with our Data Visualization with Plotly course.\n",
    "\n",
    "11. Pandas-profiling\n",
    "    Pandas-profiling is an AutoEDA tool for creating exploratory data analytics reports with a single line of code. The report includes column types, missing values, unique values, quantile statistics, descriptive statistics, histogram, correlation, text analysis, and file and image analysis.\n",
    "\n",
    "It is quite a helpful tool when you have less time to explore. For example, during technical tests, preparation for team meetings, and participating in the competition.\n"
   ]
  },
  {
   "cell_type": "markdown",
   "id": "d19fd778-a089-4a4a-b7f8-21d3041784d6",
   "metadata": {},
   "source": [
    "B. Python Review:\n",
    "\n",
    "Python Programming: A Comprehensive Review\n",
    "Python, a versatile, high-level programming language, has become one of the most popular languages for both beginners and seasoned developers. Known for its readability, simplicity, and expansive standard library, Python has established itself in various domains like web development, data analysis, machine learning, automation, and scientific computing.\n",
    "\n",
    "Pros of Python Programming\n",
    "Readability and Simplicity: Python's syntax is clear and intuitive. Its use of indentation, as opposed to brackets or keywords, makes it more readable. This simplicity is particularly beneficial for beginners who are learning how to code. It allows them to focus more on solving problems than wrestling with complex syntax.\n",
    "\n",
    "Extensive Libraries and Frameworks: Python has an impressive collection of libraries and frameworks. For example, libraries like NumPy, Pandas, and Matplotlib are essential for data analysis, while TensorFlow and PyTorch are widely used in machine learning. Flask and Django simplify web development, making Python a truly multi-purpose language.\n",
    "\n",
    "Cross-Platform Compatibility: Python is cross-platform, meaning that programs written in Python can run on multiple operating systems without modification. This flexibility is useful for developers working across different environments.\n",
    "\n",
    "Community Support: Python has an enormous and active community. Whether you're a beginner looking for tutorials or an experienced developer facing a challenge, there’s almost always an answer or a resource available. The strong community also means that Python is continuously evolving with contributions from developers worldwide.\n",
    "\n",
    "Productivity and Flexibility: Python’s dynamic typing and interpreted nature allow for rapid development and testing. It is ideal for prototype building, making Python a popular choice for startups and projects with tight deadlines.\n",
    "\n",
    "Cons of Python Programming\n",
    "Speed Limitations: While Python is efficient for many tasks, it is an interpreted language, which makes it slower than compiled languages like C or C++. For performance-critical applications such as real-time systems or games, this may be a disadvantage.\n",
    "\n",
    "Weak in Mobile and Game Development: Although Python is excellent for web development, data science, and automation, it is not the first choice for mobile or game development. There are frameworks like Kivy for mobile apps, but they aren't as mature or widely adopted as alternatives like Swift for iOS or Java/Kotlin for Android.\n",
    "\n",
    "High Memory Usage: Python's flexible data types come at the cost of higher memory consumption. In environments where memory is a constraint, such as embedded systems, Python may not be the best choice.\n"
   ]
  },
  {
   "cell_type": "markdown",
   "id": "71cc1b52-a96f-498b-8e5d-e26de93c471a",
   "metadata": {},
   "source": [
    "#Basics of Python\n"
   ]
  },
  {
   "cell_type": "code",
   "execution_count": 6,
   "id": "9107119d-0130-4346-ad5e-ed213af295e0",
   "metadata": {},
   "outputs": [],
   "source": [
    "import sys\n",
    "import keyword\n",
    "import operator\n",
    "from datetime import datetime\n",
    "import os"
   ]
  },
  {
   "cell_type": "code",
   "execution_count": 7,
   "id": "e8c154be-c046-4765-96c4-747086abc225",
   "metadata": {},
   "outputs": [
    {
     "name": "stdout",
     "output_type": "stream",
     "text": [
      "['False', 'None', 'True', 'and', 'as', 'assert', 'async', 'await', 'break', 'class', 'continue', 'def', 'del', 'elif', 'else', 'except', 'finally', 'for', 'from', 'global', 'if', 'import', 'in', 'is', 'lambda', 'nonlocal', 'not', 'or', 'pass', 'raise', 'return', 'try', 'while', 'with', 'yield']\n"
     ]
    }
   ],
   "source": [
    "# Keywords Keywords are the reserved words in Python and can't be used as an identifier\n",
    "print(keyword.kwlist) # List all Python Keywords"
   ]
  },
  {
   "cell_type": "code",
   "execution_count": 8,
   "id": "f3be25b3-813b-4e84-a934-d9e1809b7730",
   "metadata": {},
   "outputs": [
    {
     "data": {
      "text/plain": [
       "35"
      ]
     },
     "execution_count": 8,
     "metadata": {},
     "output_type": "execute_result"
    }
   ],
   "source": [
    "len(keyword.kwlist) # Python contains 35 keywords"
   ]
  },
  {
   "cell_type": "code",
   "execution_count": 9,
   "id": "a3f67636-34f3-4ddd-94cd-c829fd6baf16",
   "metadata": {},
   "outputs": [],
   "source": [
    "#Identifiers \n",
    "# An identifier is a name given to entities like class, functions, variables, etc. It helps to differentiat eone entity from another\n",
    "# 1var=10 # Identifier can't start with a digit."
   ]
  },
  {
   "cell_type": "code",
   "execution_count": 10,
   "id": "6f2203f9-2314-479e-b589-6150f1287896",
   "metadata": {},
   "outputs": [
    {
     "ename": "NameError",
     "evalue": "name 'val2' is not defined",
     "output_type": "error",
     "traceback": [
      "\u001b[1;31m---------------------------------------------------------------------------\u001b[0m",
      "\u001b[1;31mNameError\u001b[0m                                 Traceback (most recent call last)",
      "Cell \u001b[1;32mIn[10], line 1\u001b[0m\n\u001b[1;32m----> 1\u001b[0m val2\u001b[38;5;241m@\u001b[39m\u001b[38;5;241m=\u001b[39m\u001b[38;5;241m35\u001b[39m \u001b[38;5;66;03m# Identifier can't use special symbols\u001b[39;00m\n",
      "\u001b[1;31mNameError\u001b[0m: name 'val2' is not defined"
     ]
    }
   ],
   "source": [
    "val2@=35 # Identifier can't use special symbols"
   ]
  },
  {
   "cell_type": "code",
   "execution_count": null,
   "id": "cd5e8f17-2756-4f7e-ace4-fddf4804a89e",
   "metadata": {},
   "outputs": [],
   "source": [
    "import=125 # Keywords can't be used as identifiers"
   ]
  },
  {
   "cell_type": "code",
   "execution_count": 13,
   "id": "ffff80cd-f93b-407f-9901-2000c66f6bed",
   "metadata": {},
   "outputs": [],
   "source": [
    "\"\"\" Correct way of defining an identifier\n",
    "(Identifiers can be a combination of letters in lowercase (a to z) or uppercase (\n",
    "\"\"\"\n",
    "val12=10"
   ]
  },
  {
   "cell_type": "code",
   "execution_count": 15,
   "id": "30d225e7-5e96-48ef-ba00-13ad17e2ea1e",
   "metadata": {},
   "outputs": [],
   "source": [
    "val_=99"
   ]
  },
  {
   "cell_type": "code",
   "execution_count": null,
   "id": "324903b9-436a-4d2e-90c8-043dc91ca70f",
   "metadata": {},
   "outputs": [],
   "source": [
    "#1st basic program\n",
    "'''Python is the best programming \n",
    "language for machine learning and data science'''\n",
    "# for single line comment\n",
    "'''for multiple line comment''' \n",
    "print (\"hello world\")"
   ]
  },
  {
   "cell_type": "markdown",
   "id": "e43fbed9-7882-4462-813b-ce86e980ce69",
   "metadata": {},
   "source": [
    "Variables\n"
   ]
  },
  {
   "cell_type": "code",
   "execution_count": null,
   "id": "fd005e04-be32-4125-b1a9-1f531c201395",
   "metadata": {},
   "outputs": [],
   "source": [
    "a= '''I love bengaluru weather\n",
    "and Brigade road is a must visit place'''\n",
    "b = 2021\n",
    "c = 12.15\n",
    "print(a)\n",
    "print (b)\n",
    "print (c)\n",
    "# for the boolean valuse true or false\n",
    "d = True\n",
    "print (d)\n",
    "# to denote nothing is called none\n",
    "e = None\n",
    "print (e)"
   ]
  },
  {
   "cell_type": "code",
   "execution_count": null,
   "id": "ce232f65-76dc-4033-9582-f40dcf50a25e",
   "metadata": {},
   "outputs": [],
   "source": [
    "#printing the data type of variables used by a,b,c,d,e\n",
    "# using built in function\n",
    "print (type(a))\n",
    "print (type(b))\n",
    "print (type(c))\n",
    "print (type(d))\n",
    "print (type(e))"
   ]
  },
  {
   "cell_type": "raw",
   "id": "d54f0126-0fdf-4c98-8072-60267c34eb70",
   "metadata": {},
   "source": [
    "# Rules for naming variables\n",
    "''' 1. Variables cannot start with digits for ex: 222geluvaraj\n",
    "2. Varibles name can contain digits, alphabets, underscores\n",
    "3. A variable name can only start with alphabets or underscore Ex: geluvaraj or _geuvaraj\n",
    "4. No white space is allowed to be used inside a variable name for Ex: _geluvaraj  222\n",
    "5. Variables are case sensitive a=100 and A=200 are very much different'''"
   ]
  },
  {
   "cell_type": "markdown",
   "id": "359b6024-0231-4bc6-bacf-11594a82ac95",
   "metadata": {},
   "source": [
    "Operators\n"
   ]
  },
  {
   "cell_type": "code",
   "execution_count": null,
   "id": "31d65044-c75f-46b8-8561-6fe65415ec29",
   "metadata": {},
   "outputs": [],
   "source": [
    "# Arithematic Operators\n",
    "\n",
    "a = 600\n",
    "b = 562\n",
    "\n",
    "print(\"The value of 600+562 is\",600+562)\n",
    "print(\"The value of 600-562 is\",600-562)\n",
    "print(\"The value of 600/562 is\",600/562)\n",
    "print(\"The value of 600*562 is\",600*562)"
   ]
  },
  {
   "cell_type": "code",
   "execution_count": null,
   "id": "a0468ad0-5435-421a-b49f-af22715ed747",
   "metadata": {},
   "outputs": [],
   "source": [
    "# Assignment operators\n",
    "\n",
    "a = 365\n",
    "a += 100\n",
    "b = 500\n",
    "b -= 56\n",
    "c = 998\n",
    "c *= 98\n",
    "d = 300\n",
    "d /= 3\n",
    "print (a)\n",
    "print (b)\n",
    "print (c)\n",
    "print (d)"
   ]
  },
  {
   "cell_type": "code",
   "execution_count": null,
   "id": "888a7e49-21b6-49f6-97fb-9dfa1e83dc32",
   "metadata": {},
   "outputs": [],
   "source": [
    "# comparison operators\n",
    "a = (100 > 300)\n",
    "print (a)\n",
    "b = (100 < 300)\n",
    "print (b)\n",
    "c = (100 >= 300)\n",
    "print (c)\n",
    "d = (100 <= 300)\n",
    "print (d)\n",
    "e = (100 != 300)\n",
    "print (e)\n",
    "f = (100 == 300)\n",
    "print (f)"
   ]
  },
  {
   "cell_type": "code",
   "execution_count": null,
   "id": "5c393e27-f6e2-40e5-ac64-73cd030d7600",
   "metadata": {},
   "outputs": [],
   "source": [
    "#Logical operators\n",
    "\n",
    "# for AND\n",
    "\n",
    "bool1 = True\n",
    "bool2 = False\n",
    "print (\" the value of bool1 and bool2 is \" , bool1 and bool2)\n",
    "# as per boolean algebra if any of the one both must be true or false else it will return false\n",
    "bool11 = False\n",
    "bool12 = False\n",
    "print (\" the value of bool11 and bool12 is \" , bool11 and bool12)\n",
    "# 1 1 = 1\n",
    "# 1 0 = 0\n",
    "# 0 1 = 0\n",
    "# 0 0 = 1"
   ]
  },
  {
   "cell_type": "code",
   "execution_count": null,
   "id": "c70c706b-9a04-47ed-9855-e89ec53cf97b",
   "metadata": {},
   "outputs": [],
   "source": [
    "# for OR\n",
    " \n",
    "bool1 = True\n",
    "bool2 = False\n",
    "print (\" the value of bool1 or bool2 is \" , bool1 or bool2)\n",
    "bool21 = True\n",
    "bool23 = True\n",
    "print (\" the value of bool21 or bool23 is \" , bool21 or bool23)\n",
    "bool11 = False\n",
    "bool12 = True\n",
    "print (\" the value of bool11 or bool12 is \" , bool11 or bool12)\n",
    "bool41 = False\n",
    "bool42 = False\n",
    "print (\" the value of bool41 or bool42 is \" , bool41 or bool42)\n",
    "\n",
    "#As per boolean algebra for or\n",
    "# 1 0 1\n",
    "# 0 1 1\n",
    "# 1 1 1\n",
    "# 0 0 0"
   ]
  },
  {
   "cell_type": "code",
   "execution_count": null,
   "id": "78351420-e422-4551-90a7-1f6c7e142f37",
   "metadata": {},
   "outputs": [],
   "source": [
    "# for NOT\n",
    "# it will be use against one value which directly reverses it\n",
    "bool15= False\n",
    "print(\" the value of bool15 is\", not bool15)\n",
    "bool16 = True\n",
    "print(\" the value of bool16 is\", not bool16)"
   ]
  },
  {
   "cell_type": "markdown",
   "id": "752fee2b-82e0-49cc-b6bc-6f2d3a9f8a7f",
   "metadata": {},
   "source": [
    "# Typecast is a way of changing an object from one data type to the next.\n",
    "\n",
    "# It is used in computer programming to ensure a function handles the variables correctly.\n"
   ]
  },
  {
   "cell_type": "code",
   "execution_count": null,
   "id": "2eb521f3-398f-4ae7-8d41-99ec9adaafb3",
   "metadata": {},
   "outputs": [],
   "source": [
    "a =(\"98562\")\n",
    "print(type(a))"
   ]
  },
  {
   "cell_type": "code",
   "execution_count": 33,
   "id": "78b8153f-348c-451c-bfc2-c23d1f32f801",
   "metadata": {},
   "outputs": [],
   "source": [
    "# now lets convert this into integer\n",
    "a= int(a)"
   ]
  },
  {
   "cell_type": "code",
   "execution_count": null,
   "id": "7c7f400d-ea87-4f7d-b1d4-ca4fe95bdb40",
   "metadata": {},
   "outputs": [],
   "source": [
    "print(type(a))"
   ]
  },
  {
   "cell_type": "code",
   "execution_count": null,
   "id": "a1ed7cad-dae0-4189-9909-e36b7e4801c9",
   "metadata": {},
   "outputs": [],
   "source": [
    "g=(96.56)\n",
    "print(type(g))"
   ]
  },
  {
   "cell_type": "code",
   "execution_count": 39,
   "id": "8845c73d-6810-4334-85ee-c3706578e2c3",
   "metadata": {},
   "outputs": [],
   "source": [
    "g=int(g)"
   ]
  },
  {
   "cell_type": "code",
   "execution_count": null,
   "id": "1d7bb5a4-6248-4f86-acdb-3c528b1b1aa3",
   "metadata": {},
   "outputs": [],
   "source": [
    "print(type(g))"
   ]
  },
  {
   "cell_type": "code",
   "execution_count": null,
   "id": "a5c5a893-8b40-46f6-a688-e0625179ebfb",
   "metadata": {},
   "outputs": [],
   "source": [
    "# string is a data type in python\n",
    "# string is sequence of characters enclosed in quotes\n",
    "# string can be writen in three ways\n",
    "# single quote\n",
    "# double quote\n",
    "# triple quote\n",
    "\n",
    "# why need all these quotes\n",
    "\n",
    "a ='king'\n",
    "b= \"king\"\n",
    "c='''king'''\n",
    "print(a)\n",
    "print(b)\n",
    "print(c)\n",
    "\n",
    "#because when there is a requirement of apstrophe the library gets confuses and throws a invalid syntax error\n",
    "\n",
    "#d ='king's'\n",
    "#print(d)\n",
    "#invalid syntax\n",
    "\n",
    "# so it can be represented as\n",
    "\n",
    "e = '''king's'''\n",
    "print(e)\n",
    "\n",
    "f=\"king'''s\"\n",
    "print(f)\n",
    "\n",
    "g= '''king's'''\n",
    "print(g)\n",
    "\n",
    "h='king\"s'\n",
    "print(h)"
   ]
  },
  {
   "cell_type": "code",
   "execution_count": null,
   "id": "43f36e86-f740-4499-9dd3-83ef9f960d28",
   "metadata": {},
   "outputs": [],
   "source": [
    "greeting = 'Welome to Evening VIT batch'\n",
    "batch = ' 2024 batch'\n",
    "print (type(greeting))\n",
    "print (greeting+batch)\n",
    "c= greeting+batch\n",
    "print(c)\n",
    "# This is concatenation program adding of 2 strings"
   ]
  },
  {
   "cell_type": "code",
   "execution_count": null,
   "id": "1ae74c91-8491-4c07-83ac-ba01e9c07081",
   "metadata": {},
   "outputs": [],
   "source": [
    "#indexing of the strings\n",
    "\n",
    "name = \"geluvaraj\"\n",
    "print(name[0])"
   ]
  },
  {
   "cell_type": "code",
   "execution_count": null,
   "id": "bdb02d07-0753-4264-ab28-88b5a19f6740",
   "metadata": {},
   "outputs": [],
   "source": [
    "# Examples of Arithmetic Operator\n",
    "a = 9\n",
    "b = 4\n",
    "\n",
    "# Addition of numbers\n",
    "add = a + b\n",
    "\n",
    "# Subtraction of numbers\n",
    "sub = a - b\n",
    "\n",
    "# Multiplication of number\n",
    "mul = a * b\n",
    "\n",
    "# Division(float) of number\n",
    "div1 = a / b\n",
    "\n",
    "# Division(floor) of number\n",
    "div2 = a // b\n",
    "\n",
    "# Modulo of both number\n",
    "mod = a % b\n",
    "\n",
    "# Power\n",
    "p = a ** b\n",
    "\n",
    "# print results\n",
    "print(add)\n",
    "print(sub)\n",
    "print(mul)\n",
    "print(div1)\n",
    "print(div2)\n",
    "print(mod)\n",
    "print(p)"
   ]
  },
  {
   "cell_type": "markdown",
   "id": "cbcbebba-0ba4-4ba0-8402-2c4b8203edfc",
   "metadata": {},
   "source": [
    "Input operations and print\n"
   ]
  },
  {
   "cell_type": "code",
   "execution_count": null,
   "id": "707ef9d6-17ab-418b-9da9-9df9b8c9c37a",
   "metadata": {},
   "outputs": [],
   "source": [
    "# write a python program to find the remainder when a number is divided\n",
    "\n",
    "a = 152\n",
    "b =15\n",
    "print(\" The remainder is:\", a%b)"
   ]
  },
  {
   "cell_type": "code",
   "execution_count": null,
   "id": "29696953-a790-472c-ab9a-cdaf004c1176",
   "metadata": {},
   "outputs": [],
   "source": [
    "#addition of 2 numbers\n",
    "a=89554\n",
    "b=55462\n",
    "print(\"the sum of a and b is \", a+b)"
   ]
  },
  {
   "cell_type": "code",
   "execution_count": null,
   "id": "c8c0f774-e1ab-459e-97b9-fc96a399b2b9",
   "metadata": {},
   "outputs": [],
   "source": [
    "#find the average of 2 numbers\n",
    "\n",
    "a= input(\"Enter a number a:\")\n",
    "b= input(\"Enter a number b:\")\n",
    "a= int(a)\n",
    "b= int(b)\n",
    "avg= (a+b)/2\n",
    "print (\" The avg of a and b:\", avg)"
   ]
  },
  {
   "cell_type": "code",
   "execution_count": null,
   "id": "174c8a10-e964-434e-b6d6-a08e3f5f2abc",
   "metadata": {},
   "outputs": [],
   "source": [
    "# Python Program to find the area of triangle\n",
    "\n",
    "a = 5\n",
    "b = 6\n",
    "c = 7\n",
    "\n",
    "# Uncomment below to take inputs from the user\n",
    "# a = float(input('Enter first side: '))\n",
    "# b = float(input('Enter second side: '))\n",
    "# c = float(input('Enter third side: '))\n",
    "\n",
    "# calculate the semi-perimeter\n",
    "s = (a + b + c) / 2\n",
    "\n",
    "# calculate the area\n",
    "area = (s*(s-a)*(s-b)*(s-c)) ** 0.5\n",
    "print('The area of the triangle is',area)"
   ]
  },
  {
   "cell_type": "markdown",
   "id": "f3f4091e-2d62-465d-b40f-23a884868bac",
   "metadata": {},
   "source": [
    "Conditional statements:\n"
   ]
  },
  {
   "cell_type": "code",
   "execution_count": null,
   "id": "40f0b798-27b5-49f0-93dd-48f3746cfa94",
   "metadata": {},
   "outputs": [],
   "source": [
    "x=10\n",
    "if (x<40):\n",
    "    print(\"FAIL\")"
   ]
  },
  {
   "cell_type": "code",
   "execution_count": null,
   "id": "700f6fb5-7da2-4bbd-b723-2d629ade33cf",
   "metadata": {},
   "outputs": [],
   "source": [
    "x=-1\n",
    "if (x<0):\n",
    "    print(\"Pass\")"
   ]
  },
  {
   "cell_type": "code",
   "execution_count": null,
   "id": "c2656ec3-4429-41dd-a74e-850ef8038cd8",
   "metadata": {},
   "outputs": [],
   "source": [
    "# python program to illustrate If statement\n",
    "\n",
    "i = 5\n",
    "if (i > 15):\n",
    "    print(\"20 is less than 15\")\n",
    "print(\"I am Not in if\")"
   ]
  },
  {
   "cell_type": "code",
   "execution_count": null,
   "id": "f1373f61-e1bd-4e10-96f4-6474647facad",
   "metadata": {},
   "outputs": [],
   "source": [
    "age=int(input(\"Enter the Person age:\"))\n",
    "if (age>18):\n",
    "    print(\"You are eligible to VOTE\")\n",
    "else:\n",
    "    print(\"You are not eligible to vote\")"
   ]
  },
  {
   "cell_type": "code",
   "execution_count": null,
   "id": "f8f97ddd-fbf6-465b-ad0e-460a57077b7a",
   "metadata": {},
   "outputs": [],
   "source": [
    "X=int(input(\"Enter X:\"))\n",
    "if (X%2 == 0):\n",
    "    print (\"X is even:\",X)\n",
    "else:\n",
    "    print (\"X is odd:\",X)"
   ]
  },
  {
   "cell_type": "markdown",
   "id": "73359638-345c-408e-9837-45ff9aac17f2",
   "metadata": {},
   "source": [
    "Nested if else\n"
   ]
  },
  {
   "cell_type": "code",
   "execution_count": null,
   "id": "89bd1347-6c70-49b2-aae3-14bed73b6ff0",
   "metadata": {},
   "outputs": [],
   "source": [
    "marks=float(input(\"Enter marks:\"))\n",
    "if marks>=60:\n",
    "    if marks<70:\n",
    "        print(\"First Class\")\n",
    "    else:\n",
    "        print(\"Distinction\")"
   ]
  },
  {
   "cell_type": "code",
   "execution_count": null,
   "id": "7831ddd3-b135-4e2b-8feb-2682397b5cef",
   "metadata": {},
   "outputs": [],
   "source": [
    "# User enters the year\n",
    "year = int(input(\"Enter Year: \"))\n",
    "\n",
    "# Leap Year Check\n",
    "if year % 4 == 0:  #1st codition is checked\n",
    "    if year % 100 == 0: #2nd checks for century year\n",
    "        if year % 400 ==0: #3rd checks completely divides by 400 or not \n",
    "                print(year, \"is a Leap Year\")  # all conditions are true prints this statement\n",
    "        else: \n",
    "            print(year, \"is not a Leap Year\")  # is not divided by 400 prints this statement for century year\n",
    "    else:\n",
    "        print(year, \"is a Leap Year\") # for the 1st condition\n",
    "else:\n",
    "    print(year, \"is not a Leap Year\") # for the 1st condition"
   ]
  },
  {
   "cell_type": "markdown",
   "id": "719515da-c2f3-4adb-b6a8-0458a0a27d63",
   "metadata": {},
   "source": [
    "if and elif\n"
   ]
  },
  {
   "cell_type": "code",
   "execution_count": null,
   "id": "53aa5b0f-e237-4b0a-9073-8b6c459e30e5",
   "metadata": {},
   "outputs": [],
   "source": [
    "'''write a program to take input from users and check whether it is number or character. if it is, determine \n",
    "whether it is a lower case or uppercase'''\n",
    "\n",
    "ch=input(\"Enter the character:\")\n",
    "if(ch>='A' and ch<='Z'):\n",
    "    print(\"Uppercase character was entered\")\n",
    "elif(ch>='a' and ch<='z'):\n",
    "    print(\"Lowercase character was entered\")\n",
    "elif(ch>'0=' and ch<='9'):\n",
    "    print(\"A number was entered\")\n",
    "print(\"U DID A GREAT JOB\")"
   ]
  },
  {
   "cell_type": "code",
   "execution_count": null,
   "id": "d90bdf83-8ea2-4116-ab50-dcac53a8f6cb",
   "metadata": {},
   "outputs": [],
   "source": [
    "'''Write a pgm to enter the marks of a student in four sbjects. then calculate the total and aggregate. and\n",
    "display the grade obtained by the student. if the student scores an aggregate greater than 75%. then the grade is\n",
    "distinction. if aggregate is 60>= and <75 then the grade is first division. if aggregate is 50>= and <60, then\n",
    "the grade is second division. if aggrgate is 40>= and <50 hen the grade isthird division else the \n",
    "grade is fail'''\n",
    "\n",
    "marks1=int(input(\"Enter the marks1:\"))\n",
    "marks2=int(input(\"enter the marks2:\"))\n",
    "marks3=int(input(\"Enter the marks3:\"))\n",
    "marks4=int(input(\"Enter the marks4:\"))\n",
    "total=marks1+marks2+marks3+marks4\n",
    "avg=(total)/4\n",
    "if(avg>=75):\n",
    "    print(\"Distinction\")\n",
    "elif(avg>=60 and avg<75):\n",
    "    print(\"First Division\")\n",
    "elif(avg>=50 and avg<60):\n",
    "    print(\"Second Division\")\n",
    "elif(avg>=40 and avg<50):\n",
    "    print(\"Thrird Division\")\n",
    "else:\n",
    "    print(\"Fail\")\n"
   ]
  },
  {
   "cell_type": "markdown",
   "id": "77ac7ef5-f96d-4faa-a00a-d6ed6da0ee90",
   "metadata": {},
   "source": [
    "While loop\n"
   ]
  },
  {
   "cell_type": "code",
   "execution_count": null,
   "id": "c1133a0b-6656-40bf-a5aa-0c6bdd6c0ede",
   "metadata": {},
   "outputs": [],
   "source": [
    "#Program to print first 10 numbers using while loop\n",
    "\n",
    "i=0\n",
    "while(i<=10):\n",
    "    print(i)\n",
    "    i=i+1"
   ]
  },
  {
   "cell_type": "code",
   "execution_count": null,
   "id": "ac171a1d-0209-4df8-ad20-a165f073b2c3",
   "metadata": {},
   "outputs": [],
   "source": [
    "#program to print \"VIT\" 5 times\n",
    "i=0\n",
    "while(i<=5):\n",
    "    print(\"VIT\")\n",
    "    i=i+1"
   ]
  },
  {
   "cell_type": "code",
   "execution_count": null,
   "id": "73421ef8-b9c5-4dc0-9530-5af5209d0e83",
   "metadata": {},
   "outputs": [],
   "source": [
    "#program to separate values printed on the same line using the tab\n",
    "i=0\n",
    "while(i<10):\n",
    "    print(i,end= '\\t')\n",
    "    i=i+1"
   ]
  },
  {
   "cell_type": "code",
   "execution_count": null,
   "id": "994946cb-327d-4f8e-84ef-0fdc68ef53ae",
   "metadata": {},
   "outputs": [],
   "source": [
    "#write a program to calculate the sum and average of first 10 numbers using looping\n",
    "i=0\n",
    "sum=0\n",
    "while(i<=10):\n",
    "    sum=sum+i\n",
    "    i=i+1    \n",
    "avg=float(sum)/10\n",
    "print(\"The sum of the numbers is:\",sum)\n",
    "print(\"The average of first 10 numbers is:\",avg)"
   ]
  },
  {
   "cell_type": "code",
   "execution_count": null,
   "id": "25592e95-b90a-458f-8850-3b1050349a0f",
   "metadata": {},
   "outputs": [],
   "source": [
    "#write a program to calculate the sum of numbers from M to N\n",
    "m=int(input(\"Enter a number for m:\"))\n",
    "n=int(input(\"Enter a number for n:\"))\n",
    "sum=0\n",
    "while(m<=n):\n",
    "    sum=sum+m\n",
    "    m=m+1\n",
    "print(\"SUM of m and n is:\",sum)"
   ]
  },
  {
   "cell_type": "code",
   "execution_count": null,
   "id": "0a8e1790-ba9f-453d-9b9e-b9ae992c410b",
   "metadata": {},
   "outputs": [],
   "source": [
    "n= int(input(\"Enter Number:\"))\n",
    "reverse=0\n",
    "while(n>0):\n",
    "    digit=n%10\n",
    "    reverse=reverse*10+digit\n",
    "    n=n//10\n",
    "print(\"reverse of the number:\",reverse) "
   ]
  },
  {
   "cell_type": "code",
   "execution_count": null,
   "id": "7d20150e-f784-4d80-8844-14403d555a37",
   "metadata": {},
   "outputs": [],
   "source": [
    "#write a program to find the entered number is Armstrong number or not\n",
    "'''Hint: An Armstrong number of 3 digits is an integer such that the sum of the cubes of \n",
    "its digits is equal to the number itself For Ex:, 371 is armstrong number \n",
    "becuause: 3*3*3+7*7*7+1*1*1=371(n power is 3 here )\n",
    "one more ex: 1634 = 1*1*1*1+6*6*6*6+3*3*3*3+4*4*4*4(n power is 4 here)'''\n",
    "\n",
    "number=int(input(\"Enter a postive number:\"))\n",
    "sum=0\n",
    "original=number\n",
    "while(number>0):\n",
    "    remainder=number%10\n",
    "    sum=sum+remainder**3\n",
    "    number=number//10\n",
    "if(sum==original):\n",
    "    print(\"The entered number is Armstrong number:\")\n",
    "else:\n",
    "    print(\"The entered number is not a Armstrong number\")\n",
    "    \n",
    "#The pgm works 3 powers if u want the program to work for more digits keep changing the powers"
   ]
  },
  {
   "cell_type": "code",
   "execution_count": null,
   "id": "4f579eb8-2422-4d8c-86c9-6c3ee28bb4c7",
   "metadata": {},
   "outputs": [],
   "source": [
    "'''write a program to read the numbers until -1 is encountered. find the average of positive and negative numbers \n",
    "enetered by the user'''\n",
    "\n",
    "neg_count=0\n",
    "neg_s=0\n",
    "pos_count=0\n",
    "pos_s=0\n",
    "print(\"Enter -1 to exit\")\n",
    "while(1):                             \n",
    "    num=int(input(\"Enter any number:\"))\n",
    "    if(num==-1):\n",
    "        break\n",
    "    if(num<0):\n",
    "        neg_count=neg_count+1\n",
    "        neg_s=neg_s+num\n",
    "    else:\n",
    "        pos_count=pos_count+1\n",
    "        pos_s=pos_s+num\n",
    "neg_avg = float(neg_s)/neg_count\n",
    "pos_avg = float(pos_s)/pos_count\n",
    "print(\"The average of positive numbers\", pos_avg)\n",
    "print(\"The average of negative numbers\", neg_avg)"
   ]
  },
  {
   "cell_type": "markdown",
   "id": "6e53eaa2-80ec-40c0-9b4c-211322fd5069",
   "metadata": {},
   "source": [
    "For loop:\n"
   ]
  },
  {
   "cell_type": "code",
   "execution_count": null,
   "id": "ffc49b44-a8d6-455c-8ec8-0df3244b0451",
   "metadata": {},
   "outputs": [],
   "source": [
    "a=5\n",
    "for i in range(a):\n",
    "    print(a)"
   ]
  },
  {
   "cell_type": "code",
   "execution_count": null,
   "id": "a6eb2680-c442-4ea9-8dcb-86bf2e9a0284",
   "metadata": {},
   "outputs": [],
   "source": [
    "a=5\n",
    "for i in range(a):\n",
    "    print(i)"
   ]
  },
  {
   "cell_type": "code",
   "execution_count": null,
   "id": "f3132e2b-3b74-4bd9-a5fb-37bcaed2bddb",
   "metadata": {},
   "outputs": [],
   "source": [
    "q=range(1,5)\n",
    "for i in q:\n",
    "    print(i)"
   ]
  },
  {
   "cell_type": "code",
   "execution_count": null,
   "id": "b9708202-8440-411c-85b7-9a6359245fef",
   "metadata": {},
   "outputs": [],
   "source": [
    "for i in range(1,5):\n",
    "    print(i)"
   ]
  },
  {
   "cell_type": "code",
   "execution_count": null,
   "id": "df67ca66-e879-4894-b51c-f033de70d95e",
   "metadata": {},
   "outputs": [],
   "source": [
    "a=range(10,0,-1)                   #(beg,end,step)\n",
    "for i in a:\n",
    "    print(i)"
   ]
  },
  {
   "cell_type": "code",
   "execution_count": null,
   "id": "455a3b41-395f-4e5f-ba76-4bab76fc776a",
   "metadata": {},
   "outputs": [],
   "source": [
    "#wap a pgm using for loop tocalculate the average of first n natural numbers\n",
    "\n",
    "n=int(input(\"Enter the value of n:\"))\n",
    "avg=0\n",
    "sum=0\n",
    "for i in range(1,n+1):\n",
    "    sum=(n*(n+1)/2)\n",
    "avg=sum/n\n",
    "print(\"The sum of first\",n,\"natural numbers is\",sum)\n",
    "print(\"The average of first\",n,\"natural numbers is\",avg)"
   ]
  },
  {
   "cell_type": "code",
   "execution_count": null,
   "id": "6224cfe3-fa61-466e-aedd-07211b774f93",
   "metadata": {},
   "outputs": [],
   "source": [
    "#wap for factorial of a number\n",
    "n=int(input(\"Enter a number:\"))\n",
    "result=1\n",
    "for i in range(n,0,-1):\n",
    "    result=result*i\n",
    "print(\"The factorial of a number\",n,\"is\",result)"
   ]
  },
  {
   "cell_type": "code",
   "execution_count": null,
   "id": "856c45c8-14bb-4483-b850-dca472195610",
   "metadata": {},
   "outputs": [],
   "source": [
    "#WAP to print number entered is prime or not prime\n",
    "n=int(input(\"Enter the number:\"))\n",
    "for i in range(2,n):\n",
    "    if(n%i==0):\n",
    "        print(n,\"is a not prime number\")\n",
    "        break\n",
    "else:\n",
    "    print(n, \"is prime number\")\n"
   ]
  },
  {
   "cell_type": "code",
   "execution_count": null,
   "id": "d119883b-5797-4c40-9e71-d9ac1dc927eb",
   "metadata": {},
   "outputs": [],
   "source": [
    "n=int(input(\"enter how many number you want in the fionacci series\"))\n",
    "first=0\n",
    "second=1\n",
    "for i in range(n):\n",
    "    print(first)\n",
    "    temp=first\n",
    "    first=second\n",
    "    second=temp+second\n",
    "print()"
   ]
  },
  {
   "cell_type": "code",
   "execution_count": null,
   "id": "1b65372b-6bcf-40c0-b08a-9e2b62881234",
   "metadata": {},
   "outputs": [],
   "source": [
    "# Asking the user input for printing stars horizontal\n",
    "\n",
    "n=int(input(\"Enter the number of stars:\"))\n",
    "for i in range(1,n+1):\n",
    "    print('*',end=\" \")"
   ]
  },
  {
   "cell_type": "code",
   "execution_count": null,
   "id": "a6d40afa-750f-4df2-b74a-da7b5cb7563b",
   "metadata": {},
   "outputs": [],
   "source": [
    "# Asking the user input for printing stars vertical\n",
    "n=int(input(\"Enter the number of stars:\"))\n",
    "for i in range(1,n+1):\n",
    "    print('*')"
   ]
  },
  {
   "cell_type": "code",
   "execution_count": null,
   "id": "8bffecbd-901d-4712-a44b-90dcc7c7af31",
   "metadata": {},
   "outputs": [],
   "source": [
    "# WAp to print the stars 5 separates rows and 5 columns\n",
    "# pgm logic is correct, to much of repetative tasks, let us use the power of coding\n",
    "for i in range(5):\n",
    "    print('#',end=' ')\n",
    "print()\n",
    "for j in range(5):\n",
    "    print('#', end=' ')\n",
    "print()\n",
    "for k in range(5):\n",
    "    print('#',end=' ')\n",
    "print()\n",
    "for l in range(5):\n",
    "    print('#', end=' ')\n",
    "print()\n",
    "for m in range(5):\n",
    "    print('#', end=' ')"
   ]
  },
  {
   "cell_type": "code",
   "execution_count": null,
   "id": "b8b8df94-f353-4aa4-9114-d12039638ace",
   "metadata": {},
   "outputs": [],
   "source": [
    "for i in range(2):\n",
    "    print('outerloop',i)\n",
    "    for j in range(3):\n",
    "        print('Innerloop',j)\n",
    "print(\"Rest in Peace looping\")"
   ]
  },
  {
   "cell_type": "code",
   "execution_count": null,
   "id": "3a3bb329-f640-4230-99ab-c97dcc9680ae",
   "metadata": {},
   "outputs": [],
   "source": [
    "for i in range(2):\n",
    "    for j in range(3):\n",
    "        print('Innerloop',j)\n",
    "    print('outerloop',i)\n",
    "print(\"Rest in Peace looping\")"
   ]
  },
  {
   "cell_type": "code",
   "execution_count": null,
   "id": "4b6165f7-7e75-47eb-b76f-295c293dc914",
   "metadata": {},
   "outputs": [],
   "source": [
    "for i in range(5):\n",
    "    for j in range(i+1):\n",
    "        print('*',end='')\n",
    "    print()"
   ]
  },
  {
   "cell_type": "code",
   "execution_count": null,
   "id": "d5a7ff76-bde5-4631-b386-73163d1c8c00",
   "metadata": {},
   "outputs": [],
   "source": [
    "for i in range(5):\n",
    "    for k in range(i+1):\n",
    "        print(' ',end='')\n",
    "    for j in range(5-i):\n",
    "        print('#',end='')\n",
    "    print()"
   ]
  },
  {
   "cell_type": "code",
   "execution_count": null,
   "id": "b43923d6-d281-48fe-8598-83a6ea095ef5",
   "metadata": {},
   "outputs": [],
   "source": [
    "n=5\n",
    "for i in range(n):\n",
    "    for j in range(i,n):\n",
    "        print(' ',end='')\n",
    "    for k in range(i+1):\n",
    "        print('2',end='')\n",
    "    print()"
   ]
  },
  {
   "cell_type": "code",
   "execution_count": null,
   "id": "28c8c586-fc68-4e4a-8392-dcdb4373f1bc",
   "metadata": {},
   "outputs": [],
   "source": [
    "n=5\n",
    "for i in range(n):\n",
    "    for j in range(i):\n",
    "        print(' ',end='')\n",
    "    for k in range(n-i):\n",
    "        print('*',end='')\n",
    "    for l in range(n-i-1):\n",
    "        print('*',end='')\n",
    "    print()"
   ]
  },
  {
   "cell_type": "markdown",
   "id": "2966254e-a209-428f-ad6b-ba4fef72bc4e",
   "metadata": {},
   "source": [
    "Break, continue and pass\n"
   ]
  },
  {
   "cell_type": "code",
   "execution_count": null,
   "id": "682dda8c-e5f4-4f5f-b509-70a13e41d3b3",
   "metadata": {},
   "outputs": [],
   "source": [
    "#wap for vending machine for candies\n",
    "\n",
    "Candies=int(input(\"Enter the number of candies:\"))\n",
    "i=1\n",
    "while(i<=Candies):\n",
    "    print(\"Candies\")\n",
    "    i=i+1"
   ]
  },
  {
   "cell_type": "code",
   "execution_count": null,
   "id": "520a4583-a584-4516-a04f-66fa8ef91f1a",
   "metadata": {},
   "outputs": [],
   "source": [
    "#what if the candies available in the machine are only 3\n",
    "\n",
    "available=3\n",
    "Candies=int(input(\"Enter the number of candies:\"))\n",
    "i=1\n",
    "while(i<=Candies):\n",
    "    if(i>available):\n",
    "        print(\"out of stock\")\n",
    "        break\n",
    "    print(\"Candies\")\n",
    "    i=i+1\n",
    "print(\"babye\")"
   ]
  },
  {
   "cell_type": "code",
   "execution_count": null,
   "id": "5eb4af02-5c60-4789-8241-190b366c723c",
   "metadata": {},
   "outputs": [],
   "source": [
    "'''WAP to print the numbers from 1 to 100 and remove which are divisble by 3 and 5'''\n",
    "for i in range(1,100):\n",
    "    if(i%3==0 or i%5==0):\n",
    "        continue\n",
    "    print(i)\n",
    "print(\"Happy Corona days\")"
   ]
  },
  {
   "cell_type": "code",
   "execution_count": null,
   "id": "ab1e56bf-389c-4487-b0ac-0ce62b2129d5",
   "metadata": {},
   "outputs": [],
   "source": [
    "'''WAp tto print the numbers from 1 to 100 and print odd numbers'''\n",
    "\n",
    "for i in range(1,101):\n",
    "    if(i%2==0):\n",
    "        pass\n",
    "    else:\n",
    "        print(i)"
   ]
  },
  {
   "attachments": {},
   "cell_type": "markdown",
   "id": "9d1b47ee-c193-4f4c-91b9-49c7c9b854f5",
   "metadata": {},
   "source": [
    "Functions:\n",
    "\n",
    "A function is a block of organized and reusable program code that performs a single, specific and well defined task. Python enables its programmers to break up a program into functions, each of which can be written more or less independently of the others. Fig explains how a function func1() is called to Perform a well defined task then program Control is passed to the first statement in the Function. All the statements in the function are Executed and then the program control is passed to the statement following the one that called a function.\n",
    "\n",
    "Defining a function means specifying its name, parameters that are expected, and the set of instructions. Once the basic structure of a function is finalized. It can be executed by calling it.\n",
    "The function call statement invokes the function. When function is invoked, the program control jumps in the called function to execute the statements that are a part of that function. Once the called function is executed. The program control passes back to the calling function. The syntax of calling A function that does not accept parameters is simply the name of the function is followed by parenthesis.\n",
    "function_name:()\n",
    "Function call statements has the following syntax when it accepts parameters\n",
    "Function call statement has the following syntax, when it accepts parameters.\n",
    "Function_name(variable1,variabl:e2..)\n",
    "When the function is called, the interpreter checks that the correct number and type of arguments are used in the function call. It also checks the type of the returned value.\n"
   ]
  },
  {
   "cell_type": "code",
   "execution_count": null,
   "id": "278f621b-c43d-497f-9d32-2cf2f17d7cb6",
   "metadata": {},
   "outputs": [],
   "source": [
    "# def is a keyword, sub is a function name x and y are function arguments\n",
    "def sub(x,y):    \n",
    "    return(x-y)\n",
    "x=20\n",
    "y=10\n",
    "print(sub(x,y))     # function is called"
   ]
  },
  {
   "cell_type": "code",
   "execution_count": null,
   "id": "3b133043-017d-45be-9dbf-a9c0c19ff801",
   "metadata": {},
   "outputs": [],
   "source": [
    "def func():\n",
    "    for i in range(4):\n",
    "        print(\"Vitians\")\n",
    "func()"
   ]
  },
  {
   "cell_type": "code",
   "execution_count": null,
   "id": "0549e468-ea89-4ce7-8d29-aa1b45e49f3f",
   "metadata": {},
   "outputs": [],
   "source": [
    "def mul(a,b):              # def is a keyword, sub is a function name x and y are function arguements\n",
    "    return(a*b)\n",
    "a=20\n",
    "b=10\n",
    "print(mul(a,b))"
   ]
  },
  {
   "cell_type": "code",
   "execution_count": null,
   "id": "4c766cee-d645-4c6a-a596-8f745ff16c50",
   "metadata": {},
   "outputs": [],
   "source": [
    "def func(i):\n",
    "    print(\"Hello world\",i)\n",
    "i=10\n",
    "func(i)"
   ]
  },
  {
   "cell_type": "code",
   "execution_count": null,
   "id": "af891c3f-7551-4f37-9258-8e8bddce457d",
   "metadata": {},
   "outputs": [],
   "source": [
    "def func(i):                   #function definition header accepts a variable with name i\n",
    "    print(\"Hello world\",i)\n",
    "j=10\n",
    "func(j)                          # function is called using variable j"
   ]
  },
  {
   "cell_type": "code",
   "execution_count": null,
   "id": "9dcc38be-370e-44f2-a853-4d31698f0f36",
   "metadata": {},
   "outputs": [],
   "source": [
    "def func(i):\n",
    "    print(\"Hello world\",i)\n",
    "func(5+2+3+5*6)"
   ]
  },
  {
   "cell_type": "code",
   "execution_count": null,
   "id": "31dfbb0f-361c-43b8-81f7-91e05dafb2d0",
   "metadata": {},
   "outputs": [],
   "source": [
    "# Program to add 2 integers using functions\n",
    "def total(a,b):\n",
    "    result=a+b\n",
    "    print(\"Sum of\",a,\"and\",b,\"=\",result)\n",
    "a=int(input(\"Enter the first number:\"))\n",
    "b=int(input(\"Enter the second number:\"))\n",
    "total(a,b)"
   ]
  },
  {
   "cell_type": "code",
   "execution_count": null,
   "id": "fc6addfe-c716-4522-ac11-bc9f5b0f0a55",
   "metadata": {},
   "outputs": [],
   "source": [
    "#Program can be written in another way by chaning the variable names in the program body\n",
    "def add(a,b):\n",
    "    c=a+b\n",
    "    return c\n",
    "x=int(input(\"Enter a number a:\"))\n",
    "y=int(input(\"Enter a number b:\"))\n",
    "Z=add(x,y)\n",
    "print(\"Addition of two numbers is\",Z)"
   ]
  },
  {
   "cell_type": "code",
   "execution_count": null,
   "id": "34a1930f-6e6f-4744-b3e2-9698b0ba237e",
   "metadata": {},
   "outputs": [],
   "source": [
    "def display():\n",
    "    print(\"In function\")\n",
    "    print(\"About to execute return statement\")\n",
    "    return\n",
    "    print(\"This line will never be displayed\")\n",
    "display()\n",
    "print(\"back to the caller\")"
   ]
  },
  {
   "cell_type": "code",
   "execution_count": null,
   "id": "bb4ab94c-cf79-4fd2-b326-090db309d973",
   "metadata": {},
   "outputs": [],
   "source": [
    "def returnfunction(num):\n",
    "    num=num*2\n",
    "    return num\n",
    "x=returnfunction(4)\n",
    "x"
   ]
  },
  {
   "cell_type": "code",
   "execution_count": null,
   "id": "cdd84e21-8631-4570-ba2e-6ba3ea929cfd",
   "metadata": {},
   "outputs": [],
   "source": [
    "# A program for default argument assumes a default value if a value is not provided in the function call for that argument\n",
    "def display(name,course='BTECH'):\n",
    "    print(\"Name:\"+name)\n",
    "    print(\"Course:\",course)\n",
    "display(course='MS',name=\"Raj\")   #keyword arguments\n",
    "display(name='King GJ')             #default argument for course"
   ]
  },
  {
   "cell_type": "code",
   "execution_count": null,
   "id": "596e32b5-4bbd-4149-a058-2a9ac3d5ead3",
   "metadata": {},
   "outputs": [],
   "source": [
    "# program to demonstrate keyword arguments\n",
    "def display(str,int_x,float_y):\n",
    "    print(\"The string is:\",str)\n",
    "    print(\"The integer value is:\",int_x)\n",
    "    print(\"The floating point value is:\",float_y)\n",
    "display(str=\"i love u\",int_x=3000,float_y=0.0)"
   ]
  },
  {
   "cell_type": "code",
   "execution_count": null,
   "id": "1c09c53c-52ec-4951-be32-23a420ece1e7",
   "metadata": {},
   "outputs": [],
   "source": [
    "# program to demonstrate keyword arguments using assignment operators and function parameters using other variables\n",
    "def display(name,age,salary):\n",
    "    print(\"Name:\",name)\n",
    "    print(\"Age:\",age)\n",
    "    print(\"Salary:\",salary)\n",
    "N='GJ'\n",
    "A=29\n",
    "S=123456\n",
    "display(salary=S,age=A,name=N)"
   ]
  },
  {
   "cell_type": "code",
   "execution_count": null,
   "id": "6726daaa-d437-402a-8784-1a8d41c15fd4",
   "metadata": {},
   "outputs": [],
   "source": [
    "def fun(name,*fav_movies_series):\n",
    "    print('\\n', name,\"likes to watch\")\n",
    "    for movies in fav_movies_series:\n",
    "        print(movies,end=\" \")\n",
    "fun(\"GJ\",\"Multiverse of Madness\",\"Moon Knight\",\"Rings of power\",\"Thor-Love and thunder\")\n",
    "fun(\"KING\",\"Black adam\",\"The Batman\",\"Aquman-The lost kingdoms\")\n",
    "fun(\"Raj\")"
   ]
  },
  {
   "cell_type": "code",
   "execution_count": null,
   "id": "fe032209-bd79-4fde-8123-29bb9914f43c",
   "metadata": {},
   "outputs": [],
   "source": [
    "Strings:"
   ]
  },
  {
   "cell_type": "code",
   "execution_count": null,
   "id": "bc0a7290-1198-4f4c-954f-f1b8089e96fc",
   "metadata": {},
   "outputs": [],
   "source": [
    "# defining strings in Python\n",
    "# all of the following are equivalent\n",
    "first_string = 'Hello'\n",
    "print(first_string)\n",
    "\n",
    "second_string = \"Hello\"\n",
    "print(second_string)\n",
    "\n",
    "third_string = '''Hello'''\n",
    "print(third_string)\n",
    "\n",
    "# triple quotes string can extend multiple lines\n",
    "sentence_string = '''Hello, welcome to New horizon college of engineering'''\n",
    "print(sentence_string)"
   ]
  },
  {
   "cell_type": "code",
   "execution_count": null,
   "id": "e97a42b3-1427-4f69-8e5f-3fbcad31074d",
   "metadata": {},
   "outputs": [],
   "source": [
    "#Accessing string characters in Python\n",
    "str = 'GELUVARAJ'\n",
    "print('str = ', str)\n",
    "\n",
    "print('str[0:9]=',str)\n",
    "\n",
    "#first character\n",
    "print('str[0] = ',str[0])\n",
    "\n",
    "#last character\n",
    "print('str[-1] =',str[-1])\n",
    "\n",
    "#slicing 2nd to 5th character\n",
    "print('str[1:5] = ', str[1:5])\n",
    "\n",
    "#slicing 6th to 2nd last character\n",
    "print('str[5:-2] = ', str[5:-2])\n",
    "\n",
    "#slicing the string -9 to 6\n",
    "print('str[-9:5]=',str[-9:5])\n",
    "\n",
    "#\n",
    "print('str[3] = ',str[3:])"
   ]
  },
  {
   "cell_type": "code",
   "execution_count": null,
   "id": "324d9760-bed9-4a6e-a5e7-e98f04d85f89",
   "metadata": {},
   "outputs": [],
   "source": [
    "# Concatenation of a string\n",
    "a='King of'\n",
    "b=' Hearts'\n",
    "print(a+b)"
   ]
  },
  {
   "cell_type": "code",
   "execution_count": null,
   "id": "4538d897-1b36-469d-b265-87bbbea79945",
   "metadata": {},
   "outputs": [],
   "source": [
    "# Iterating through a string and finding the letters count\n",
    "count = 0\n",
    "for letter in 'New horizon college of engineering':\n",
    "    if(letter == 'l'):\n",
    "        count = count+1\n",
    "print(count,'letters found')"
   ]
  },
  {
   "cell_type": "code",
   "execution_count": null,
   "id": "cbb269a0-9a21-4bbc-ba3b-16adcf971a53",
   "metadata": {},
   "outputs": [],
   "source": [
    "text = 'Everything is fair in love and war'\n",
    "# Splits at space\n",
    "print(text.split())\n",
    "\n",
    "word = 'Everything,is, fair, in, love, and, war'\n",
    "# Splits at ','\n",
    "print(word.split(','))\n",
    "\n",
    "word = 'Everything:is:fair:in:love:and,:war'\n",
    "# Splitting at ':'\n",
    "print(word.split(':'))\n",
    "\n",
    "word ='catbatsatfatratchat'\n",
    "# Splitting at t\n",
    "print(word.split('t'))"
   ]
  },
  {
   "cell_type": "code",
   "execution_count": null,
   "id": "a9e9fb72-3701-419f-9a67-40a0013a5b3a",
   "metadata": {},
   "outputs": [],
   "source": [
    "#Removing a Character from String using the Naive method\n",
    "input_str = \"Geluvaraj\"\n",
    "   \n",
    "# Printing original string  \n",
    "print (\"Original string: \",input_str) \n",
    "   \n",
    "result_str = \"\" \n",
    "   \n",
    "for i in range(0, len(input_str)): \n",
    "    if i != 3: \n",
    "        result_str = result_str + input_str[i] # done slicing and concatenation both\n",
    "   \n",
    "# Printing string after removal   \n",
    "print (\"String after removal of i'th character : \",result_str)"
   ]
  },
  {
   "cell_type": "code",
   "execution_count": null,
   "id": "fc932b1a-cf77-4233-a5b6-7141aa5011aa",
   "metadata": {},
   "outputs": [],
   "source": [
    "#Removal of Character from a String using Slicing and Concatenation\n",
    "str = \"Geluvaraj\"\n",
    "print (\"Original string: \" + str) \n",
    "   \n",
    "# Removing char at pos 3 \n",
    "# using slice + concatenation \n",
    "res_str = str[:2]\n",
    "print (\"String after removal of character: \" + res_str) "
   ]
  },
  {
   "cell_type": "code",
   "execution_count": null,
   "id": "bfb8f80e-b079-4d13-b8d2-0740002757cf",
   "metadata": {},
   "outputs": [],
   "source": [
    "#Comparison Operator\n",
    "string1 = \"Geluvaraj\"\n",
    "string2 = \"Geluvaraj1\"\n",
    "string3 = \"Geluvaraj2\"\n",
    "string4 = \"Geluvaraj3\"\n",
    "print(string1==string4)\n",
    "print(string2==string3)\n",
    "print(string1!=string4)\n",
    "print(string2!=string3)"
   ]
  },
  {
   "cell_type": "code",
   "execution_count": null,
   "id": "99309e87-7f21-477e-b034-6eb39f231228",
   "metadata": {},
   "outputs": [],
   "source": [
    "name = \"GELUVARAJ\"\n",
    "YOB= 1990\n",
    "Height = 5.6\n",
    "\n",
    "string1 = 'Hey %s' % (name)\n",
    "print(string1)\n",
    "\n",
    "string2 = 'my YOB is %d' % (YOB)\n",
    "print(string2)\n",
    "\n",
    "string3= 'My name is %s, my year if birth is %d' % (name, YOB)\n",
    "print(string3)\n",
    "\n",
    "string3= 'My name is %s, my height is %f' % (name, Height)\n",
    "print(string3)"
   ]
  },
  {
   "cell_type": "code",
   "execution_count": null,
   "id": "afe2a84d-4556-47b3-9ccb-e5de4a486225",
   "metadata": {},
   "outputs": [],
   "source": [
    "#You can use multiple format conversion types in a single print statement\n",
    "variable = 12\n",
    "\n",
    "string = \"Variable as integer = %d \\n\\\n",
    "Variable as float = %f\" %(variable, variable)\n",
    "\n",
    "print (string)"
   ]
  },
  {
   "cell_type": "code",
   "execution_count": null,
   "id": "23b2afe0-a055-4dfd-bdf6-2e82b2548027",
   "metadata": {},
   "outputs": [],
   "source": [
    "a = 5\n",
    "b = 10\n",
    "print(f\"My age is {2 * (a + b)}.\")"
   ]
  },
  {
   "cell_type": "markdown",
   "id": "f4a98b42-639f-4049-bb5a-61f4eff9e57d",
   "metadata": {},
   "source": [
    "Built-in functions:\n"
   ]
  },
  {
   "cell_type": "code",
   "execution_count": null,
   "id": "8b0acd40-d343-48db-ba75-cd2740a5cd71",
   "metadata": {},
   "outputs": [],
   "source": [
    "str1 = \"geluvaraj\"\n",
    "str2 = str1.capitalize()\n",
    "print(str2)"
   ]
  },
  {
   "cell_type": "code",
   "execution_count": null,
   "id": "dc1e6fb3-1a13-409c-bf82-503a2551a848",
   "metadata": {},
   "outputs": [],
   "source": [
    "str1 = 'HELLO FROM RAJ'\n",
    "str2 = str1.casefold()\n",
    "print(str2)"
   ]
  },
  {
   "cell_type": "code",
   "execution_count": null,
   "id": "f2fb8742-571f-4ce1-8240-a2f13af62d1e",
   "metadata": {},
   "outputs": [],
   "source": [
    "str1 = \"geluvaraj\"\n",
    "str2 = str1.index('l')\n",
    "print(str2)"
   ]
  },
  {
   "cell_type": "code",
   "execution_count": null,
   "id": "fde326ad-065e-4950-af53-f418f57f7590",
   "metadata": {},
   "outputs": [],
   "source": [
    "str1 = \"VIT\"\n",
    "str2 = str1.lower()\n",
    "print(str2)"
   ]
  },
  {
   "cell_type": "code",
   "execution_count": null,
   "id": "30704b41-8e53-4225-ac16-07b8b090d865",
   "metadata": {},
   "outputs": [],
   "source": [
    "str1 = \"VIT\"\n",
    "str2 = str1.swapcase()\n",
    "print(str2)"
   ]
  },
  {
   "cell_type": "code",
   "execution_count": null,
   "id": "cf5cfab9-eefd-451f-a242-8de58bb22916",
   "metadata": {},
   "outputs": [],
   "source": [
    "str1 = \"geluvaraj\"\n",
    "str2 = str1.upper()\n",
    "print(str2)"
   ]
  },
  {
   "cell_type": "code",
   "execution_count": 1,
   "id": "a8296e2b-a1dd-46bf-b280-834b5de17ce4",
   "metadata": {},
   "outputs": [],
   "source": [
    "# LISTS : A list is an ordered sequence of values. It is a data structure in Python. The values inside the lists can be of any type (like integer, float, strings, lists, tuples, dictionaries etc) and are called as elements or items. The elements of lists are enclosed within square brackets. \n",
    "# For example, \n",
    "ls1=[10,-4, 25, 13] \n",
    "# ls2=[“Tiger”, “Lion”, “Cheetah”] \n",
    "# Here, ls1 is a list containing four integers, and ls2 is a list containing three strings. A list need not contain data of same type. We can have mixed type of elements in list. For example, \n",
    "ls3=[3.5, 'Tiger', 10, [3,4]] \n",
    "# Here, ls3 contains a float, a string, an integer and a list. This illustrates that a list can be nested as well. \n",
    "# An empty list can be created any of the following ways – \n",
    "# >>> ls =[]                                ls=list() \n",
    "# >>> type(ls)                or            type(ls)\n",
    "# <class 'list’>                            <class ‘list’>   \n"
   ]
  },
  {
   "cell_type": "code",
   "execution_count": null,
   "id": "83aa6b2f-5de9-44c6-93ee-1adaf54ab0eb",
   "metadata": {},
   "outputs": [],
   "source": [
    "ls=[34, 'hi', [2,3],-5] \n",
    "print(ls[3*1])"
   ]
  },
  {
   "cell_type": "code",
   "execution_count": null,
   "id": "e35fb6b9-d4c9-47fd-b1e6-ba005b014175",
   "metadata": {},
   "outputs": [],
   "source": [
    "ls=[34, 'hi','hello',-5] \n",
    "for item in ls: \n",
    "     print(item) "
   ]
  },
  {
   "cell_type": "code",
   "execution_count": null,
   "id": "71da2ad7-7299-4114-aef9-db79bae68941",
   "metadata": {},
   "outputs": [],
   "source": [
    "ls=[34, 'hi','hello',-5] \n",
    "for item in ls: \n",
    "     print(ls) "
   ]
  },
  {
   "cell_type": "code",
   "execution_count": null,
   "id": "73115c55-b69b-4ac5-a071-062a32e0ca38",
   "metadata": {},
   "outputs": [],
   "source": [
    "ls=[1,2,3,4] \n",
    "for i in range(len(ls)): \n",
    "    ls[i]=ls[i]**2 \n",
    "    print(ls)"
   ]
  },
  {
   "cell_type": "code",
   "execution_count": null,
   "id": "6e6b2aaf-b4c4-4b69-9921-90707abd3490",
   "metadata": {},
   "outputs": [],
   "source": [
    "list1 =['red','green','yellow','black']\n",
    "for i in range(len(list1)): \n",
    "    print(list1[i]) "
   ]
  },
  {
   "cell_type": "code",
   "execution_count": null,
   "id": "3af57b73-9128-424d-9a45-def825ef519f",
   "metadata": {},
   "outputs": [],
   "source": [
    "ls1=[1,2,3] \n",
    "ls2=[5,6,7] \n",
    "print(ls1+ls2) "
   ]
  },
  {
   "cell_type": "code",
   "execution_count": null,
   "id": "81bbf51a-deb5-43a2-a718-1c8641c0520f",
   "metadata": {},
   "outputs": [],
   "source": [
    "ls1=[1,2,3] \n",
    "print(ls1*3) "
   ]
  },
  {
   "cell_type": "code",
   "execution_count": null,
   "id": "c8babba1-dcb1-400d-895c-31846d65404b",
   "metadata": {},
   "outputs": [],
   "source": [
    "t=['a','b','c','d','e']                 #reverse a list\n",
    "print(t[::-1]) "
   ]
  },
  {
   "cell_type": "code",
   "execution_count": null,
   "id": "50a4474b-333a-43dd-b285-fbcaf57ff413",
   "metadata": {},
   "outputs": [],
   "source": [
    "print(t[:])       "
   ]
  },
  {
   "cell_type": "code",
   "execution_count": null,
   "id": "0525d44d-4643-4ef9-bf2c-03b65b1abf0e",
   "metadata": {},
   "outputs": [],
   "source": [
    "print(t[:3]) "
   ]
  },
  {
   "cell_type": "code",
   "execution_count": null,
   "id": "09bffed9-88ae-4341-a99e-7ee04f3e702c",
   "metadata": {},
   "outputs": [],
   "source": [
    "print(t[:-2])"
   ]
  },
  {
   "cell_type": "code",
   "execution_count": null,
   "id": "ef217672-9909-48c5-9d46-8ebfb084f45e",
   "metadata": {},
   "outputs": [],
   "source": [
    "list1 = ['red','green','blue']\n",
    "'green' in list1 "
   ]
  },
  {
   "cell_type": "code",
   "execution_count": null,
   "id": "1e56704c-63f4-451f-a432-e84cb16e7e8a",
   "metadata": {},
   "outputs": [],
   "source": [
    "list1 = ['red','green','blue']\n",
    "'violet' in list1"
   ]
  },
  {
   "cell_type": "code",
   "execution_count": null,
   "id": "86bd723d-e8bf-4b4c-8b5f-7cecaaf3c42f",
   "metadata": {},
   "outputs": [],
   "source": [
    "#to remove last element from the list\n",
    "ls=[3,6,-2,8,10] \n",
    "x=ls.pop()          #10 is removed from list and stored in x \n",
    "print(ls)\n",
    "print(x)"
   ]
  },
  {
   "cell_type": "code",
   "execution_count": null,
   "id": "ccb5037c-908b-4cce-a825-0fd47d1cfe69",
   "metadata": {},
   "outputs": [],
   "source": [
    "t = ['a', 'b', 'c'] \n",
    "x = t.pop(1)              #item at index 1 is popped \n",
    "print(t) \n",
    "print(x) "
   ]
  },
  {
   "cell_type": "code",
   "execution_count": null,
   "id": "4ee26652-5d65-4cba-86b9-ca29a05541de",
   "metadata": {},
   "outputs": [],
   "source": [
    "ls=[3,6,-2,8,1]\n",
    "del ls[2] #item at index 2 is deleted\n",
    "print(ls)"
   ]
  },
  {
   "cell_type": "code",
   "execution_count": null,
   "id": "740b8ef5-e960-4bc7-bfd8-22536bb58251",
   "metadata": {},
   "outputs": [],
   "source": [
    "ls=[3,6,-2,8,1] \n",
    "del ls[1:4]         #deleting all elements from index 1 to 3 \n",
    "print(ls)"
   ]
  },
  {
   "cell_type": "code",
   "execution_count": null,
   "id": "6d58565d-0bea-4c46-91c8-d298dbfc8f24",
   "metadata": {},
   "outputs": [],
   "source": [
    "ls=['a','b','c','d','e'] \n",
    "del ls[1::2] \n",
    "print(ls) "
   ]
  },
  {
   "cell_type": "code",
   "execution_count": null,
   "id": "63eb1ff4-9cd6-48fb-be0e-04f0bb577aba",
   "metadata": {},
   "outputs": [],
   "source": [
    "list1 = [10,20,30,40,50]                   #length of the list\n",
    "len(list1)"
   ]
  },
  {
   "cell_type": "code",
   "execution_count": null,
   "id": "970c7d3d-06d8-440f-86af-5261fd4ab4ec",
   "metadata": {},
   "outputs": [],
   "source": [
    "str1='aeiou'                          #string converted to list\n",
    "list1 = list(str1) \n",
    "print(list1)"
   ]
  },
  {
   "cell_type": "code",
   "execution_count": null,
   "id": "cf1b8de9-ccf6-4bb6-a561-206056390e2c",
   "metadata": {},
   "outputs": [],
   "source": [
    "list1 = [10,20,30,40]                       #adding an element to the list\n",
    "list1.append(50) \n",
    "print(list1)\n",
    "\n",
    "list1 = [10,20,30,40] \n",
    "list1.append([50,60]) \n",
    "print(list1)"
   ]
  },
  {
   "cell_type": "code",
   "execution_count": null,
   "id": "695739fd-7bde-419a-9bbc-1cc5853f8a1e",
   "metadata": {},
   "outputs": [],
   "source": [
    "list1 = [10,20,30,40,50]  #inserts element 25 at index value 2 \n",
    "list1.insert(2,25) \n",
    "print(list1) \n",
    "\n",
    "\n",
    "list1 = [10,20,30,40,50]  #inserts element 0 at index value 0 \n",
    "list1.insert(0,0) \n",
    "print(list1)"
   ]
  },
  {
   "cell_type": "code",
   "execution_count": null,
   "id": "3fec1e34-ad14-4008-9d00-cb161efbe411",
   "metadata": {},
   "outputs": [],
   "source": [
    "list1 = ['Tiger','Zebra','Lion', 'Cat', 'Elephant' ,'Dog'] \n",
    "list1.sort() \n",
    "print(list1) \n",
    "\n",
    "\n",
    "list1 = [34,66,12,89,28,99] \n",
    "list1.sort(reverse = True)       #to sort in descending order\n",
    "print(list1) "
   ]
  },
  {
   "cell_type": "code",
   "execution_count": null,
   "id": "5220f7cf-99d1-40a3-b8c5-27cf47c96122",
   "metadata": {},
   "outputs": [],
   "source": [
    "list1 = [23,45,11,67,85,56]         #creates a new list\n",
    "list2 = sorted(list1) \n",
    "print(list1)\n",
    "print(list2)"
   ]
  },
  {
   "cell_type": "markdown",
   "id": "f1b778a8-283c-4656-9b8a-ff015ac94975",
   "metadata": {},
   "source": [
    "Program 4-1 Write a program to allow user to perform any those list operation given in a menu. The menu is:\n",
    "\n",
    "1.  Append an elemen2.t\n",
    "    Insert an eleme3.nt\n",
    "    Append a list to the given l4.ist\n",
    "    Modify an existing ele5.ment\n",
    "    Delete an existing element from its pos6.ition\n",
    "    Delete an existing element with a given7. value\n",
    "    Sort the list in the ascendin8.g order\n",
    "    Sort the list in descendi9.ng order\n",
    "    Display the list.\n"
   ]
  },
  {
   "cell_type": "code",
   "execution_count": null,
   "id": "de52a441-f8be-4ee1-8fe9-8e5daeb2df35",
   "metadata": {},
   "outputs": [],
   "source": [
    "#Menu driven program to do various list operations\n",
    "myList = [22,4,16,38,13] #myList having 5 elements\n",
    "choice = 0\n",
    "for attempt in range (3): \n",
    "    print (\"Attempt number:\", attempt)\n",
    "    print(\"The list 'myList' has the following elements\", myList)\n",
    "    print(\"\\nLIST OPERATIONS\")\n",
    "    print(\" 1. Append an element\")\n",
    "    print(\" 2. Insert an element at the desired position\")\n",
    "    print(\" 3. Append a list to the given list\")\n",
    "    print(\" 4. Modify an existing element\")\n",
    "    print(\" 5. Delete an existing element by its position\")\n",
    "    print(\" 6. Delete an existing element by its value\")\n",
    "    print(\" 7. Sort the list in ascending order\")\n",
    "    print(\" 8. Sort the list in descending order\")\n",
    "    print(\" 9. Display the list\")\n",
    "    choice = int(input(\"ENTER YOUR CHOICE (1-9): \"))\n",
    "#append element\n",
    "    if choice == 1:\n",
    "        element = eval(input(\"Enter the element to be appended: \"))\n",
    "        myList.append(element)\n",
    "        print(\"The element has been appended\\n\",myList)\n",
    "#insert an element at desired position\n",
    "    elif choice == 2:\n",
    "        element = eval(input(\"Enter the element to be inserted: \"))\n",
    "        pos = int(input(\"Enter the position:\"))\n",
    "        myList.insert(pos,element)\n",
    "        print(\"The element has been inserted\\n\",myList)\n",
    "#append a list to the given list\n",
    "    elif choice == 3:\n",
    "        newList = eval(input(\"Enter the list to be appended: \"))\n",
    "        myList.extend(newList)\n",
    "        print(\"The list has been appended\\n\",myList)\n",
    "#modify an existing element\n",
    "    elif choice == 4:\n",
    "        i = int(input(\"Enter the position of the element to be modified: \"))\n",
    "        if i < len(myList):\n",
    "            newElement = eval(input(\"Enter the new element: \"))\n",
    "            oldElement = myList[i]\n",
    "            myList[i] = newElement\n",
    "            print(\"The element\",oldElement,\"has been modified\\n\",myList)\n",
    "        else:\n",
    "            print(\"Position of the element is more then the length of list\")\n",
    "#delete an existing element by position\n",
    "    elif choice == 5:\n",
    "        i = int(input(\"Enter the position of the element to be deleted: \"))\n",
    "        if i < len(myList):\n",
    "            element = myList.pop(i)\n",
    "            print(\"The element\",element,\"has been deleted\\n\",myList)\n",
    "        else:\n",
    "            print(\"\\nPosition of the element is more then the length of list\")\n",
    "#delete an existing element by value\n",
    "    elif choice == 6:\n",
    "        element = int(input(\"\\nEnter the element to be deleted: \"))\n",
    "        if element in myList:\n",
    "            myList.remove(element)\n",
    "            print(\"\\nThe element\",element,\"has been deleted\\n\",myList)\n",
    "        else:\n",
    "            print(\"\\nElement\",element,\"is not present in the list\")\n",
    "#list in sorted order\n",
    "    elif choice == 7:\n",
    "        myList.sort()\n",
    "        print(\"\\nThe list has been sorted\",myList)\n",
    "#list in reverse sorted order\n",
    "    elif choice == 8:\n",
    "        myList.sort(reverse = True)\n",
    "        print(\"\\nThe list has been sorted in reverse order\",myList)\n",
    "#display the list\n",
    "    elif choice == 9:\n",
    "        print(\"\\nThe list is:\",myList)\n",
    "    else:\n",
    "        print(\"Choice is not valid\")"
   ]
  },
  {
   "cell_type": "markdown",
   "id": "92a3a51a-d676-4408-bc3e-9d2235afaffb",
   "metadata": {},
   "source": [
    "# Try all the built in functions of Lists:\n",
    "\n",
    "1.len()\n",
    "2.list()\n",
    "3.extend()\n",
    "4.insert()\n",
    "5.count()\n",
    "6.find()\n",
    "7.remove()\n",
    "8.pop()\n",
    "9.reverse()\n",
    "10.min()\n",
    "11.max()\n",
    "12.sum()\n"
   ]
  },
  {
   "cell_type": "markdown",
   "id": "59e92c23-b6dd-414a-89e0-435d9940c96b",
   "metadata": {},
   "source": [
    "TUPLES :\n",
    "A tuple is a sequence of items, similar to lists. The values stored in the tuple can be of any type and they are indexed using integers. Unlike lists, tuples are immutable. That is, values within tuples cannot be modified/reassigned. Tuples are comparable and hashable objects. Hence, they can be made as keys in dictionaries.\n"
   ]
  },
  {
   "cell_type": "code",
   "execution_count": null,
   "id": "d0414348-38e0-4568-a2cd-d1c75248c7a5",
   "metadata": {},
   "outputs": [],
   "source": [
    "t='Mango','apple','banana'        #without parentheses \n",
    "print(t) "
   ]
  },
  {
   "cell_type": "code",
   "execution_count": null,
   "id": "f8a6524e-005a-47c6-b3c4-66765a37d3fb",
   "metadata": {},
   "outputs": [],
   "source": [
    "t1=('Mango', 'apple', 'banana')\n",
    "print(t1)\n",
    "type(t1)"
   ]
  },
  {
   "cell_type": "code",
   "execution_count": null,
   "id": "726a0abd-5219-4dd6-8fb4-16ce19902717",
   "metadata": {},
   "outputs": [],
   "source": [
    "t=tuple([3,[12,5],'Hi']) \n",
    "print(t) \n",
    "type(t)"
   ]
  },
  {
   "cell_type": "code",
   "execution_count": null,
   "id": "7ecb5868-e1e9-499c-b626-adc6f0b3b389",
   "metadata": {},
   "outputs": [],
   "source": [
    "t=('Mango', 'Banana', 'Apple')          #accessing element using index\n",
    "print(t[1]) "
   ]
  },
  {
   "cell_type": "code",
   "execution_count": null,
   "id": "b1860e0f-932f-426c-924e-7e519c53fe75",
   "metadata": {},
   "outputs": [],
   "source": [
    "t=('Mango', 'Banana', 'Apple')\n",
    "print(t[1:])                         #slicing using 1st element\n",
    "print(t[-1]) "
   ]
  },
  {
   "cell_type": "code",
   "execution_count": null,
   "id": "608d5a9f-947e-4c07-bd2b-ed17644d797e",
   "metadata": {},
   "outputs": [],
   "source": [
    "tup = (5,11,22) \n",
    "for i in range(0,len(tup)): \n",
    "    print(tup[i]) "
   ]
  },
  {
   "cell_type": "code",
   "execution_count": null,
   "id": "b9febff3-1237-42dd-aa9c-1def35132213",
   "metadata": {},
   "outputs": [],
   "source": [
    "T = (10,20,30,40,50)\n",
    "for var in T:\n",
    "    print (T.index(var),var)"
   ]
  },
  {
   "cell_type": "code",
   "execution_count": null,
   "id": "886c533d-abba-4eb1-9f6e-897cfb07f5c9",
   "metadata": {},
   "outputs": [],
   "source": [
    "T = (10,20,30,40,50)\n",
    "for var in range(len(T)):\n",
    "    print(var,T[var])"
   ]
  },
  {
   "cell_type": "code",
   "execution_count": null,
   "id": "ee002672-074d-4fc8-8f8f-60b4418225e8",
   "metadata": {},
   "outputs": [],
   "source": [
    "#updating a tuples\n",
    "tup1 = (1, 2) \n",
    "tup2 = ('a','b')\n",
    "tup3 = tup1 + tup2 \n",
    "print (tup3) "
   ]
  },
  {
   "cell_type": "code",
   "execution_count": null,
   "id": "d175efcb-d9eb-418b-a914-40f90e9c6a65",
   "metadata": {},
   "outputs": [],
   "source": [
    "tup1 = ('a', 'b', 'c', 'd', 'e', 'f')\n",
    "tup1[1:3]"
   ]
  },
  {
   "cell_type": "code",
   "execution_count": null,
   "id": "9b0d7332-d55f-4def-adb9-f86711f32b02",
   "metadata": {},
   "outputs": [],
   "source": [
    "tup1[0:6:2]"
   ]
  },
  {
   "cell_type": "code",
   "execution_count": null,
   "id": "a7b673b5-6b6c-42a5-96e9-4dfa0cba7b9a",
   "metadata": {},
   "outputs": [],
   "source": [
    "tup1[3:] "
   ]
  },
  {
   "cell_type": "code",
   "execution_count": null,
   "id": "a2c85644-0ed9-4702-970e-86039260c8a2",
   "metadata": {},
   "outputs": [],
   "source": [
    "tup1=tuple(range(4))\n",
    "print(tup1)"
   ]
  },
  {
   "cell_type": "code",
   "execution_count": null,
   "id": "09c62227-181a-47f6-877d-d225fe21c351",
   "metadata": {},
   "outputs": [],
   "source": [
    "tup3=tuple(range(2, 10, 2))\n",
    "print(tup3)"
   ]
  },
  {
   "cell_type": "code",
   "execution_count": null,
   "id": "3e081f14-d90e-499d-b9d2-02d3dd82605f",
   "metadata": {},
   "outputs": [],
   "source": [
    "tup1 = (1, 2,3) \n",
    "tup3 = tup1[0:1] + tup1[2:] \n",
    "print (tup3) "
   ]
  },
  {
   "cell_type": "code",
   "execution_count": null,
   "id": "030e0bc1-c0c9-4f10-91ce-a6069baa72ae",
   "metadata": {},
   "outputs": [],
   "source": [
    "#packing and unpacking of tuple\n",
    "\n",
    "tup1 = (1,2,3,4) \n",
    "(a, b, c, d) = tup1 \n",
    "print(tup1)"
   ]
  },
  {
   "cell_type": "markdown",
   "id": "d1496e64-f156-4fd6-9f7d-11461acfe3ef",
   "metadata": {},
   "source": [
    "Write a Python program to unpack a tuple in several variables.\n"
   ]
  },
  {
   "cell_type": "code",
   "execution_count": null,
   "id": "e456f725-e270-44bd-939b-c8ca72a36bd1",
   "metadata": {},
   "outputs": [],
   "source": [
    "#create a tuple\n",
    "tuplex = 4, 8, 3 \n",
    "print(tuplex)\n",
    "n1, n2, n3 = tuplex\n",
    "#unpack a tuple in variables\n",
    "print(n1 + n2 + n3) "
   ]
  },
  {
   "cell_type": "markdown",
   "id": "b4fc90d9-824a-4396-a18a-62e8992556a0",
   "metadata": {},
   "source": [
    "Write a Python program to find the repeated items of a tuple.\n"
   ]
  },
  {
   "cell_type": "code",
   "execution_count": null,
   "id": "fd5849e8-c421-4808-a9ce-dd0e02f3ccac",
   "metadata": {},
   "outputs": [],
   "source": [
    "tuplex = 2, 4, 5, 6, 2, 3, 4, 4, 7 \n",
    "print(tuplex)\n",
    "count = tuplex.count(4)\n",
    "print(count)"
   ]
  },
  {
   "cell_type": "markdown",
   "id": "d29d74fe-20e9-43b3-a220-522d123f4645",
   "metadata": {},
   "source": [
    "Write a Python program to find the index of an item of a tuple\n"
   ]
  },
  {
   "cell_type": "code",
   "execution_count": null,
   "id": "a4ab1bdd-154b-498e-af56-1deb575b2691",
   "metadata": {},
   "outputs": [],
   "source": [
    "#create a tuple\n",
    "tuplex = tuple(\"index tuple\")\n",
    "print(tuplex)\n",
    "#get index of the first item whose value is passed as parameter\n",
    "index = tuplex.index(\"p\")\n",
    "print(index)\n",
    "#define the index from which you want to search\n",
    "index = tuplex.index(\"p\")\n",
    "print(index)\n",
    "#define the segment of the tuple to be searched\n",
    "index = tuplex.index(\"e\")\n",
    "print(index)"
   ]
  },
  {
   "cell_type": "markdown",
   "id": "0d3ba81c-e80f-4021-9634-214899a2e1c3",
   "metadata": {},
   "source": [
    "Write a Python program to replace last value of tuples in a list.\n"
   ]
  },
  {
   "cell_type": "code",
   "execution_count": null,
   "id": "a601615f-a222-41e8-9c6c-cf2a9123549c",
   "metadata": {},
   "outputs": [],
   "source": [
    "l = [(10, 20, 40), (40, 50, 60), (70, 80, 90)]\n",
    "print([t[:-1] + (100,) for t in l])"
   ]
  },
  {
   "cell_type": "code",
   "execution_count": null,
   "id": "66be96ad-7d2a-4ead-8241-d2d87f28595c",
   "metadata": {},
   "outputs": [],
   "source": [
    "Write a Python program to remove an empty tuple(s) from a list of tuples."
   ]
  },
  {
   "cell_type": "code",
   "execution_count": null,
   "id": "9e2a2570-59cc-4a8a-8456-c72a8f1c04f9",
   "metadata": {},
   "outputs": [],
   "source": [
    "list=[(1,2,3),(4,5),()]\n",
    "for tuple in list:\n",
    "    if(tuple==0):\n",
    "        list.remove(tuple)\n",
    "print(list)"
   ]
  },
  {
   "cell_type": "markdown",
   "id": "0a3853aa-7d0b-4007-b699-edf7dbc04a1e",
   "metadata": {},
   "source": [
    "# Try all the built in functions of Lists:\n",
    "\n",
    "1.len()\n",
    "2.list()\n",
    "3.extend()\n",
    "4.insert()\n",
    "5.count()\n",
    "6.find()\n",
    "7.remove()\n",
    "8.pop()\n",
    "9.reverse()\n",
    "10.min()\n",
    "11.max()\n",
    "12.sum()\n"
   ]
  },
  {
   "cell_type": "raw",
   "id": "b7351012-31f0-4990-8ae9-6fc3141d1795",
   "metadata": {},
   "source": [
    "Sets:\n",
    "A set is an unordered collection of data that is iterable, mutable, and has no duplicate elements.\n",
    "Python’s set class represents the mathematical notion of a set.\n",
    "The major advantage of using a set, as opposed to a list, is that it has a highly\n",
    "optimized method for checking whether a specific element is contained in the set.\n",
    "The set data type is based on a data structure known as a hash table.\n",
    "A set is an unordered collection of items.\n",
    "Every element must be unique and immutable.\n",
    "Duplicates are eliminated\n",
    "Elements are Immutable like tuples, integers, strings etc.\n",
    "However, the set itself is mutable.\n",
    "It is possible to add or remove items to set.\n",
    "We can change its state—its length and content.\n",
    "Sets can be used to perform mathematical set operations like union, intersection, symmetric difference etc.\n"
   ]
  },
  {
   "cell_type": "code",
   "execution_count": null,
   "id": "1fb9bcc0-6de7-4220-96bf-74d2c5a7a3b3",
   "metadata": {},
   "outputs": [],
   "source": [
    "print(\"Create a new set:\")\n",
    "x = set()\n",
    "print(x)\n",
    "print(type(x))\n",
    "print(\"\\nCreate a non empty set:\")\n",
    "n = set([0, 1, 2, 3, 4])\n",
    "print(n)\n",
    "print(type(n))\n",
    "print(\"\\nUsing a literal:\")\n",
    "a = {1,2,3,'foo','bar'}\n",
    "print(type(a))\n",
    "print(a)"
   ]
  },
  {
   "cell_type": "code",
   "execution_count": null,
   "id": "0caccafb-3f84-454f-ad5e-551bf5cb697a",
   "metadata": {},
   "outputs": [],
   "source": [
    "#A new empty set\n",
    "color_set = set()\n",
    "print(color_set)\n",
    "print(\"\\nAdd single element:\")\n",
    "color_set.add(\"Red\")\n",
    "print(color_set)\n",
    "print(\"\\nAdd multiple items:\")\n",
    "color_set.update([\"Blue\", \"Green\"])\n",
    "print(color_set)"
   ]
  },
  {
   "cell_type": "code",
   "execution_count": null,
   "id": "a1345f82-e2f5-4d7f-a26f-3aeda4fbbadd",
   "metadata": {},
   "outputs": [],
   "source": [
    "A = {1, 1, 1, 1, 1, 2, 2, 2, 2, 2, 2, 2, 2, 2, 3, 3, 3, 3, 3, 3, 3, 4, 4, 4, 4, 4, 4, 4, 4, 4, 4, 5, 5, 5, 5, 5, 5, 5, 5, 5, 5}\n",
    "print(A)"
   ]
  },
  {
   "cell_type": "code",
   "execution_count": null,
   "id": "fe8e5ab5-1b66-4c32-8366-d986a6287456",
   "metadata": {},
   "outputs": [],
   "source": [
    "num_set = set([0, 1, 3, 4, 5])\n",
    "print(\"Original set:\")\n",
    "print(num_set)\n",
    "num_set.pop()\n",
    "print(\"\\nAfter removing the first element from the said set:\")\n",
    "print(num_set)"
   ]
  },
  {
   "cell_type": "code",
   "execution_count": null,
   "id": "74a59a5b-6dad-40a4-ba6a-6b3753210f32",
   "metadata": {},
   "outputs": [],
   "source": [
    "num_set = set([0, 1, 2, 3, 4, 5])\n",
    "print(\"Original set elements:\")\n",
    "print(num_set)\n",
    "num_set.discard(3)\n",
    "print(num_set)\n",
    "num_set.discard(0)\n",
    "print(num_set)\n",
    "num_set.discard(5)\n",
    "print(num_set)"
   ]
  },
  {
   "cell_type": "code",
   "execution_count": null,
   "id": "ff142c33-9b89-4b9a-9df7-c5c71875821a",
   "metadata": {},
   "outputs": [],
   "source": [
    "myset = {'Apples', 'Bananas', 'Oranges'}\n",
    "myset.discard('Apples')\n",
    "print(myset)"
   ]
  },
  {
   "cell_type": "code",
   "execution_count": null,
   "id": "711d64fb-1086-4093-905c-6a926ffcb104",
   "metadata": {},
   "outputs": [],
   "source": [
    "setx = set([\"green\", \"blue\"])\n",
    "sety = set([\"blue\", \"yellow\"])\n",
    "print(\"Original set elements:\")\n",
    "print(setx)\n",
    "print(sety)\n",
    "print(\"\\nIntersection of two said sets:\")\n",
    "setz = setx & sety\n",
    "print(setz)"
   ]
  },
  {
   "cell_type": "code",
   "execution_count": null,
   "id": "e6198a74-385c-4ce5-98b8-5ab70a49ccd9",
   "metadata": {},
   "outputs": [],
   "source": [
    "setc1 = set([\"green\", \"blue\"])\n",
    "setc2 = set([\"blue\", \"yellow\"])\n",
    "print(\"Original sets:\")\n",
    "print(setc1)\n",
    "print(setc2)\n",
    "setc = setc1.union(setc2)\n",
    "print(\"\\nUnion of above sets:\")\n",
    "print(setc)\n",
    "setn1 = set([1, 1, 2, 3, 4, 5])\n",
    "setn2 = set([1, 5, 6, 7, 8, 9])\n",
    "print(\"\\nOriginal sets:\")\n",
    "print(setn1)\n",
    "print(setn2)\n",
    "print(\"\\nUnion of above sets:\")\n",
    "setn = setn1.union(setn2)\n",
    "print(setn)"
   ]
  },
  {
   "cell_type": "code",
   "execution_count": null,
   "id": "5a7adaaf-b5f3-438e-b5c7-357c795bf303",
   "metadata": {},
   "outputs": [],
   "source": [
    "setc1 = set([\"green\", \"blue\"])\n",
    "setc2 = set([\"blue\", \"yellow\"])\n",
    "print(\"Original sets:\")\n",
    "print(setc1)\n",
    "print(setc2)\n",
    "r1 = setc1.difference(setc2)\n",
    "print(\"\\nDifference of setc1 - setc2:\")\n",
    "print(r1)\n",
    "r2 = setc2.difference(setc1)\n",
    "print(\"\\nDifference of setc2 - setc1:\")\n",
    "print(r2)\n",
    "setn1 = set([1, 1, 2, 3, 4, 5])\n",
    "setn2 = set([1, 5, 6, 7, 8, 9])\n",
    "print(\"\\nOriginal sets:\")\n",
    "print(setn1)\n",
    "print(setn2)\n",
    "r1 = setn1.difference(setn2)\n",
    "print(\"\\nDifference of setn1 - setn2:\")\n",
    "print(r1)\n",
    "r2 = setn2.difference(setn1)\n",
    "print(\"\\nDifference of setn2 - setn1:\")\n",
    "print(r2)"
   ]
  },
  {
   "cell_type": "code",
   "execution_count": null,
   "id": "d599c901-969d-4aed-9c3b-221cc0bd0955",
   "metadata": {},
   "outputs": [],
   "source": [
    "setc1 = set([\"green\", \"blue\"])\n",
    "setc2 = set([\"blue\", \"yellow\"])\n",
    "print(\"Original sets:\")\n",
    "print(setc1)\n",
    "print(setc2)\n",
    "r1 = setc1.difference(setc2)\n",
    "print(\"\\nDifference of setc1 - setc2:\")\n",
    "print(r1)\n",
    "r2 = setc2.difference(setc1)\n",
    "print(\"\\nDifference of setc2 - setc1:\")\n",
    "print(r2)\n",
    "setn1 = set([1, 1, 2, 3, 4, 5])\n",
    "setn2 = set([1, 5, 6, 7, 8, 9])\n",
    "print(\"\\nOriginal sets:\")\n",
    "print(setn1)\n",
    "print(setn2)\n",
    "r1 = setn1.difference(setn2)\n",
    "print(\"\\nDifference of setn1 - setn2:\")\n",
    "print(r1)\n",
    "r2 = setn2.difference(setn1)\n",
    "print(\"\\nDifference of setn2 - setn1:\")\n",
    "print(r2)"
   ]
  },
  {
   "cell_type": "code",
   "execution_count": null,
   "id": "9a06cdde-9e75-47c7-950e-4550a8590b54",
   "metadata": {},
   "outputs": [],
   "source": [
    "setp = set([\"Red\", \"Green\"])\n",
    "setq = set([\"Green\", \"Red\"])\n",
    "#A shallow copy\n",
    "setr = setp.copy()\n",
    "print(setr)"
   ]
  },
  {
   "cell_type": "code",
   "execution_count": null,
   "id": "1408c68a-98a0-40d1-b121-dda5d207a956",
   "metadata": {},
   "outputs": [],
   "source": [
    "setc = {\"Red\", \"Green\", \"Black\", \"White\"}\n",
    "print(\"Original set elements:\")\n",
    "print(setc)        \n",
    "print(\"\\nAfter removing all elements of the said set.\")\n",
    "setc.clear()\n",
    "print(setc)"
   ]
  },
  {
   "cell_type": "code",
   "execution_count": null,
   "id": "efc524bc-100e-406c-ab25-b32b2f6c0182",
   "metadata": {},
   "outputs": [],
   "source": [
    "x = {1,2,3,4}\n",
    "y = {4,5,6,7}\n",
    "z = {8}\n",
    "print(\"Original set elements:\")\n",
    "print(x)\n",
    "print(y)\n",
    "print(z)\n",
    "print(\"\\nConfirm two given sets have no element(s) in common:\")\n",
    "print(\"\\nCompare x and y:\")\n",
    "print(x.isdisjoint(y))\n",
    "print(\"\\nCompare x and z:\")\n",
    "print(z.isdisjoint(x))\n",
    "print(\"\\nCompare y and z:\")\n",
    "print(y.isdisjoint(z))"
   ]
  },
  {
   "cell_type": "markdown",
   "id": "b7466a16-b5f3-48de-ba9f-3d7f0cf79c30",
   "metadata": {},
   "source": [
    "the symmetric difference, also known as the disjunctive union, of two sets is the set of elements which are in either of the sets and not in their intersection.\n"
   ]
  },
  {
   "cell_type": "code",
   "execution_count": null,
   "id": "cbae6bbe-814f-4f6a-85ad-610d71f68337",
   "metadata": {},
   "outputs": [],
   "source": [
    "setc1 = set([\"green\", \"blue\"])\n",
    "setc2 = set([\"blue\", \"yellow\"])\n",
    "print(\"Original sets:\")\n",
    "print(setc1)\n",
    "print(setc2)\n",
    "r1 = setc1.symmetric_difference(setc2)\n",
    "print(\"\\nSymmetric difference of setc1 - setc2:\")\n",
    "print(r1)\n",
    "r2 = setc2.symmetric_difference(setc1)\n",
    "print(\"\\nSymmetric difference of setc2 - setc1:\")\n",
    "print(r2)\n",
    "setn1 = set([1, 1, 2, 3, 4, 5])\n",
    "setn2 = set([1, 5, 6, 7, 8, 9])\n",
    "print(\"\\nOriginal sets:\")\n",
    "print(setn1)\n",
    "print(setn2)\n",
    "r1 = setn1.symmetric_difference(setn2)\n",
    "print(\"\\nSymmetric difference of setn1 - setn2:\")\n",
    "print(r1)\n",
    "r2 = setn2.symmetric_difference(setn1)\n",
    "print(\"\\nSymmetric difference of setn2 - setn1:\")\n",
    "print(r2)"
   ]
  },
  {
   "cell_type": "code",
   "execution_count": null,
   "id": "1438757c-1590-401c-86c1-ac0309e5e03c",
   "metadata": {},
   "outputs": [],
   "source": [
    "# set of letters\n",
    "s = {'g', 'e', 'k', 's'}\n",
    "\n",
    "# adding 's'\n",
    "s.add('f')\n",
    "print('Set after updating:', s)\n",
    "\n",
    "# Discarding element from the set\n",
    "s.discard('g')\n",
    "print('\\nSet after updating:', s)\n",
    "\n",
    "# Removing element from the set\n",
    "s.remove('e')\n",
    "print('\\nSet after updating:', s)\n",
    "\n",
    "# Popping elements from the set\n",
    "print('\\nPopped element', s.pop())\n",
    "print('Set after updating:', s)\n",
    "\n",
    "s.clear()\n",
    "print('\\nSet after updating:', s)"
   ]
  },
  {
   "attachments": {},
   "cell_type": "markdown",
   "id": "85f33106-11b3-4c23-aad0-c5d744835d8e",
   "metadata": {},
   "source": [
    "Dictionary:\n",
    "The data type dictionary falls under mapping. It is a mapping between a set of keys and a set of values. The key-value pair is called an item. A key is separated from its value by a colon(:) and consecutive items are separated by commas. Items in dictionaries are unordered, so we may not get back the data in the same order in which we had entered the data initially in the dictionary\n"
   ]
  },
  {
   "cell_type": "code",
   "execution_count": null,
   "id": "2f507869-f575-4a03-a6e1-0eebf4041123",
   "metadata": {},
   "outputs": [],
   "source": [
    "# empty dictionary\n",
    "my_dict = {}\n",
    "print(my_dict)\n",
    "\n",
    "# dictionary with integer keys\n",
    "my_dict = {1: 'Geluva', 2: 'Raj'}\n",
    "print(my_dict)\n",
    "\n",
    "# dictionary with mixed keys\n",
    "my_dict = {'name': 'Raj', 1: [2, 4, 3]}\n",
    "print(my_dict)\n",
    "\n",
    "# using dict()\n",
    "my_dict = dict({1:'King', 2:'Maker'})\n",
    "print(my_dict)\n",
    "\n",
    "# from sequence having each item as a pair\n",
    "my_dict = dict([(1,'Geluva'), (2,'Raj')])\n",
    "print(my_dict)"
   ]
  },
  {
   "cell_type": "code",
   "execution_count": null,
   "id": "8ee11fd9-4c39-4061-8fb9-0d10019c624f",
   "metadata": {},
   "outputs": [],
   "source": [
    "# Changing and adding Dictionary Elements\n",
    "my_dict = {'name': 'Geluvaraj', 'age': 29}\n",
    "\n",
    "# update value\n",
    "my_dict['age'] = 30\n",
    "\n",
    "#Output: {'age': 30, 'name': 'Geluvaraj'}\n",
    "print(my_dict)\n",
    "\n",
    "# add item\n",
    "my_dict['address'] = 'Bangalore'\n",
    "\n",
    "# Output: {'address': 'Bangalore', 'age': 30, 'name': 'Geluvaraj'}\n",
    "print(my_dict)"
   ]
  },
  {
   "cell_type": "code",
   "execution_count": null,
   "id": "e94cdcac-4d8f-48fd-b9ac-3d69b7b61507",
   "metadata": {},
   "outputs": [],
   "source": [
    "# Removing elements from a dictionary\n",
    "\n",
    "# create a dictionary\n",
    "square_roots = {1: 1, 2: 4, 3: 9, 4: 16, 5: 25}\n",
    "print(square_roots)\n",
    "\n",
    "# remove a particular item, returns its value\n",
    "# Output: 16\n",
    "print(square_roots.pop(4))\n",
    "\n",
    "# Output: {1: 1, 2: 4, 3: 9, 5: 25}\n",
    "print(square_roots)\n",
    "\n",
    "# remove an arbitrary item, return (key,value)\n",
    "#The popitem() method removes the item that was last inserted into the dictionary.\n",
    "# Output: (5, 25)\n",
    "print(square_roots.popitem())\n",
    "\n",
    "# Output: {1: 1, 2: 4, 3: 9}\n",
    "print(square_roots)\n",
    "\n",
    "# remove all items\n",
    "square_roots.clear()\n",
    "\n",
    "# Output: {}\n",
    "print(square_roots)\n",
    "\n",
    "# delete the dictionary itself\n",
    "del square_roots\n"
   ]
  },
  {
   "cell_type": "code",
   "execution_count": null,
   "id": "9c23dd99-4de4-4a4b-9614-8534332655b5",
   "metadata": {},
   "outputs": [],
   "source": [
    "# Create a dictionary with specified keys and default value 0\n",
    "marks = {}.fromkeys(['Maths', 'Python Programming', 'Chemistry', 'Electronics'], 0)\n",
    "\n",
    "# Print the dictionary\n",
    "print(marks)\n",
    "\n",
    "# Loop through dictionary items and print them\n",
    "for item in marks.items():\n",
    "    print(item)\n",
    "\n",
    "# Print the sorted list of dictionary keys\n",
    "print(list(sorted(marks.keys())))"
   ]
  },
  {
   "cell_type": "code",
   "execution_count": null,
   "id": "60398a11-812b-43bf-907c-e1a7faaa1e9e",
   "metadata": {},
   "outputs": [],
   "source": [
    "# Membership Test for Dictionary Keys\n",
    "square_roots = {1: 1, 3: 9, 5: 25, 7: 49, 9: 81}\n",
    "\n",
    "# Output: True\n",
    "print(1 in square_roots)\n",
    "\n",
    "# Output: True\n",
    "print(2 not in square_roots)\n",
    "\n",
    "# membership tests for key only not value\n",
    "# Output: False\n",
    "print(49 in square_roots)"
   ]
  },
  {
   "cell_type": "code",
   "execution_count": null,
   "id": "fd3fa856-1733-48dd-a369-b8b8319752ef",
   "metadata": {},
   "outputs": [],
   "source": [
    "# Iterating through a Dictionary\n",
    "squares = {1: 1, 3: 9, 5: 25, 7: 49, 9: 81}\n",
    "for i in squares:\n",
    "    print(squares[i])"
   ]
  },
  {
   "cell_type": "code",
   "execution_count": null,
   "id": "eb48e969-b17f-41fe-a3bd-20822319378f",
   "metadata": {},
   "outputs": [],
   "source": [
    "# Dictionary Built-in Functions\n",
    "square_roots  = {0: 0, 1: 1, 3: 9, 5: 25, 7: 49, 9: 81}\n",
    "\n",
    "# Output: False\n",
    "print(all(square_roots))\n",
    "\n",
    "# Output: True\n",
    "#Return True if any key of the dictionary is true. If the dictionary is empty, return False.\n",
    "print(any(square_roots))\n",
    "\n",
    "# Output: 6\n",
    "print(len(square_roots))\n",
    "\n",
    "# Output: [0, 1, 3, 5, 7, 9]\n",
    "print(sorted(square_roots))\n",
    "\n",
    "\n",
    "d = {0:10, 1:20}\n",
    "print(d)\n",
    "d.update({2:30})\n",
    "print(d)"
   ]
  },
  {
   "cell_type": "markdown",
   "id": "c166b660-696e-4961-b56c-6c9b320b7e32",
   "metadata": {},
   "source": [
    "#Python program to check whether a given key already exists in a dictionary.\n",
    "d = {1: 10, 2: 20, 3: 30, 4: 40, 5: 50, 6: 60}\n",
    "def is_key_present(x):\n",
    "if x in d:\n",
    "print('Key is present in the dictionary')\n",
    "else:\n",
    "print('Key is not present in the dictionary')\n",
    "is_key_present(5)\n",
    "is_key_present(9)\n"
   ]
  },
  {
   "cell_type": "code",
   "execution_count": null,
   "id": "9b9a0a6c-769b-45b1-899f-be27cc148207",
   "metadata": {},
   "outputs": [],
   "source": [
    "#Python script to merge two Python dictionaries.\n",
    "d1 = {'a': 100, 'b': 200}\n",
    "d2 = {'x': 300, 'y': 200}\n",
    "d = d1.copy()\n",
    "d.update(d2)\n",
    "print(d)"
   ]
  },
  {
   "cell_type": "code",
   "execution_count": null,
   "id": "e678d8fd-5ccf-44dd-bc8b-f99f7ed14c75",
   "metadata": {},
   "outputs": [],
   "source": [
    "#Python program to sum all the items in a dictionary.\n",
    "my_dict = {'data1':100,'data2':-54,'data3':247}\n",
    "print(sum(my_dict.values()))"
   ]
  },
  {
   "cell_type": "markdown",
   "id": "2b4ccf5f-27b1-4b10-9583-2a39156969b5",
   "metadata": {},
   "source": [
    "write a program to enter names of employees and their salaries as input and store them in a dictionary. Here n is to input by the user.\n",
    "\n",
    "Program to create a dictionary which stores names of employees and their salary\n"
   ]
  },
  {
   "cell_type": "code",
   "execution_count": null,
   "id": "d80d45c9-5dfb-402f-9aa3-712358ffe1d5",
   "metadata": {},
   "outputs": [],
   "source": [
    "n = int(input(\"Enter the number of employees whose data to be stored: \"))\n",
    "count = 1\n",
    "employee = dict() #create an empty dictionary\n",
    "for count in range (n):\n",
    "    name = input(\"Enter the name of the Employee: \")\n",
    "    salary = int(input(\"Enter the salary: \"))\n",
    "    employee[name] = salary\n",
    "print(\"\\n\\nEMPLOYEE_NAME\\tSALARY\")\n",
    "for k in employee:\n",
    "    print(k,'\\t\\t',employee[k])"
   ]
  },
  {
   "cell_type": "markdown",
   "id": "4533e5bc-430d-456a-8ff0-7ab0ecda61ee",
   "metadata": {},
   "source": [
    "Data Visualization:\n",
    "\n",
    "While working with data, it can be difficult to truly understand your data when it’s just in tabular form. To understand what exactly our data conveys, and to better clean it and select suitable models for it, we need to visualize it or represent it in pictorial form. This helps expose patterns, correlations, and trends that cannot be obtained when data is in a table or CSV file.\n",
    "\n",
    "The process of finding trends and correlations in our data by representing it pictorially is called Data Visualization. To perform data visualization in python, we can use various python data visualization modules such as Matplotlib, Seaborn, Plotly, etc. In this article, The Complete Guide to Data Visualization in Python, we will discuss how to work with some of these modules for data visualization in python and cover the following topics in detail.\n",
    "\n",
    "What is Data Visualization?\n",
    "Data Visualization in Python\n",
    "Matplotlib and Seaborn\n",
    "Line Charts\n",
    "Bar Graphs\n",
    "Histograms\n",
    "Scatter Plots\n",
    "\n",
    "What is Data Visualization?\n",
    "Data visualization is a field in data analysis that deals with visual representation of data. It graphically plots data and is an effective way to communicate inferences from data.\n",
    "\n",
    "Using data visualization, we can get a visual summary of our data. With pictures, maps and graphs, the human mind has an easier time processing and understanding any given data. Data visualization plays a significant role in the representation of both small and large data sets, but it is especially useful when we have large data sets, in which it is impossible to see all of our data, let alone process and understand it manually.\n",
    "\n",
    "Data Visualization in Python\n",
    "Python offers several plotting libraries, namely Matplotlib, Seaborn and many other such data visualization packages with different features for creating informative, customized, and appealing plots to present data in the most simple and effectiv\n",
    "\n",
    "Matplotlib: Matplotlib\n",
    "n\n",
    "It is used for basic graph plotting like line charts, bar graphs, et\n",
    "Matplotlib acts productively with data arrays and frames. It regards the aces and figures as objects.cs.\n",
    "\n",
    "It mainly works with datasets and a\n",
    "Matplotlib is more customizable and pairs well with Pandas and Numpy for Exploratory Data AnalysisraSeaborn:\n",
    "\n",
    "It is mainly used for statistics visualization and can perform complex visualizations with fewer commands.tasets.\n",
    "\n",
    "Seaborn is considerably more organized and functional than Matplotlib and treats the entire dataset as a solits objects.\n",
    "\n",
    "Seaborn has more inbuilt themes and is mainly used for statist\n",
    "It works with entire datasets.y Data Analysis.e way.\n",
    "Heat Maps\n"
   ]
  },
  {
   "cell_type": "markdown",
   "id": "976a24e4-21eb-4118-8fe6-a4305044f744",
   "metadata": {},
   "source": [
    "Line Charts\n",
    "\n",
    "A Line chart is a graph that represents information as a series of data points connected by a straight line. In line charts, each data point or marker is plotted and connected with a line or curve.\n",
    "\n",
    "Let's consider the orange yield (tons per hectare). Let's plot a line graph using this data and see how the yield of oranges changes over time. We start by importing Matplotlib and Seaborn.\n"
   ]
  },
  {
   "cell_type": "code",
   "execution_count": 18,
   "id": "cb4feef3-b6f9-4a03-9eaa-7c76bbea0854",
   "metadata": {},
   "outputs": [],
   "source": [
    "import matplotlib.pyplot as plt\n",
    "import seaborn as sns"
   ]
  },
  {
   "cell_type": "code",
   "execution_count": 3,
   "id": "4142bdbe-5d9e-4150-ae78-df49b895c725",
   "metadata": {},
   "outputs": [],
   "source": [
    "oranges=[0.95,0.865,0.98,0.926,0.931]  # random datapoints to represent yield of oranges"
   ]
  },
  {
   "cell_type": "code",
   "execution_count": null,
   "id": "f4a15068-2c9c-4f54-88af-e723419b0d99",
   "metadata": {},
   "outputs": [],
   "source": [
    "plt.plot(oranges)"
   ]
  },
  {
   "cell_type": "markdown",
   "id": "cbb7d6dd-2274-4f02-9199-d61e6f45d772",
   "metadata": {},
   "source": [
    "To better understand the graph and its purpose, we can add the x-axis values too.\n"
   ]
  },
  {
   "cell_type": "code",
   "execution_count": 7,
   "id": "39a7a06f-d019-42cc-9817-084e8fc41b93",
   "metadata": {},
   "outputs": [],
   "source": [
    "years=[2010,2011,2012,2013,2014,2015]\n",
    "oranges=[0.95,0.865,0.98,0.926,0.931,0.68] "
   ]
  },
  {
   "cell_type": "code",
   "execution_count": null,
   "id": "d34ed5c3-ebf4-427f-9289-68dd2392334e",
   "metadata": {},
   "outputs": [],
   "source": [
    "plt.plot(years,oranges)"
   ]
  },
  {
   "cell_type": "markdown",
   "id": "671aa7ad-f4ce-4d8d-999f-85be72f63c79",
   "metadata": {},
   "source": [
    "lets add labels to the axes so that we can show what each axis represents\n"
   ]
  },
  {
   "cell_type": "code",
   "execution_count": null,
   "id": "58fce8ea-68db-4269-a739-e905d51132cb",
   "metadata": {},
   "outputs": [],
   "source": [
    "plt.plot(years,oranges)\n",
    "plt.xlabel('years')\n",
    "plt.ylabel('Yield of oranges(tons per hector)')"
   ]
  },
  {
   "cell_type": "code",
   "execution_count": 41,
   "id": "498efe61-0db5-4f13-ba43-71c3cb03a2d7",
   "metadata": {},
   "outputs": [],
   "source": [
    "Time=[6,8,10,12,14,16,18,20] \n",
    "message=[0,0,231,203,132,167,286,0]"
   ]
  },
  {
   "cell_type": "code",
   "execution_count": null,
   "id": "50437915-5113-4938-a639-ef29f096732c",
   "metadata": {},
   "outputs": [],
   "source": [
    "import matplotlib.pyplot as plt\n",
    "plt.plot(Time,message)\n",
    "plt.xlabel('Time')\n",
    "plt.ylabel('No_of_packets_in_message')\n",
    "plt.show()"
   ]
  },
  {
   "cell_type": "markdown",
   "id": "189fd796-7520-4caa-af79-c06863bd20e5",
   "metadata": {},
   "source": [
    "To plot multiple datasets on the same graph, just use the plt.plot function once for each dataset. Let's use this to compare the yields of apples vs. oranges on the same graph.\n"
   ]
  },
  {
   "cell_type": "code",
   "execution_count": 20,
   "id": "e97c65ad-47c8-4f1a-9373-fac0fdcf3801",
   "metadata": {},
   "outputs": [],
   "source": [
    "years=[2010,2011,2012,2013,2014,2015]\n",
    "oranges=[0.95,0.865,0.98,0.926,0.931,0.68] \n",
    "watermelons=[0.87,0.567,0.597,0.785,0.56,0.56]"
   ]
  },
  {
   "cell_type": "code",
   "execution_count": null,
   "id": "759df317-0a05-42c3-8c49-af92a885b166",
   "metadata": {},
   "outputs": [],
   "source": [
    "plt.plot(years,oranges)\n",
    "plt.plot(years,watermelons)\n",
    "plt.xlabel('years')\n",
    "plt.ylabel('Yield(tons per hector)')"
   ]
  },
  {
   "cell_type": "markdown",
   "id": "b7de668b-4339-4979-a81b-7b8f323ca231",
   "metadata": {},
   "source": [
    "We can add a legend which tells us what each line in our graph means. To understand what we are plotting, we can add a title to our graph.\n"
   ]
  },
  {
   "cell_type": "code",
   "execution_count": null,
   "id": "99f0d2ff-513a-46e8-8400-bd7465e7da1b",
   "metadata": {},
   "outputs": [],
   "source": [
    "plt.plot(years,oranges)\n",
    "plt.plot(years,watermelons)\n",
    "plt.xlabel('years')\n",
    "plt.ylabel('Yield(tons per hector)')\n",
    "plt.title(\"Crop yield in ooty\")\n",
    "plt.legend(['Oranges','Watermelons']);\n",
    "          "
   ]
  },
  {
   "cell_type": "markdown",
   "id": "e3c345d9-0947-4989-97b2-229a21152bce",
   "metadata": {},
   "source": [
    "o show each data point on our graph, we can highlight them with markers using the marker argument. Many different marker shapes like a circle, cross, square, diamond, etc. are provided by Matplotlib.\n"
   ]
  },
  {
   "cell_type": "code",
   "execution_count": null,
   "id": "06411a9f-02dd-4e3f-8c9f-43f9a6d18fcd",
   "metadata": {},
   "outputs": [],
   "source": [
    "plt.plot(years,oranges,marker='o')\n",
    "plt.plot(years,watermelons,marker='x')\n",
    "plt.xlabel('years')\n",
    "plt.ylabel('Yield(tons per hector)')\n",
    "plt.title(\"Crop yield in ooty\")\n",
    "plt.legend(['Oranges','Watermelons']);\n"
   ]
  },
  {
   "cell_type": "markdown",
   "id": "d5b701c2-3ac0-4393-9b50-eb672f905e32",
   "metadata": {},
   "source": [
    "You can use the plt.figure function to change the size of the figure.\n"
   ]
  },
  {
   "cell_type": "code",
   "execution_count": null,
   "id": "d51e6742-1a1e-4265-9be0-78f7acec9aed",
   "metadata": {},
   "outputs": [],
   "source": [
    "plt.figure(figsize=(7,5))\n",
    "plt.plot(years,oranges,marker='o')\n",
    "plt.plot(years,watermelons,marker='x')\n",
    "plt.xlabel('years')\n",
    "plt.ylabel('Yield(tons per hector)')\n",
    "plt.title(\"Crop yield in ooty\")\n",
    "plt.legend(['Oranges','Watermelons']);\n"
   ]
  },
  {
   "cell_type": "markdown",
   "id": "6e0c9022-bea7-4a73-a788-f1bfdcc91ee8",
   "metadata": {},
   "source": [
    "Using Seaborn\n",
    "An easy way to make your charts look beautiful is to use some default styles from the Seaborn library. These can be applied globally using the sns.set_style function.\n"
   ]
  },
  {
   "cell_type": "code",
   "execution_count": 59,
   "id": "45e533e1-3e0c-4de2-a371-8a3b4656a470",
   "metadata": {},
   "outputs": [],
   "source": [
    "import seaborn as sns\n",
    "sns.set_style(\"whitegrid\")"
   ]
  },
  {
   "cell_type": "code",
   "execution_count": null,
   "id": "a662d990-d427-4b50-b2c2-eb37d4d970ea",
   "metadata": {},
   "outputs": [],
   "source": [
    "plt.figure(figsize=(5,3))\n",
    "plt.plot(years,oranges,marker='o')\n",
    "plt.plot(years,watermelons,marker='x')\n",
    "plt.xlabel('years')\n",
    "plt.ylabel('Yield(tons per hector)')\n",
    "plt.title(\"Crop yield in ooty\")\n",
    "plt.legend(['Oranges','Watermelons']);"
   ]
  },
  {
   "cell_type": "markdown",
   "id": "7440fa97-f1cc-47fd-86b8-f71f3f734918",
   "metadata": {},
   "source": [
    "We can also use the darkgrid option to change the background color to a darker shade.\n"
   ]
  },
  {
   "cell_type": "code",
   "execution_count": null,
   "id": "32b84159-d5da-4f55-9b04-a00fc42eaeb1",
   "metadata": {},
   "outputs": [],
   "source": [
    "import seaborn as sns\n",
    "sns.set_style(\"darkgrid\")\n",
    "plt.figure(figsize=(5,3))\n",
    "plt.plot(years,oranges,marker='o')\n",
    "plt.plot(years,watermelons,marker='x')\n",
    "plt.xlabel('years')\n",
    "plt.ylabel('Yield(tons per hector)')\n",
    "plt.title(\"Crop yield in ooty\")\n",
    "plt.legend(['Oranges','Watermelons']);\n"
   ]
  },
  {
   "cell_type": "raw",
   "id": "085302a3-469b-4c05-89e6-e683e74a7691",
   "metadata": {},
   "source": [
    "Bar Graphs\n",
    "When you have categorical data, you can represent it with a bar graph. A bar graph plots data with the help of bars, which represent value on the y-axis and category on the x-axis. Bar graphs use bars with varying heights to show the data which belongs to a specific category.\n",
    "\n"
   ]
  },
  {
   "cell_type": "code",
   "execution_count": null,
   "id": "cb253c69-f76f-4b86-a906-0a498d4520a9",
   "metadata": {},
   "outputs": [],
   "source": [
    "years=[2010,2015]\n",
    "oranges=[0.95,0.865,0.98,0.926,0.931,0.68] \n",
    "watermelons=[0.87,0.567,0.597,0.785,0.56,0.56]"
   ]
  },
  {
   "cell_type": "code",
   "execution_count": null,
   "id": "242ac1e9-61b5-46d8-b396-a02cdb6cc932",
   "metadata": {},
   "outputs": [],
   "source": [
    "plt.figure(figsize=(5,3))\n",
    "plt.bar(years,watermelons)\n",
    "plt.xlabel('year')\n",
    "plt.ylabel('Yield(tons per hector)')\n",
    "plt.title(\"Crop yield in ooty\")"
   ]
  },
  {
   "cell_type": "markdown",
   "id": "86eaf0bb-23fa-4484-9014-a4849d9a571c",
   "metadata": {},
   "source": [
    "We can also stack bars on top of each other. Let's plot the data for oranges and watermelons\n"
   ]
  },
  {
   "cell_type": "code",
   "execution_count": null,
   "id": "ad560897-979a-4b89-8593-a25864fc3d63",
   "metadata": {},
   "outputs": [],
   "source": [
    "plt.figure(figsize=(5,3))\n",
    "plt.bar(years,oranges)\n",
    "plt.bar(years,watermelons,bottom=oranges)"
   ]
  },
  {
   "cell_type": "markdown",
   "id": "fbb8ab3a-c0be-4e98-8b6e-9353a3f9ce3d",
   "metadata": {},
   "source": [
    "Let’s use the tips dataset in Seaborn next. The dataset consists of :\n",
    "\n",
    "Information about the sex (gender)\n",
    "Time of day\n",
    "Total bill\n",
    "Tips given by customers visiting the restaurant for a week\n"
   ]
  },
  {
   "cell_type": "code",
   "execution_count": null,
   "id": "1345c161-a761-464e-9563-c589713da86d",
   "metadata": {},
   "outputs": [],
   "source": [
    "tips_df=sns.load_dataset(\"tips\")\n",
    "tips_df"
   ]
  },
  {
   "cell_type": "markdown",
   "id": "c0b173d4-7544-46cb-b51c-e18b84c5ea44",
   "metadata": {},
   "source": [
    "We can draw a bar chart to visualize how the average bill amount varies across different days of the week. We can do this by computing the day-wise averages and then using plt.bar. The Seaborn library also provides a barplot function that can automatically compute averages.\n"
   ]
  },
  {
   "cell_type": "code",
   "execution_count": null,
   "id": "7e0a3dad-3c93-4c03-a9cc-b7d01a915c03",
   "metadata": {},
   "outputs": [],
   "source": [
    "sns.barplot(x='day',y='total_bill',data=tips_df,palette='Set2') #Using the Palette Parameter"
   ]
  },
  {
   "cell_type": "markdown",
   "id": "016b9e9e-f345-48df-a271-b4ddd3fbaf99",
   "metadata": {},
   "source": [
    "If you want to compare bar plots side-by-side, you can use the hue argument. The comparison will be done based on the third feature specified in this argument.\n"
   ]
  },
  {
   "cell_type": "code",
   "execution_count": null,
   "id": "4da25e89-ecb0-4625-85f6-919e897c00b0",
   "metadata": {},
   "outputs": [],
   "source": [
    "sns.barplot(x='day',y='total_bill',hue='sex',data=tips_df,palette='Set2')"
   ]
  },
  {
   "cell_type": "markdown",
   "id": "eca7739a-0392-46a5-909d-3006738d3344",
   "metadata": {},
   "source": [
    "You can make the bars horizontal by switching the axes.\n"
   ]
  },
  {
   "cell_type": "code",
   "execution_count": null,
   "id": "ee57417b-eeb4-4243-89c6-dec2c143471a",
   "metadata": {},
   "outputs": [],
   "source": [
    "sns.barplot(x='total_bill',y='day',hue='sex',data=tips_df,palette='Set2')"
   ]
  },
  {
   "cell_type": "markdown",
   "id": "35911be2-1596-4347-9a43-69f22f46d42a",
   "metadata": {},
   "source": [
    "Histograms\n",
    "A Histogram is a bar representation of data that varies over a range. It plots the height of the data belonging to a range along the y-axis and the range along the x-axis. Histograms are used to plot data over a range of values. They use a bar representation to show the data belonging to each range. Let's again use the ‘Iris’ data which contains information about flowers to plot histograms.\n"
   ]
  },
  {
   "cell_type": "code",
   "execution_count": null,
   "id": "5c900c71-02cb-40b9-a5ee-e3055597a352",
   "metadata": {},
   "outputs": [],
   "source": [
    "flowers_df=sns.load_dataset(\"iris\")\n",
    "flowers_df.sepal_width"
   ]
  },
  {
   "cell_type": "markdown",
   "id": "dba5e346-c6f4-4d2b-b279-8109d46a60ff",
   "metadata": {},
   "source": [
    "Now, let’s plot a histogram using the hist() function.\n"
   ]
  },
  {
   "cell_type": "code",
   "execution_count": null,
   "id": "9ef9a7bd-a087-4fb5-a8ff-c97fec80631c",
   "metadata": {},
   "outputs": [],
   "source": [
    "plt.title(\"Distribution of sepal width\")\n",
    "plt.hist(flowers_df.sepal_width)"
   ]
  },
  {
   "cell_type": "markdown",
   "id": "8c507007-ae52-4678-8e3c-1a81b95683de",
   "metadata": {},
   "source": [
    "We can control the number or size of bins too.\n"
   ]
  },
  {
   "cell_type": "code",
   "execution_count": null,
   "id": "4212cb64-db03-46c3-a0eb-151eeb7e084c",
   "metadata": {},
   "outputs": [],
   "source": [
    "plt.hist(flowers_df.sepal_width,bins=5)"
   ]
  },
  {
   "cell_type": "markdown",
   "id": "871bc56d-f0ec-4b03-a3fe-9a493fb98304",
   "metadata": {},
   "source": [
    "Scatter plots:\n",
    "\n",
    "Scatter plots are used when we have to plot two or more variables present at different coordinates. The data is scattered all over the graph and is not confined to a range. Two or more variables are plotted in a Scatter Plot, with each variable being represented by a different color. Let's use the ‘Iris’ dataset to plot a Scatter Plot\n"
   ]
  },
  {
   "cell_type": "code",
   "execution_count": null,
   "id": "8ee906b5-8b09-413e-a204-dba77b8def87",
   "metadata": {},
   "outputs": [],
   "source": [
    "flowers_df=sns.load_dataset(\"iris\")\n",
    "flowers_df"
   ]
  },
  {
   "cell_type": "markdown",
   "id": "754a4983-21e1-4742-b0a3-f5a0818738b6",
   "metadata": {},
   "source": [
    "First, let’s see how many different species of flowers we have.\n"
   ]
  },
  {
   "cell_type": "code",
   "execution_count": null,
   "id": "712c711a-d919-4241-8880-7ac01203a583",
   "metadata": {},
   "outputs": [],
   "source": [
    "flowers_df.species.unique()"
   ]
  },
  {
   "cell_type": "raw",
   "id": "ee10f701-0224-4394-a42b-8e469c378783",
   "metadata": {},
   "source": [
    "Let’s try plotting the data with the help of a line chart."
   ]
  },
  {
   "cell_type": "code",
   "execution_count": null,
   "id": "8fd38d52-f6fe-49ef-ab96-518c98d228f9",
   "metadata": {},
   "outputs": [],
   "source": [
    "plt.plot(flowers_df.sepal_length,flowers_df.sepal_width)"
   ]
  },
  {
   "cell_type": "markdown",
   "id": "00262b3a-f26d-4bd8-adde-eb15db4fcebe",
   "metadata": {},
   "source": [
    "This is not very informative. We cannot figure out the relationship between different data points.\n"
   ]
  },
  {
   "cell_type": "code",
   "execution_count": null,
   "id": "8e5a94d2-11e2-4dcb-a356-974bdadfcd90",
   "metadata": {},
   "outputs": [],
   "source": [
    "sns.scatterplot(x=flowers_df.sepal_length, y=flowers_df.sepal_width)"
   ]
  },
  {
   "cell_type": "markdown",
   "id": "072c3579-2761-4cbb-abd9-854cff807d27",
   "metadata": {},
   "source": [
    "This is much better. But we still cannot differentiate different data points belonging to different categories. We can color the dots using the flower species as a hue.\n",
    "\n",
    "'hue' is used to visualize the data of different categories in one plot. 'palette' is used to change the colour of the plot.\n"
   ]
  },
  {
   "cell_type": "code",
   "execution_count": null,
   "id": "37a8cfa8-6f54-44d3-b642-dabaa1301d57",
   "metadata": {},
   "outputs": [],
   "source": [
    "sns.scatterplot(x=flowers_df.sepal_length, y=flowers_df.sepal_width,hue=flowers_df.species,s=70);"
   ]
  },
  {
   "cell_type": "markdown",
   "id": "0f18bf43-632b-49fd-a2b6-bc2f45383643",
   "metadata": {},
   "source": [
    "Since Seaborn uses Matplotlib's plotting functions internally, we can use functions like plt.figure and plt.title to modify the figure.\n"
   ]
  },
  {
   "cell_type": "code",
   "execution_count": null,
   "id": "21228f52-614b-4651-8ff7-f78de19b14e6",
   "metadata": {},
   "outputs": [],
   "source": [
    "plt.figure(figsize=(12,6))\n",
    "plt.title('sepal dimensions')\n",
    "sns.scatterplot(x=flowers_df.sepal_length, y=flowers_df.sepal_width,hue=flowers_df.species,s=70);"
   ]
  },
  {
   "cell_type": "markdown",
   "id": "80f09690-9e29-42b1-bc09-a258cc55d25e",
   "metadata": {},
   "source": [
    "Heat Maps\n",
    "Heatmaps are used to see changes in behavior or gradual changes in data. It uses different colors to represent different values. Based on how these colors range in hues, intensity, etc., tells us how the phenomenon varies. Let's use heatmaps to visualize monthly passenger footfall at an airport over 12 years from the flights dataset in Seaborn.\n"
   ]
  },
  {
   "cell_type": "code",
   "execution_count": null,
   "id": "2ff185d3-6719-4862-9908-7501823dccc4",
   "metadata": {},
   "outputs": [],
   "source": [
    "flights_df=sns.load_dataset(\"flights\").pivot(index=\"month\", columns=\"year\",values= \"passengers\")\n",
    "flights_df"
   ]
  },
  {
   "cell_type": "markdown",
   "id": "cc8fb739-33c0-4e78-aed8-72fd9d8d770a",
   "metadata": {},
   "source": [
    "The brighter the color, the higher the footfall at the airport. By looking at the graph, we can infer that :\n",
    "\n",
    "The annual footfall for any given year is highest around July and August.\n",
    "The footfall grows annually. Any month in a year will have a higher footfall when compared to the previous years.\n",
    "Let's display the actual values in our heatmap and change the hue to blue.\n"
   ]
  },
  {
   "cell_type": "code",
   "execution_count": null,
   "id": "387b2800-1b92-4fc2-b28f-e05f586978f8",
   "metadata": {},
   "outputs": [],
   "source": [
    "import seaborn as sns\n",
    "import matplotlib.pyplot as plt\n",
    "plt.title(\" No of passengers(1000s)\")\n",
    "'''fmt=\"d\": Specifies that the data should be formatted as integers (\"d\" stands for \"decimal integer\").\n",
    "annot=True: This argument annotates (displays) the actual values inside the heatmap cells'''\n",
    "sns.heatmap(flights_df,fmt=\"d\",annot=True,cmap='Blues')         "
   ]
  },
  {
   "cell_type": "markdown",
   "id": "dee0ed22-c7e7-4555-aca9-15207d17c3e0",
   "metadata": {},
   "source": [
    "Exception handling:\n",
    "Error in Python can be of two types i.e. Syntax errors and Exceptions. Errors are problems in a program due to which the program will stop the execution. On the other hand, exceptions are raised when some internal events occur which change the normal flow of the program.\n",
    "\n",
    "Different types of exceptions in python:\n",
    "\n",
    "In Python, there are several built-in Python exceptions that can be raised when an error occurs during the execution of a program. Here are some of the most common types of exceptions in Python:1.\n",
    "\n",
    "SyntaxError: This exception is raised when the interpreter encounters a syntax error in the code, such as a misspelled keyword, a missing colon, or an unbalanced parenthes2.is.\n",
    "TypeError: This exception is raised when an operation or function is applied to an object of the wrong type, such as adding a string to an inte3.ger.\n",
    "NameError: This exception is raised when a variable or function name is not found in the current s4.cope.\n",
    "IndexError: This exception is raised when an index is out of range for a list, tuple, or other sequence 5.types.\n",
    "KeyError: This exception is raised when a key is not found in a dict6.ionary.\n",
    "ValueError: This exception is raised when a function or method is called with an invalid argument or input, such as trying to convert a string to an integer when the string does not represent a valid 7.integer.\n",
    "AttributeError: This exception is raised when an attribute or method is not found on an object, such as trying to access a non-existent attribute of a class 8.instance.\n",
    "IOError: This exception is raised when an I/O operation, such as reading or writing a file, fails due to an input/out9.put error.\n",
    "ZeroDivisionError: This exception is raised when an attempt is made to divide a numb10.er by zero.\n",
    "ImportError: This exception is raised when an import statement fails to find or load a module.\n",
    "These are just a few examples of the many types of exceptions that can occur in Python. It’s important to handle exceptions properly in your code using try-except blocks or other error-handling techniques, in order to gracefully handle errors and prevent the program fom crashing.\n"
   ]
  },
  {
   "cell_type": "code",
   "execution_count": null,
   "id": "223cee7a-96c7-4632-8845-3fbb4e6e7e66",
   "metadata": {},
   "outputs": [],
   "source": [
    "1) TypeError: This exception is raised when an operation or function is applied to an object of the wrong type. Here’s an example:\n",
    " Here a ‘TypeError’ is raised as both the datatypes are different which are being added."
   ]
  },
  {
   "cell_type": "code",
   "execution_count": null,
   "id": "76d7686c-1629-4f1f-9d66-0919192ce141",
   "metadata": {},
   "outputs": [],
   "source": [
    "x = 5\n",
    "y = \"hello\"\n",
    "z = x + y "
   ]
  },
  {
   "cell_type": "markdown",
   "id": "cf0435ba-4a1d-4fc8-9049-a7a18f29f03c",
   "metadata": {},
   "source": [
    "try catch block to resolve it:\n",
    "The code attempts to add an integer (‘x') and a string (‘y') together, which is not a valid operation, and it will raise a ‘TypeError'. The code used a ‘try' and ‘except' block to catch this exception and print an error message.\n"
   ]
  },
  {
   "cell_type": "code",
   "execution_count": null,
   "id": "db1a2673-2b09-4829-8ece-d48f48d22235",
   "metadata": {},
   "outputs": [],
   "source": [
    "x = 5\n",
    "y = \"hello\"\n",
    "try:\n",
    "    z = x + y\n",
    "except TypeError:\n",
    "    print(\"Error: cannot add an int and a str\")\n"
   ]
  },
  {
   "cell_type": "markdown",
   "id": "b0ef4d6b-7dbe-4173-a942-0c5098b5d1cb",
   "metadata": {},
   "source": [
    "Try and Except Statement – Catching Exceptions\n",
    "Try and except statements are used to catch and handle exceptions in Python. Statements that can raise exceptions are wrapped inside the try block and the statements that handle the exception are written inside except block.\n",
    "\n",
    "Example: Here we are trying to access the array element whose index is out of bound and handle the corresponding exception.\n"
   ]
  },
  {
   "cell_type": "code",
   "execution_count": null,
   "id": "7d02954f-73e5-4c09-97b0-bbd7ad3fd34d",
   "metadata": {},
   "outputs": [],
   "source": [
    "a = [1, 2, 3]\n",
    "try: \n",
    "    print (\"Second element = %d\" %(a[1]))\n",
    "\n",
    "    print (\"Fourth element = %d\" %(a[3]))\n",
    "\n",
    "except:\n",
    "    print (\"An error occurred\")"
   ]
  },
  {
   "cell_type": "code",
   "execution_count": null,
   "id": "4aa29998-34ef-41c8-af18-142b26705053",
   "metadata": {},
   "outputs": [],
   "source": [
    "def fun(a):\n",
    "    if a < 4:\n",
    "\n",
    "        b = a/(a-3)\n",
    "    print(\"Value of b = \", b)\n",
    "    \n",
    "try:\n",
    "    fun(3)\n",
    "    fun(5)\n",
    "except ZeroDivisionError:\n",
    "    print(\"ZeroDivisionError Occurred and Handled\")\n",
    "except NameError:\n",
    "    print(\"NameError Occurred and Handled\")"
   ]
  },
  {
   "cell_type": "code",
   "execution_count": null,
   "id": "d86f0186-c3f0-47d9-9c7f-dc9ac39b24ff",
   "metadata": {},
   "outputs": [],
   "source": [
    "def AbyB(a , b):\n",
    "    try:\n",
    "        c = ((a+b) / (a-b))\n",
    "    except ZeroDivisionError:\n",
    "        print (\"a/b result in 0\")\n",
    "    else:\n",
    "        print (c)\n",
    "AbyB(2.0, 3.0)\n",
    "AbyB(3.0, 3.0)\n"
   ]
  },
  {
   "cell_type": "code",
   "execution_count": null,
   "id": "fd4a2c0c-4395-4501-8028-0ca25cdefbb9",
   "metadata": {},
   "outputs": [],
   "source": [
    "try:\n",
    "    k = 5//0 \n",
    "    print(k)\n",
    "\n",
    "except ZeroDivisionError:\n",
    "    print(\"Can't divide by zero\")\n",
    "\n",
    "finally:\n",
    "    print('This is always executed')"
   ]
  },
  {
   "cell_type": "markdown",
   "id": "927db467-5a30-474a-bfd6-9be135dc0f26",
   "metadata": {},
   "source": [
    "Advantages of Exception Handling:\n",
    "Improved program reliability: By handling exceptions properly, you can prevent your program from crashing or producing incorrect results due to unexpected errors or input.\n",
    "Simplified error handling: Exception handling allows you to separate error handling code from the main program logic, making it easier to read and maintain your code.\n",
    "Cleaner code: With exception handling, you can avoid using complex conditional statements to check for errors, leading to cleaner and more readable code.\n",
    "Easier debugging: When an exception is raised, the Python interpreter prints a traceback that shows the exact location where the exception occurred, making it easier to debug your code.\n",
    "Disadvantages of Exception Handling:\n",
    "Performance overhead: Exception handling can be slower than using conditional statements to check for errors, as the interpreter has to perform additional work to catch and handle the exception.\n",
    "Increased code complexity: Exception handling can make your code more complex, especially if you have to handle multiple types of exceptions or implement complex error handling logic.\n",
    "Possible security risks: Improperly handled exceptions can potentially reveal sensitive information or create security vulnerabilities in your code, so it’s important to handle exceptions carefully and avoid exposing too much information about your program.\n"
   ]
  }
 ],
 "metadata": {
  "kernelspec": {
   "display_name": "Python 3",
   "language": "python",
   "name": "python3"
  },
  "language_info": {
   "codemirror_mode": {
    "name": "ipython",
    "version": 3
   },
   "file_extension": ".py",
   "mimetype": "text/x-python",
   "name": "python",
   "nbconvert_exporter": "python",
   "pygments_lexer": "ipython3",
   "version": "3.10.2"
  }
 },
 "nbformat": 4,
 "nbformat_minor": 5
}
