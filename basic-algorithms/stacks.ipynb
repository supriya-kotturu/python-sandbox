{
 "cells": [
  {
   "cell_type": "markdown",
   "metadata": {},
   "source": [
    "# Stacks\n",
    "\n",
    "It's an abstract data structure. It follows LIFO - Last In First Out.\n",
    "\n",
    "- push - add element to the top\n",
    "- pop - remove element from the top\n",
    "- peek - get the value of the top element without removing it\n"
   ]
  },
  {
   "cell_type": "code",
   "execution_count": 1,
   "metadata": {},
   "outputs": [],
   "source": [
    "import math as m\n",
    "import random as r\n",
    "from collections import deque"
   ]
  },
  {
   "cell_type": "code",
   "execution_count": 2,
   "metadata": {},
   "outputs": [],
   "source": [
    "# utilities\n",
    "\n",
    "def get_random_int(start, end):\n",
    "    return r.randint(start, end)\n",
    "\n",
    "STACK_EMPTY_ERROR= 'Stack is empty. Cannot perform any operations.',\n",
    "STACK_CREATED= \"Stack created.\""
   ]
  },
  {
   "cell_type": "code",
   "execution_count": 3,
   "metadata": {},
   "outputs": [
    {
     "name": "stdout",
     "output_type": "stream",
     "text": [
      "Length: 2\n",
      "14 8 \n",
      "\n",
      "Length: 4\n",
      "14 8 100 200 \n",
      "\n"
     ]
    }
   ],
   "source": [
    "# build a stack using LIST\n",
    "\n",
    "def create_stack():\n",
    "    stack = []\n",
    "    return stack\n",
    "\n",
    "def is_empty(stack):\n",
    "    return len(stack) == 0\n",
    "\n",
    "def peek(stack):\n",
    "    if(is_empty(stack)):\n",
    "        print(STACK_EMPTY_ERROR)\n",
    "    else: return stack[-1]\n",
    "\n",
    "def push(stack, element):\n",
    "    stack.append(element)\n",
    "\n",
    "def pop(stack):\n",
    "    if(is_empty(stack)):\n",
    "        print(STACK_EMPTY_ERROR)\n",
    "    else: return stack.pop()\n",
    "\n",
    "def print_stack(stack):\n",
    "    print(\"Length: {}\".format(len(stack)))\n",
    "    for i in stack:\n",
    "        print(i, end= \" \")\n",
    "\n",
    "    print(\"\\n\")\n",
    "\n",
    "\n",
    "stk = create_stack()\n",
    "length = get_random_int(1,10)\n",
    "\n",
    "for _ in range(length):\n",
    "    push(stk, get_random_int(1,15))\n",
    "\n",
    "print_stack(stk)\n",
    "push(stk, 100)\n",
    "push(stk, 200)\n",
    "push(stk, 500)\n",
    "pop(stk)\n",
    "print_stack(stk)"
   ]
  },
  {
   "cell_type": "code",
   "execution_count": 4,
   "metadata": {},
   "outputs": [
    {
     "name": "stdout",
     "output_type": "stream",
     "text": [
      "Length of the stack: 6\n",
      "12 14 1 3 8 4 \n",
      "\n",
      "Length of the stack: 8\n",
      "12 14 1 3 8 4 100 200 \n",
      "\n"
     ]
    }
   ],
   "source": [
    "# build stack using LISTS and CLASS\n",
    "\n",
    "class Stack:\n",
    "    def __init__(self):\n",
    "        self.stack = []\n",
    "    \n",
    "    def is_empty(self):\n",
    "        return len(self.stack) == 0\n",
    "    \n",
    "    def peek(self):\n",
    "        if is_empty(self):\n",
    "            print(STACK_EMPTY_ERROR)\n",
    "        else: \n",
    "            return self.stack[-1]\n",
    "        \n",
    "    def push(self, data):\n",
    "        self.stack.append(data)\n",
    "\n",
    "    def pop(self):\n",
    "        if self.is_empty():\n",
    "            print(STACK_EMPTY_ERROR)\n",
    "        else:\n",
    "            return self.stack.pop()\n",
    "        \n",
    "    def print_stack(self):\n",
    "        print(\"Length of the stack: {}\".format(len(self.stack)))\n",
    "        for ele in self.stack:\n",
    "            print(ele, end=' ')\n",
    "        print(\"\\n\")\n",
    "\n",
    "\n",
    "stk = Stack()\n",
    "length = get_random_int(1,10)\n",
    "\n",
    "for _ in range(length):\n",
    "    stk.push(get_random_int(1, 15))\n",
    "\n",
    "stk.print_stack()\n",
    "stk.push(100)\n",
    "stk.push(200)\n",
    "stk.push(300)\n",
    "stk.pop()\n",
    "stk.print_stack()"
   ]
  },
  {
   "cell_type": "code",
   "execution_count": 11,
   "metadata": {},
   "outputs": [
    {
     "name": "stdout",
     "output_type": "stream",
     "text": [
      "Stack created.\n",
      "Length of the stack: 3\n",
      "7 5 4 \n",
      "\n",
      "Length of the stack: 3\n",
      "4 5 7 \n",
      "\n",
      "Length of the stack: 2\n",
      "4 100 \n",
      "\n",
      "Peek: 100\n",
      "None\n",
      "Length of the stack: 2\n",
      "4 100 \n",
      "\n"
     ]
    }
   ],
   "source": [
    "# stacks with collection - DEQUE\n",
    "\n",
    "class Stack:\n",
    "    def __init__(self):\n",
    "        it = iter([])\n",
    "        self.stack = deque(it)\n",
    "        self.top = it\n",
    "        print(STACK_CREATED)\n",
    "\n",
    "    def is_empty(self):\n",
    "        return len(self.stack) == 0\n",
    "    \n",
    "    def peek(self):\n",
    "        if self.is_empty():\n",
    "            print(STACK_EMPTY_ERROR)\n",
    "        else: return self.stack[- 1]\n",
    "\n",
    "    def push(self, data):\n",
    "        self.stack.append(data)\n",
    "\n",
    "    def pop(self):\n",
    "        if(self.is_empty()):\n",
    "            print(STACK_EMPTY_ERROR) \n",
    "        else: \n",
    "            return self.stack.pop()\n",
    "        \n",
    "    def print_stack(self):\n",
    "        print(\"Length of the stack: {}\".format(len(self.stack)))\n",
    "        for ele in self.stack:\n",
    "            print(ele, end=\" \")\n",
    "        list(self.stack)\n",
    "        print(\"\\n\")\n",
    "\n",
    "    def reverse_inplace(self):\n",
    "        self.stack.reverse()\n",
    "\n",
    "    def get_reversed_stack(self):\n",
    "        return self.stack.extendleft([])\n",
    "    \n",
    "    def rotate_by_steps(self, steps):\n",
    "        return self.stack.rotate(steps)\n",
    "    \n",
    "    def empty_stack(self):\n",
    "        self.stack.clear()\n",
    "\n",
    "\n",
    "stk = Stack()\n",
    "length = get_random_int(1,6)\n",
    "\n",
    "for _ in range(length):\n",
    "    stk.push(get_random_int(1,10))\n",
    "\n",
    "stk.print_stack()\n",
    "stk.reverse_inplace()\n",
    "stk.print_stack()\n",
    "\n",
    "stk.pop()\n",
    "stk.pop()\n",
    "stk.push(100)\n",
    "\n",
    "stk.print_stack()\n",
    "\n",
    "print(\"Peek: {}\".format(stk.peek()))\n",
    "\n",
    "rev = stk.get_reversed_stack()\n",
    "print(rev)\n",
    "stk.print_stack()\n",
    "    "
   ]
  },
  {
   "cell_type": "code",
   "execution_count": 6,
   "metadata": {},
   "outputs": [],
   "source": [
    "# stacks with queue - LIST_QUEUE"
   ]
  }
 ],
 "metadata": {
  "kernelspec": {
   "display_name": "Python 3",
   "language": "python",
   "name": "python3"
  },
  "language_info": {
   "codemirror_mode": {
    "name": "ipython",
    "version": 3
   },
   "file_extension": ".py",
   "mimetype": "text/x-python",
   "name": "python",
   "nbconvert_exporter": "python",
   "pygments_lexer": "ipython3",
   "version": "3.10.2"
  }
 },
 "nbformat": 4,
 "nbformat_minor": 2
}
