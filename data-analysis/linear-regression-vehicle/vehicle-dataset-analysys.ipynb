{
 "cells": [
  {
   "cell_type": "markdown",
   "metadata": {},
   "source": [
    "# Vehicle Dataset - Linear Regression\n"
   ]
  },
  {
   "cell_type": "code",
   "execution_count": null,
   "metadata": {},
   "outputs": [],
   "source": [
    "import matplotlib.pyplot as plt\n",
    "import seaborn as sns\n",
    "import pandas as pd\n",
    "import numpy as np\n",
    "import random as r\n",
    "import joblib as j\n",
    "\n",
    "from sklearn.model_selection import train_test_split\n",
    "from sklearn.linear_model import  LinearRegression\n",
    "from sklearn.metrics import  r2_score, mean_absolute_error, mean_squared_error\n"
   ]
  },
  {
   "cell_type": "code",
   "execution_count": null,
   "metadata": {},
   "outputs": [],
   "source": [
    "# load the data\n",
    "\n",
    "data_df = pd.read_csv('./datasets/car details v4.csv')\n",
    "data_df.info()"
   ]
  },
  {
   "cell_type": "code",
   "execution_count": null,
   "metadata": {},
   "outputs": [],
   "source": [
    "# extract power \n",
    "def extract_power(power_str):\n",
    "    try:\n",
    "        # Extract the numeric value before 'bhp'\n",
    "        power = float(power_str.split('bhp')[0].strip())\n",
    "        return power\n",
    "    except:\n",
    "        return None\n",
    "    \n",
    "# extract torque\n",
    "def extract_torque(torque_str):\n",
    "    try:\n",
    "        # Extract the numeric value before 'Nm'\n",
    "        torque = float(torque_str.split('Nm')[0].strip())\n",
    "        return torque\n",
    "    except:\n",
    "        return None\n",
    "\n",
    "def convert_power_to_kw(bhp):\n",
    "    if bhp is not None:\n",
    "        return bhp * 0.745699872\n",
    "    return None\n",
    "\n",
    "def convert_torque_to_lbft(nm):\n",
    "    if nm is not None:\n",
    "        return nm * 0.737562149\n",
    "    return None\n"
   ]
  },
  {
   "cell_type": "code",
   "execution_count": null,
   "metadata": {},
   "outputs": [],
   "source": [
    "# Transform data by converting Max power and Max torque into continuous values\n",
    "\n",
    "# Extract numeric values\n",
    "data_df['Power_bhp'] = data_df['Max Power'].apply(extract_power)\n",
    "data_df['Torque_nm'] = data_df['Max Torque'].apply(extract_torque)\n",
    "\n",
    "# Convert to other units\n",
    "data_df['Power_kW'] = data_df['Power_bhp'].apply(convert_power_to_kw)\n",
    "data_df['Torque_lbft'] = data_df['Torque_nm'].apply(convert_torque_to_lbft)\n",
    "\n",
    "# Reset the index after dropping NaN values\n",
    "data_df = data_df.dropna()\n",
    "data_df = data_df.dropna().reset_index(drop=True)\n",
    "\n",
    "data_df.head(2)\n"
   ]
  },
  {
   "cell_type": "code",
   "execution_count": null,
   "metadata": {},
   "outputs": [],
   "source": [
    "# Regression line\n",
    "\n",
    "# From the above description from the dataset, I intend to find the relationships between the following features\n",
    "# -> kilometers - price\n",
    "# -> fuel type - price\n",
    "# -> power_kW - price\n",
    "# -> torque_lbft - price\n",
    "\n",
    "# We now plot a scatter plot on the dependent and independent pairs to check the linearity of features\n",
    "# before we consider them for the regression model\n",
    "\n",
    "# Fuel Type Vs Price\n",
    "\n",
    "sns.boxplot(x=\"Fuel Type\", y=\"Price\", data = data_df, color=\"pink\")\n",
    "plt.title(\"Fuel Type Vs Price\")\n",
    "plt.xlabel(\"Fuel Type\")\n",
    "plt.ylabel(\"Price\")\n",
    "plt.show()\n",
    "\n",
    "# Kilometer Vs Price\n",
    "\n",
    "plt.scatter(x=data_df[\"Kilometer\"], y= data_df[\"Price\"], c=\"teal\", alpha=0.5)\n",
    "sns.regplot(data=data_df, x=\"Kilometer\", y=\"Price\", \n",
    "            scatter_kws={'alpha':0.5}, \n",
    "            line_kws={'color': 'red'})\n",
    "plt.title(\"Price Vs Kilometers\")\n",
    "plt.xlabel(\"Kilometer\")\n",
    "plt.ylabel(\"Price\")\n",
    "plt.show()\n",
    "\n",
    "# Power_kW Vs Price\n",
    "\n",
    "plt.scatter(x=data_df[\"Power_kW\"], y= data_df[\"Price\"], c=\"magenta\", alpha=0.5)\n",
    "sns.regplot(data=data_df, x=\"Power_kW\", y=\"Price\", \n",
    "            scatter_kws={'alpha':0.5}, \n",
    "            line_kws={'color': 'red'})\n",
    "plt.title(\"Power_kW Vs Price\")\n",
    "plt.xlabel(\"Power_kW\")\n",
    "plt.ylabel(\"Price\")\n",
    "plt.show()\n",
    "\n",
    "# Torque_lbft Vs Price\n",
    "\n",
    "plt.scatter(x=data_df[\"Torque_lbft\"], y= data_df[\"Price\"], c=\"lime\", alpha=0.5)\n",
    "sns.regplot(data=data_df, x=\"Torque_lbft\", y=\"Price\", \n",
    "            scatter_kws={'alpha':0.5}, \n",
    "            line_kws={'color': 'red'})\n",
    "plt.title(\"Torque_lbft Vs Price\")\n",
    "plt.xlabel(\"Torque_lbft\")\n",
    "plt.ylabel(\"Price\")\n",
    "plt.show()"
   ]
  },
  {
   "cell_type": "code",
   "execution_count": null,
   "metadata": {},
   "outputs": [],
   "source": [
    "# prepare the data \n",
    "\n",
    "x = data_df[['Kilometer', 'Power_kW', 'Torque_lbft']]\n",
    "y = data_df['Price']\n",
    "\n",
    "# check the shape of the data. \n",
    "# Anything that's being plotted on X-axis should be 2D\n",
    "print(f\"X: {x.shape} \\nY: {y.shape}\")"
   ]
  },
  {
   "cell_type": "code",
   "execution_count": null,
   "metadata": {},
   "outputs": [],
   "source": [
    "# generate a random SEED value\n",
    "SEED = r.randint(0,5000)\n",
    "\n",
    "# split the training and testing data in 70-30\n",
    "xtrain, xtest, ytrain, ytest = train_test_split(x,y,train_size=0.7,random_state=SEED)\n",
    "\n",
    "# build the model\n",
    "model = LinearRegression()\n",
    "\n",
    "# fit the model\n",
    "model.fit(xtrain, ytrain)\n",
    "\n",
    "# check the incercept(m) and coefficient(c) of the line(y = mx + c)\n",
    "print(f\"c: {model.intercept_} \\nm: {model.coef_}\")\n"
   ]
  },
  {
   "cell_type": "code",
   "execution_count": null,
   "metadata": {},
   "outputs": [],
   "source": [
    "# predict the Y values from the test set\n",
    "ypred = model.predict(xtest)\n",
    "\n",
    "# calculate the accuracy using R2-score\n",
    "r2_result = r2_score(ytest,ypred)\n",
    "mse = mean_squared_error(ytest, ypred)\n",
    "mae = mean_absolute_error(ytest, ypred)\n",
    "\n",
    "print(f\"R2-score: {r2_result}\")\n",
    "print(f\"MSE: {mse}\")\n",
    "print(f\"MAE: {mae}\")"
   ]
  },
  {
   "cell_type": "markdown",
   "metadata": {},
   "source": [
    "## Store the fine model\n"
   ]
  },
  {
   "cell_type": "code",
   "execution_count": null,
   "metadata": {},
   "outputs": [],
   "source": [
    "accuracy_list = []\n",
    "models = []\n",
    "\n",
    "for i in range(5000):\n",
    "    x_train, x_test, y_train, y_test = train_test_split(x, y,train_size=0.7, random_state=i)\n",
    "    fine_model = LinearRegression()\n",
    "    fine_model.fit(x_train,y_train)\n",
    "    \n",
    "    y_pred = fine_model.predict(x_test)\n",
    "    r2_result = r2_score(y_test,y_pred)\n",
    "    \n",
    "    accuracy_list.append(r2_result)\n",
    "    models.append(fine_model)"
   ]
  },
  {
   "cell_type": "code",
   "execution_count": null,
   "metadata": {},
   "outputs": [],
   "source": [
    "# max accuracy in the fitted models\n",
    "max_accuracy = np.max(accuracy_list)\n",
    "\n",
    "# find the index of the max value\n",
    "model_idx = np.argmax(accuracy_list)\n",
    "    \n",
    "print(f\"accuracy list: {accuracy_list}\")\n",
    "print(f\"Max accuracy of the fitted model: {max_accuracy}\")\n",
    "print(f\"Model Idx with max accuracy: {model_idx}\")"
   ]
  },
  {
   "cell_type": "code",
   "execution_count": null,
   "metadata": {},
   "outputs": [],
   "source": [
    "# save the model\n",
    "\n",
    "j.dump(models[model_idx], \"multiple-linear-fine-model.pkl\")"
   ]
  },
  {
   "cell_type": "code",
   "execution_count": null,
   "metadata": {},
   "outputs": [],
   "source": [
    "# predict the saved model\n",
    "\n",
    "trained_model = j.load(\"./multiple-linear-fine-model.pkl\")\n",
    "\n",
    "# 'Kilometer', 'Power_kW', 'Torque_lbft'\n",
    "pred_price = trained_model.predict([[50, 89.25, 5.86]])\n",
    "print(pred_price)"
   ]
  }
 ],
 "metadata": {
  "kernelspec": {
   "display_name": "Python 3",
   "language": "python",
   "name": "python3"
  },
  "language_info": {
   "codemirror_mode": {
    "name": "ipython",
    "version": 3
   },
   "file_extension": ".py",
   "mimetype": "text/x-python",
   "name": "python",
   "nbconvert_exporter": "python",
   "pygments_lexer": "ipython3",
   "version": "3.10.2"
  }
 },
 "nbformat": 4,
 "nbformat_minor": 2
}
