{
 "cells": [
  {
   "cell_type": "code",
   "execution_count": null,
   "id": "375b6094-7ad2-4f4e-8e02-7c27ddfc60e7",
   "metadata": {},
   "outputs": [],
   "source": [
    "import matplotlib.pyplot as plt\n",
    "import seaborn as sns\n",
    "\n",
    "# importing the libraries"
   ]
  },
  {
   "cell_type": "code",
   "execution_count": null,
   "id": "bcee8cf8-143d-40b1-8f39-524462ceb7ad",
   "metadata": {},
   "outputs": [],
   "source": [
    "#creating a variables\n",
    "\n",
    "var_1=[1,2,3,4,5,6,7]\n",
    "var_2=[2,4,5,6,8,7,9]"
   ]
  },
  {
   "cell_type": "code",
   "execution_count": null,
   "id": "3d291c74-f7ce-4941-b3d8-afc6dcfff860",
   "metadata": {},
   "outputs": [],
   "source": [
    "#to put a linear plot using matplotlib using plot and show function\n",
    "\n",
    "plt.plot(var_1,var_2)\n",
    "plt.show()"
   ]
  },
  {
   "cell_type": "code",
   "execution_count": null,
   "id": "b653faaa-8dc4-4b27-aaa2-d1a0e2fa19e9",
   "metadata": {},
   "outputs": [],
   "source": [
    "#creating a variables\n",
    "\n",
    "var_1=[1,2,3,4,5,6,7]\n",
    "var_2=[2,4,5,6,8,7,9]\n",
    "\n",
    "#using seaborn\n",
    "\n",
    "sns.lineplot(x=var_1,y=var_2)\n",
    "plt.show()"
   ]
  },
  {
   "cell_type": "code",
   "execution_count": null,
   "id": "4272a000-bba2-42f7-bae4-726043906ed9",
   "metadata": {},
   "outputs": [],
   "source": [
    "# no difference between the graphs"
   ]
  },
  {
   "cell_type": "code",
   "execution_count": null,
   "id": "052a558d-6a7f-4c5e-a81a-3d1425d294fb",
   "metadata": {},
   "outputs": [],
   "source": [
    "#lets use dataframe method by using pandas"
   ]
  },
  {
   "cell_type": "code",
   "execution_count": null,
   "id": "2885ef34-67c5-4957-86e6-5965882501a6",
   "metadata": {},
   "outputs": [],
   "source": [
    "import matplotlib.pyplot as plt\n",
    "import seaborn as sns\n",
    "import pandas as pd\n",
    "\n",
    "# importing the libraries\n",
    "\n",
    "#creating a variables\n",
    "\n",
    "var_1=[1,2,3,4,5,6,7]\n",
    "var_2=[2,4,5,6,8,7,9]\n",
    "\n",
    "#creating a dataframe by assigning to a variable, using DataFrame function lets create dictionary\n",
    "x_1=pd.DataFrame({\"var_1\":var_1,\"var_2\":var_2})\n",
    "sns.lineplot(x=\"var_1\",y=\"var_2\",data=x_1) #lets pass one arugement called data whcich holds dataframe created\n",
    "\n",
    "\n",
    "#check the difference between all the graphs "
   ]
  },
  {
   "cell_type": "code",
   "execution_count": null,
   "id": "fe1f9eeb-e639-4ca2-b1ba-d7572785ba70",
   "metadata": {},
   "outputs": [],
   "source": [
    "# lets do it using dataset\n",
    "#download dataset from https://github.com/mwaskom/seaborn-data"
   ]
  },
  {
   "cell_type": "code",
   "execution_count": null,
   "id": "c919e440-62b2-491f-acab-b58a37b78cb3",
   "metadata": {},
   "outputs": [],
   "source": [
    "import matplotlib.pyplot as plt\n",
    "import seaborn as sns\n",
    "import pandas as pd\n",
    "\n",
    "#lets load the dataset using \n",
    "\n",
    "print(sns.get_dataset_names())\n",
    "y_1=sns.load_dataset(\"penguins\")\n",
    "y_1"
   ]
  },
  {
   "cell_type": "code",
   "execution_count": null,
   "id": "68101b44-0db5-44d4-9d50-a33249b9f47d",
   "metadata": {},
   "outputs": [],
   "source": [
    "#lets plot the linear plot for any of the headings of the dataset\n",
    "\n",
    "sns.lineplot(x=\"bill_length_mm\",y=\"bill_depth_mm\",data=y_1)\n",
    "plt.xlabel(\"Bill Length\")\n",
    "plt.show()"
   ]
  },
  {
   "cell_type": "code",
   "execution_count": null,
   "id": "3e492897-0eb9-42ca-81b0-cf0e416d6b05",
   "metadata": {},
   "outputs": [],
   "source": [
    "sns.lineplot(x=\"bill_depth_mm\",y=\"body_mass_g\",data=y_1, color='lime')\n",
    "plt.show()"
   ]
  },
  {
   "cell_type": "code",
   "execution_count": null,
   "id": "1561a6e2-e789-42c3-90b6-a52f0810e2c0",
   "metadata": {},
   "outputs": [],
   "source": [
    "#lets us use the hue function which helps to plot a colorful graph for the popular column in the dataset wrt to it\n",
    "\n",
    "sns.lineplot(x=\"bill_depth_mm\",y=\"body_mass_g\",data=y_1,hue=\"species\", palette=[\"lime\", \"purple\", \"teal\"])\n",
    "plt.show()"
   ]
  },
  {
   "cell_type": "code",
   "execution_count": null,
   "id": "90d6a4ef-9d04-4d39-af2b-555838ee7faa",
   "metadata": {},
   "outputs": [],
   "source": [
    "#let us use the size function\n",
    "\n",
    "sns.lineplot(x=\"bill_depth_mm\",y=\"body_mass_g\",size = 3,data=y_1,hue=\"sex\")\n",
    "plt.show()"
   ]
  },
  {
   "cell_type": "code",
   "execution_count": null,
   "id": "a9679499-bef2-461b-b982-c180e8fff6ab",
   "metadata": {},
   "outputs": [],
   "source": [
    "#lets use the style function to change the style of the line\n",
    "# you can change the graph\n",
    "\n",
    "sns.lineplot(x=\"bill_depth_mm\",y=\"body_mass_g\",data=y_1,hue=\"sex\",size=5,style=\"sex\")\n",
    "plt.show()"
   ]
  },
  {
   "cell_type": "code",
   "execution_count": null,
   "id": "7119e2f9-e1cf-48f8-8f84-a79397c38795",
   "metadata": {},
   "outputs": [],
   "source": [
    "# to check the color palette color to check the palette color use the wrong input to check for the options\n",
    "sns.lineplot(x=\"bill_depth_mm\",y=\"bill_length_mm\",data=y_1,hue=\"sex\",size=5,style=\"sex\",palette=\"Accent_r\")\n",
    "plt.show()"
   ]
  },
  {
   "cell_type": "code",
   "execution_count": null,
   "id": "9bda0d0b-ea5a-46b0-bb1d-504defc2fbf6",
   "metadata": {},
   "outputs": [],
   "source": [
    "sns.lineplot(x=\"bill_depth_mm\",y=\"bill_length_mm\",data=y_1,hue=\"sex\",size=5,style=\"sex\",palette=\"dark\")\n",
    "plt.show()\n",
    "sns.color_palette()\n",
    "sns.palettes.hls_palette()"
   ]
  },
  {
   "cell_type": "code",
   "execution_count": null,
   "id": "336d9db7-b77a-4e8b-97c5-8e3279c3e7e4",
   "metadata": {},
   "outputs": [],
   "source": [
    "#you can add the markers for the attribute sex using the marker function using the list"
   ]
  },
  {
   "cell_type": "code",
   "execution_count": null,
   "id": "4c63d443-26c7-4070-98c6-254297b23cd0",
   "metadata": {},
   "outputs": [],
   "source": [
    "sns.lineplot(x=\"bill_depth_mm\",y=\"bill_length_mm\",data=y_1,hue=\"sex\",size=5,style=\"sex\",palette=\"Accent\",markers=[\"o\",\">\"])\n",
    "plt.show()"
   ]
  },
  {
   "cell_type": "code",
   "execution_count": null,
   "id": "50a0c0be-d8e4-440a-8385-d612141a3d0c",
   "metadata": {},
   "outputs": [],
   "source": [
    "#remove the dotted lines in the graph using the dashes\n",
    "sns.lineplot(x=\"bill_depth_mm\",y=\"bill_length_mm\",data=y_1,hue=\"sex\",size=5,style=\"sex\",palette=\"Accent\",markers=[\"o\",\">\"],dashes=False)\n",
    "plt.show()"
   ]
  },
  {
   "cell_type": "code",
   "execution_count": null,
   "id": "ee64f3f9-ec4e-4515-978c-6ab3d316c81f",
   "metadata": {},
   "outputs": [],
   "source": [
    "#if u want to remove the legend in the graph\n",
    "sns.lineplot(x=\"bill_depth_mm\",y=\"bill_length_mm\",data=y_1,hue=\"sex\",size=5,style=\"sex\",palette=\"Accent\",markers=[\"o\",\">\"],\n",
    "             dashes=False,legend=False)\n",
    "plt.show()"
   ]
  },
  {
   "cell_type": "code",
   "execution_count": null,
   "id": "4d11c9c3-360f-4370-a8f5-4b3225102d11",
   "metadata": {},
   "outputs": [],
   "source": [
    "#to put grid\n",
    "#to put title in the graph\n",
    "sns.lineplot(x=\"bill_depth_mm\",y=\"bill_length_mm\",data=y_1,hue=\"sex\",size=5,style=\"sex\",palette=\"Accent\",markers=[\"o\",\">\"],\n",
    "             dashes=False)\n",
    "plt.grid()\n",
    "plt.title(\"Penguins\")\n",
    "plt.show()"
   ]
  },
  {
   "cell_type": "markdown",
   "id": "19ed23e9-9f26-4459-8eed-e1ded89bac2a",
   "metadata": {},
   "source": [
    "Histogram plot\n"
   ]
  },
  {
   "cell_type": "code",
   "execution_count": null,
   "id": "601c7fda-3497-4e6a-83ec-08e9826ce08f",
   "metadata": {},
   "outputs": [],
   "source": [
    "import pandas as pd\n",
    "import seaborn as sns\n",
    "import matplotlib.pyplot as plt\n",
    "\n",
    "var=sns.load_dataset(\"healthexp\")\n",
    "var"
   ]
  },
  {
   "cell_type": "code",
   "execution_count": null,
   "id": "f2ce7fb1-d74f-4a71-8a7f-ae7489660483",
   "metadata": {},
   "outputs": [],
   "source": [
    "#to create histogram\n",
    "\n",
    "sns.histplot(var[\"Life_Expectancy\"])\n",
    "plt.show()"
   ]
  },
  {
   "cell_type": "code",
   "execution_count": null,
   "id": "c5d4f065-f3b5-483a-8e75-edb7d84310ba",
   "metadata": {},
   "outputs": [],
   "source": [
    "#to create range and kernel density estimation of cap values\n",
    "\n",
    "sns.histplot(var[\"Life_Expectancy\"],kde=True)\n",
    "plt.show()"
   ]
  },
  {
   "cell_type": "code",
   "execution_count": null,
   "id": "ec5e8909-ab03-4c4e-a5dc-104c7c894049",
   "metadata": {},
   "outputs": [],
   "source": [
    "#color density can be show in the x axis\n",
    "\n",
    "sns.histplot(var[\"Life_Expectancy\"],kde=True,color='c')\n",
    "plt.show()"
   ]
  },
  {
   "cell_type": "code",
   "execution_count": null,
   "id": "29a0e390-1f39-4d9d-b790-56d5a798b028",
   "metadata": {},
   "outputs": [],
   "source": []
  }
 ],
 "metadata": {
  "kernelspec": {
   "display_name": "Python 3",
   "language": "python",
   "name": "python3"
  },
  "language_info": {
   "codemirror_mode": {
    "name": "ipython",
    "version": 3
   },
   "file_extension": ".py",
   "mimetype": "text/x-python",
   "name": "python",
   "nbconvert_exporter": "python",
   "pygments_lexer": "ipython3",
   "version": "3.10.2"
  }
 },
 "nbformat": 4,
 "nbformat_minor": 5
}
