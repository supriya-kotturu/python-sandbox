{
 "cells": [
  {
   "cell_type": "markdown",
   "metadata": {},
   "source": [
    "# Linked List - problem set\n",
    "\n",
    "This Jupyter Notebook contains a series of exercises focused on linked list data structure.\n"
   ]
  },
  {
   "cell_type": "code",
   "execution_count": 1,
   "metadata": {},
   "outputs": [
    {
     "name": "stdout",
     "output_type": "stream",
     "text": [
      "2-> 56-> 30-> 400-> 81-> 6-> "
     ]
    }
   ],
   "source": [
    "import import_ipynb\n",
    "\n",
    "from typing import  List\n",
    "from linked_lists import get_linked_list\n",
    "from linked_lists import LinkedList\n",
    "from linked_lists import Node"
   ]
  },
  {
   "cell_type": "code",
   "execution_count": 2,
   "metadata": {},
   "outputs": [
    {
     "name": "stdout",
     "output_type": "stream",
     "text": [
      "3-> 2-> 1-> 1-> 2-> 3-> "
     ]
    }
   ],
   "source": [
    "# Reverse a Linked List\n",
    "# INPUT: LinkedList\n",
    "# OUTPUT: LinkedList\n",
    "\n",
    "\n",
    "def reverse_linked_list(list: LinkedList) -> LinkedList:\n",
    "    # dummy is a pointer, not a node\n",
    "    dummy = None\n",
    "    curr = list.head\n",
    "\n",
    "    while curr is not None:\n",
    "        nextNode = curr.next\n",
    "\n",
    "        curr.next = dummy   # update the curr.next to point to dummy \n",
    "        dummy = curr        # update dummy to have the value of curr, so that the next node can point to it\n",
    "        curr = nextNode     # update curr to next node in the list\n",
    "\n",
    "    rev = LinkedList()\n",
    "    rev.head = dummy\n",
    "    return rev\n",
    "\n",
    "\n",
    "ll = LinkedList()\n",
    "ll.insert_at_beginning(1)\n",
    "ll.insert_at_beginning(2)\n",
    "ll.insert_at_beginning(3)\n",
    "ll.print_list()\n",
    "\n",
    "rev =  reverse_linked_list(ll)\n",
    "rev.print_list()"
   ]
  },
  {
   "cell_type": "code",
   "execution_count": 3,
   "metadata": {},
   "outputs": [
    {
     "name": "stdout",
     "output_type": "stream",
     "text": [
      "9-> 3-> 4-> 5-> 4-> 3-> 9-> \n",
      "\n",
      "orignal: 9345439\n",
      "reverse: 9345439\n"
     ]
    },
    {
     "data": {
      "text/plain": [
       "True"
      ]
     },
     "execution_count": 3,
     "metadata": {},
     "output_type": "execute_result"
    }
   ],
   "source": [
    "# Check if the current list is a palindrome\n",
    "# INPUT: LinkedList\n",
    "# OUTPUT: Boolean\n",
    "\n",
    "def is_palindrome(list: LinkedList) -> bool:\n",
    "    original, reverse = \"\", \"\"\n",
    "    curr = list.head\n",
    "\n",
    "    while(curr is not None):\n",
    "        original = original + str(curr.data)\n",
    "        reverse = str(curr.data) + reverse\n",
    "\n",
    "        curr = curr.next\n",
    "    \n",
    "    print(\"\\n\\norignal: {}\\nreverse: {}\".format(original, reverse))\n",
    "    return original == reverse\n",
    "\n",
    "\n",
    "ll = LinkedList()\n",
    "ll.insert_at_beginning(9)\n",
    "ll.insert_at_beginning(3)\n",
    "ll.insert_at_beginning(4)\n",
    "ll.insert_at_beginning(5)\n",
    "ll.insert_at_beginning(4)\n",
    "# ll.insert_at_beginning(9)\n",
    "ll.insert_at_beginning(3)\n",
    "ll.insert_at_beginning(9)\n",
    "\n",
    "ll.print_list()\n",
    "\n",
    "is_palindrome(ll)\n",
    "\n"
   ]
  },
  {
   "cell_type": "code",
   "execution_count": 4,
   "metadata": {},
   "outputs": [
    {
     "name": "stdout",
     "output_type": "stream",
     "text": [
      "1-> 2-> \n",
      "9-> 6-> 1-> \n",
      "9-> 7-> 3-> "
     ]
    }
   ],
   "source": [
    "# Add two numbers represented in linked lists by creating a new list\n",
    "# INPUT: LinkedList, LinkedList\n",
    "# OUTPUT: LinkedList\n",
    "\n",
    "def add_two_lists(list_1: LinkedList, list_2: LinkedList) -> LinkedList:\n",
    "    rev_list_1 = reverse_linked_list(list_1)\n",
    "    rev_list_2 = reverse_linked_list(list_2)\n",
    "    temp = Node(-1)\n",
    "    dummy = temp\n",
    "    carry = 0\n",
    "\n",
    "    curr_1 = rev_list_1.head\n",
    "    curr_2 = rev_list_2.head\n",
    "\n",
    "    while(curr_1 is not None and curr_2 is not None):\n",
    "        total = curr_1.data + curr_2.data + carry\n",
    "\n",
    "        dummy.next = Node(total % 10)\n",
    "        carry = total // 10 \n",
    "\n",
    "        curr_1 = curr_1.next\n",
    "        curr_2 = curr_2.next\n",
    "        dummy = dummy.next\n",
    "\n",
    "    while(curr_1 is not None):\n",
    "        total = curr_1.data + carry\n",
    "\n",
    "        dummy.next = Node(total % 10)\n",
    "        carry = total // 10\n",
    "\n",
    "        curr_1 = curr_1.next\n",
    "        dummy = dummy.next\n",
    "\n",
    "    while(curr_2 is not None):\n",
    "        total = curr_2.data + carry\n",
    "\n",
    "        dummy.next = Node(total % 10)\n",
    "        carry = total // 10\n",
    "\n",
    "        curr_2 = curr_2.next\n",
    "        dummy = dummy.next\n",
    "\n",
    "    while(carry > 0):\n",
    "        dummy.next = Node(carry)\n",
    "        carry = carry // 10\n",
    "\n",
    "    sum_ll= LinkedList()\n",
    "    sum_ll.head = temp.next\n",
    "    return reverse_linked_list(sum_ll)\n",
    "\n",
    "ll_1 = get_linked_list([1,2])\n",
    "ll_2 = get_linked_list([9,6,1])\n",
    "\n",
    "ll_1.print_list()\n",
    "print()\n",
    "ll_2.print_list()\n",
    "sum_ll = add_two_lists(ll_1, ll_2)\n",
    "print()\n",
    "sum_ll.print_list()\n",
    "\n"
   ]
  },
  {
   "cell_type": "code",
   "execution_count": 5,
   "metadata": {},
   "outputs": [
    {
     "name": "stdout",
     "output_type": "stream",
     "text": [
      "1\n"
     ]
    }
   ],
   "source": [
    "# Find the middle element in the LinkedList\n",
    "# INPUT: LinkedList\n",
    "# OUTPUT: Node\n",
    "\n",
    "def get_middle_node(list: LinkedList) -> Node:\n",
    "    fast, slow = list.head, list.head\n",
    "\n",
    "    while(fast is not None and fast.next is not None):\n",
    "        slow = slow.next\n",
    "        fast = fast.next.next\n",
    "\n",
    "    return slow\n",
    "    \n",
    "\n",
    "ll = get_linked_list([3,6,7,1,9,4])\n",
    "middle = get_middle_node(ll)\n",
    "\n",
    "print(f\"{middle.data}\")"
   ]
  }
 ],
 "metadata": {
  "kernelspec": {
   "display_name": "Python 3",
   "language": "python",
   "name": "python3"
  },
  "language_info": {
   "codemirror_mode": {
    "name": "ipython",
    "version": 3
   },
   "file_extension": ".py",
   "mimetype": "text/x-python",
   "name": "python",
   "nbconvert_exporter": "python",
   "pygments_lexer": "ipython3",
   "version": "3.10.2"
  }
 },
 "nbformat": 4,
 "nbformat_minor": 2
}
