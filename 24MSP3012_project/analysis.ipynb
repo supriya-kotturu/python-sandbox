{
 "cells": [
  {
   "cell_type": "markdown",
   "metadata": {},
   "source": [
    "# Travel Recommendation System\n"
   ]
  },
  {
   "cell_type": "code",
   "execution_count": 1,
   "metadata": {},
   "outputs": [],
   "source": [
    "import matplotlib.pyplot as plt\n",
    "import seaborn as sns\n",
    "import pandas as pd\n",
    "import numpy as np\n",
    "import random as r\n",
    "import joblib as j\n",
    "\n",
    "from sklearn.model_selection import train_test_split\n",
    "from sklearn.linear_model import  LinearRegression\n",
    "from sklearn.metrics import  r2_score, mean_absolute_error, mean_squared_error"
   ]
  },
  {
   "cell_type": "code",
   "execution_count": 2,
   "metadata": {},
   "outputs": [],
   "source": [
    "# load the data\n",
    "\n",
    "DATA_PATH = \"./datasets\"\n",
    "\n",
    "info_tourism = pd.read_csv(f\"{DATA_PATH}/tourism_with_id.csv\")\n",
    "tourism_rating = pd.read_csv(f\"{DATA_PATH}/tourism_rating.csv\")\n",
    "users = pd.read_csv(f\"{DATA_PATH}/user.csv\")"
   ]
  },
  {
   "cell_type": "code",
   "execution_count": 3,
   "metadata": {},
   "outputs": [
    {
     "name": "stdout",
     "output_type": "stream",
     "text": [
      "<class 'pandas.core.frame.DataFrame'>\n",
      "RangeIndex: 437 entries, 0 to 436\n",
      "Data columns (total 13 columns):\n",
      " #   Column        Non-Null Count  Dtype  \n",
      "---  ------        --------------  -----  \n",
      " 0   Place_Id      437 non-null    int64  \n",
      " 1   Place_Name    437 non-null    object \n",
      " 2   Description   437 non-null    object \n",
      " 3   Category      437 non-null    object \n",
      " 4   City          437 non-null    object \n",
      " 5   Price         437 non-null    int64  \n",
      " 6   Rating        437 non-null    float64\n",
      " 7   Time_Minutes  205 non-null    float64\n",
      " 8   Coordinate    437 non-null    object \n",
      " 9   Lat           437 non-null    float64\n",
      " 10  Long          437 non-null    float64\n",
      " 11  Unnamed: 11   0 non-null      float64\n",
      " 12  Unnamed: 12   437 non-null    int64  \n",
      "dtypes: float64(5), int64(3), object(5)\n",
      "memory usage: 44.5+ KB\n"
     ]
    }
   ],
   "source": [
    "info_tourism.info()"
   ]
  },
  {
   "cell_type": "code",
   "execution_count": 4,
   "metadata": {},
   "outputs": [
    {
     "name": "stdout",
     "output_type": "stream",
     "text": [
      "<class 'pandas.core.frame.DataFrame'>\n",
      "RangeIndex: 10000 entries, 0 to 9999\n",
      "Data columns (total 3 columns):\n",
      " #   Column         Non-Null Count  Dtype\n",
      "---  ------         --------------  -----\n",
      " 0   User_Id        10000 non-null  int64\n",
      " 1   Place_Id       10000 non-null  int64\n",
      " 2   Place_Ratings  10000 non-null  int64\n",
      "dtypes: int64(3)\n",
      "memory usage: 234.5 KB\n"
     ]
    }
   ],
   "source": [
    "tourism_rating.info()"
   ]
  },
  {
   "cell_type": "code",
   "execution_count": 5,
   "metadata": {},
   "outputs": [
    {
     "name": "stdout",
     "output_type": "stream",
     "text": [
      "<class 'pandas.core.frame.DataFrame'>\n",
      "RangeIndex: 300 entries, 0 to 299\n",
      "Data columns (total 3 columns):\n",
      " #   Column    Non-Null Count  Dtype \n",
      "---  ------    --------------  ----- \n",
      " 0   User_Id   300 non-null    int64 \n",
      " 1   Location  300 non-null    object\n",
      " 2   Age       300 non-null    int64 \n",
      "dtypes: int64(2), object(1)\n",
      "memory usage: 7.2+ KB\n"
     ]
    }
   ],
   "source": [
    "users.info()"
   ]
  },
  {
   "cell_type": "code",
   "execution_count": 6,
   "metadata": {},
   "outputs": [
    {
     "data": {
      "text/plain": [
       "Place_Id          0\n",
       "Place_Name        0\n",
       "Description       0\n",
       "Category          0\n",
       "City              0\n",
       "Price             0\n",
       "Rating            0\n",
       "Time_Minutes    232\n",
       "Coordinate        0\n",
       "Lat               0\n",
       "Long              0\n",
       "Unnamed: 11     437\n",
       "Unnamed: 12       0\n",
       "dtype: int64"
      ]
     },
     "execution_count": 6,
     "metadata": {},
     "output_type": "execute_result"
    }
   ],
   "source": [
    "# check for null values\n",
    "\n",
    "info_tourism.isnull().sum()"
   ]
  },
  {
   "cell_type": "code",
   "execution_count": 7,
   "metadata": {},
   "outputs": [
    {
     "data": {
      "text/plain": [
       "User_Id          0\n",
       "Place_Id         0\n",
       "Place_Ratings    0\n",
       "dtype: int64"
      ]
     },
     "execution_count": 7,
     "metadata": {},
     "output_type": "execute_result"
    }
   ],
   "source": [
    "tourism_rating.isnull().sum()"
   ]
  },
  {
   "cell_type": "code",
   "execution_count": 8,
   "metadata": {},
   "outputs": [
    {
     "data": {
      "text/plain": [
       "User_Id     0\n",
       "Location    0\n",
       "Age         0\n",
       "dtype: int64"
      ]
     },
     "execution_count": 8,
     "metadata": {},
     "output_type": "execute_result"
    }
   ],
   "source": [
    "users.isnull().sum()"
   ]
  },
  {
   "cell_type": "code",
   "execution_count": 9,
   "metadata": {},
   "outputs": [
    {
     "name": "stdout",
     "output_type": "stream",
     "text": [
      "Total number of tourism: 437\n"
     ]
    }
   ],
   "source": [
    "tourism_all = np.concatenate((\n",
    "    info_tourism.Place_Id.unique(),\n",
    "    tourism_rating.Place_Id.unique()\n",
    "))\n",
    "\n",
    "tourism_all = np.sort(np.unique(tourism_all))\n",
    "\n",
    "print(f\"Total number of tourism: {len(tourism_all)}\")"
   ]
  },
  {
   "cell_type": "code",
   "execution_count": 10,
   "metadata": {},
   "outputs": [
    {
     "data": {
      "text/html": [
       "<div>\n",
       "<style scoped>\n",
       "    .dataframe tbody tr th:only-of-type {\n",
       "        vertical-align: middle;\n",
       "    }\n",
       "\n",
       "    .dataframe tbody tr th {\n",
       "        vertical-align: top;\n",
       "    }\n",
       "\n",
       "    .dataframe thead th {\n",
       "        text-align: right;\n",
       "    }\n",
       "</style>\n",
       "<table border=\"1\" class=\"dataframe\">\n",
       "  <thead>\n",
       "    <tr style=\"text-align: right;\">\n",
       "      <th></th>\n",
       "      <th>User_Id</th>\n",
       "      <th>Place_Id</th>\n",
       "      <th>Place_Ratings</th>\n",
       "    </tr>\n",
       "  </thead>\n",
       "  <tbody>\n",
       "    <tr>\n",
       "      <th>0</th>\n",
       "      <td>1</td>\n",
       "      <td>179</td>\n",
       "      <td>3</td>\n",
       "    </tr>\n",
       "    <tr>\n",
       "      <th>1</th>\n",
       "      <td>1</td>\n",
       "      <td>344</td>\n",
       "      <td>2</td>\n",
       "    </tr>\n",
       "    <tr>\n",
       "      <th>2</th>\n",
       "      <td>1</td>\n",
       "      <td>5</td>\n",
       "      <td>5</td>\n",
       "    </tr>\n",
       "    <tr>\n",
       "      <th>3</th>\n",
       "      <td>1</td>\n",
       "      <td>373</td>\n",
       "      <td>3</td>\n",
       "    </tr>\n",
       "    <tr>\n",
       "      <th>4</th>\n",
       "      <td>1</td>\n",
       "      <td>101</td>\n",
       "      <td>4</td>\n",
       "    </tr>\n",
       "  </tbody>\n",
       "</table>\n",
       "</div>"
      ],
      "text/plain": [
       "   User_Id  Place_Id  Place_Ratings\n",
       "0        1       179              3\n",
       "1        1       344              2\n",
       "2        1         5              5\n",
       "3        1       373              3\n",
       "4        1       101              4"
      ]
     },
     "execution_count": 10,
     "metadata": {},
     "output_type": "execute_result"
    }
   ],
   "source": [
    "all_tourism_rate = tourism_rating\n",
    "all_tourism_rate.head()"
   ]
  },
  {
   "cell_type": "code",
   "execution_count": 11,
   "metadata": {},
   "outputs": [
    {
     "data": {
      "text/html": [
       "<div>\n",
       "<style scoped>\n",
       "    .dataframe tbody tr th:only-of-type {\n",
       "        vertical-align: middle;\n",
       "    }\n",
       "\n",
       "    .dataframe tbody tr th {\n",
       "        vertical-align: top;\n",
       "    }\n",
       "\n",
       "    .dataframe thead th {\n",
       "        text-align: right;\n",
       "    }\n",
       "</style>\n",
       "<table border=\"1\" class=\"dataframe\">\n",
       "  <thead>\n",
       "    <tr style=\"text-align: right;\">\n",
       "      <th></th>\n",
       "      <th>User_Id</th>\n",
       "      <th>Place_Id</th>\n",
       "      <th>Place_Ratings</th>\n",
       "      <th>Place_Name</th>\n",
       "      <th>Description</th>\n",
       "      <th>City</th>\n",
       "      <th>Category</th>\n",
       "    </tr>\n",
       "  </thead>\n",
       "  <tbody>\n",
       "    <tr>\n",
       "      <th>0</th>\n",
       "      <td>1</td>\n",
       "      <td>179</td>\n",
       "      <td>3</td>\n",
       "      <td>Candi Ratu Boko</td>\n",
       "      <td>Situs Ratu Baka atau Candi Boko (Hanacaraka:ꦕꦤ...</td>\n",
       "      <td>Yogyakarta</td>\n",
       "      <td>Budaya</td>\n",
       "    </tr>\n",
       "    <tr>\n",
       "      <th>1</th>\n",
       "      <td>1</td>\n",
       "      <td>344</td>\n",
       "      <td>2</td>\n",
       "      <td>Pantai Marina</td>\n",
       "      <td>Pantai Marina (bahasa Jawa: ꦥꦱꦶꦱꦶꦂ​ꦩꦫꦶꦤ, trans...</td>\n",
       "      <td>Semarang</td>\n",
       "      <td>Bahari</td>\n",
       "    </tr>\n",
       "    <tr>\n",
       "      <th>2</th>\n",
       "      <td>1</td>\n",
       "      <td>5</td>\n",
       "      <td>5</td>\n",
       "      <td>Atlantis Water Adventure</td>\n",
       "      <td>Atlantis Water Adventure atau dikenal dengan A...</td>\n",
       "      <td>Jakarta</td>\n",
       "      <td>Taman Hiburan</td>\n",
       "    </tr>\n",
       "    <tr>\n",
       "      <th>3</th>\n",
       "      <td>1</td>\n",
       "      <td>373</td>\n",
       "      <td>3</td>\n",
       "      <td>Museum Kereta Ambarawa</td>\n",
       "      <td>Museum Kereta Api Ambarawa (bahasa Inggris: In...</td>\n",
       "      <td>Semarang</td>\n",
       "      <td>Budaya</td>\n",
       "    </tr>\n",
       "    <tr>\n",
       "      <th>4</th>\n",
       "      <td>1</td>\n",
       "      <td>101</td>\n",
       "      <td>4</td>\n",
       "      <td>Kampung Wisata Sosro Menduran</td>\n",
       "      <td>Kampung wisata Sosromenduran merupakan kampung...</td>\n",
       "      <td>Yogyakarta</td>\n",
       "      <td>Budaya</td>\n",
       "    </tr>\n",
       "  </tbody>\n",
       "</table>\n",
       "</div>"
      ],
      "text/plain": [
       "   User_Id  Place_Id  Place_Ratings                     Place_Name  \\\n",
       "0        1       179              3                Candi Ratu Boko   \n",
       "1        1       344              2                  Pantai Marina   \n",
       "2        1         5              5       Atlantis Water Adventure   \n",
       "3        1       373              3         Museum Kereta Ambarawa   \n",
       "4        1       101              4  Kampung Wisata Sosro Menduran   \n",
       "\n",
       "                                         Description        City  \\\n",
       "0  Situs Ratu Baka atau Candi Boko (Hanacaraka:ꦕꦤ...  Yogyakarta   \n",
       "1  Pantai Marina (bahasa Jawa: ꦥꦱꦶꦱꦶꦂ​ꦩꦫꦶꦤ, trans...    Semarang   \n",
       "2  Atlantis Water Adventure atau dikenal dengan A...     Jakarta   \n",
       "3  Museum Kereta Api Ambarawa (bahasa Inggris: In...    Semarang   \n",
       "4  Kampung wisata Sosromenduran merupakan kampung...  Yogyakarta   \n",
       "\n",
       "        Category  \n",
       "0         Budaya  \n",
       "1         Bahari  \n",
       "2  Taman Hiburan  \n",
       "3         Budaya  \n",
       "4         Budaya  "
      ]
     },
     "execution_count": 11,
     "metadata": {},
     "output_type": "execute_result"
    }
   ],
   "source": [
    "all_tourism = pd.merge(all_tourism_rate,info_tourism[[\"Place_Id\",\"Place_Name\",\"Description\",\"City\",\"Category\"]],on='Place_Id', how='left')\n",
    "all_tourism.head()"
   ]
  },
  {
   "cell_type": "code",
   "execution_count": 12,
   "metadata": {},
   "outputs": [
    {
     "data": {
      "text/html": [
       "<div>\n",
       "<style scoped>\n",
       "    .dataframe tbody tr th:only-of-type {\n",
       "        vertical-align: middle;\n",
       "    }\n",
       "\n",
       "    .dataframe tbody tr th {\n",
       "        vertical-align: top;\n",
       "    }\n",
       "\n",
       "    .dataframe thead th {\n",
       "        text-align: right;\n",
       "    }\n",
       "</style>\n",
       "<table border=\"1\" class=\"dataframe\">\n",
       "  <thead>\n",
       "    <tr style=\"text-align: right;\">\n",
       "      <th></th>\n",
       "      <th>User_Id</th>\n",
       "      <th>Place_Id</th>\n",
       "      <th>Place_Ratings</th>\n",
       "      <th>Place_Name</th>\n",
       "      <th>Description</th>\n",
       "      <th>City</th>\n",
       "      <th>Category</th>\n",
       "      <th>city_category</th>\n",
       "    </tr>\n",
       "  </thead>\n",
       "  <tbody>\n",
       "    <tr>\n",
       "      <th>0</th>\n",
       "      <td>1</td>\n",
       "      <td>179</td>\n",
       "      <td>3</td>\n",
       "      <td>Candi Ratu Boko</td>\n",
       "      <td>Situs Ratu Baka atau Candi Boko (Hanacaraka:ꦕꦤ...</td>\n",
       "      <td>Yogyakarta</td>\n",
       "      <td>Budaya</td>\n",
       "      <td>Yogyakarta Budaya</td>\n",
       "    </tr>\n",
       "    <tr>\n",
       "      <th>1</th>\n",
       "      <td>1</td>\n",
       "      <td>344</td>\n",
       "      <td>2</td>\n",
       "      <td>Pantai Marina</td>\n",
       "      <td>Pantai Marina (bahasa Jawa: ꦥꦱꦶꦱꦶꦂ​ꦩꦫꦶꦤ, trans...</td>\n",
       "      <td>Semarang</td>\n",
       "      <td>Bahari</td>\n",
       "      <td>Semarang Bahari</td>\n",
       "    </tr>\n",
       "    <tr>\n",
       "      <th>2</th>\n",
       "      <td>1</td>\n",
       "      <td>5</td>\n",
       "      <td>5</td>\n",
       "      <td>Atlantis Water Adventure</td>\n",
       "      <td>Atlantis Water Adventure atau dikenal dengan A...</td>\n",
       "      <td>Jakarta</td>\n",
       "      <td>Taman Hiburan</td>\n",
       "      <td>Jakarta Taman Hiburan</td>\n",
       "    </tr>\n",
       "    <tr>\n",
       "      <th>3</th>\n",
       "      <td>1</td>\n",
       "      <td>373</td>\n",
       "      <td>3</td>\n",
       "      <td>Museum Kereta Ambarawa</td>\n",
       "      <td>Museum Kereta Api Ambarawa (bahasa Inggris: In...</td>\n",
       "      <td>Semarang</td>\n",
       "      <td>Budaya</td>\n",
       "      <td>Semarang Budaya</td>\n",
       "    </tr>\n",
       "    <tr>\n",
       "      <th>4</th>\n",
       "      <td>1</td>\n",
       "      <td>101</td>\n",
       "      <td>4</td>\n",
       "      <td>Kampung Wisata Sosro Menduran</td>\n",
       "      <td>Kampung wisata Sosromenduran merupakan kampung...</td>\n",
       "      <td>Yogyakarta</td>\n",
       "      <td>Budaya</td>\n",
       "      <td>Yogyakarta Budaya</td>\n",
       "    </tr>\n",
       "  </tbody>\n",
       "</table>\n",
       "</div>"
      ],
      "text/plain": [
       "   User_Id  Place_Id  Place_Ratings                     Place_Name  \\\n",
       "0        1       179              3                Candi Ratu Boko   \n",
       "1        1       344              2                  Pantai Marina   \n",
       "2        1         5              5       Atlantis Water Adventure   \n",
       "3        1       373              3         Museum Kereta Ambarawa   \n",
       "4        1       101              4  Kampung Wisata Sosro Menduran   \n",
       "\n",
       "                                         Description        City  \\\n",
       "0  Situs Ratu Baka atau Candi Boko (Hanacaraka:ꦕꦤ...  Yogyakarta   \n",
       "1  Pantai Marina (bahasa Jawa: ꦥꦱꦶꦱꦶꦂ​ꦩꦫꦶꦤ, trans...    Semarang   \n",
       "2  Atlantis Water Adventure atau dikenal dengan A...     Jakarta   \n",
       "3  Museum Kereta Api Ambarawa (bahasa Inggris: In...    Semarang   \n",
       "4  Kampung wisata Sosromenduran merupakan kampung...  Yogyakarta   \n",
       "\n",
       "        Category          city_category  \n",
       "0         Budaya      Yogyakarta Budaya  \n",
       "1         Bahari        Semarang Bahari  \n",
       "2  Taman Hiburan  Jakarta Taman Hiburan  \n",
       "3         Budaya        Semarang Budaya  \n",
       "4         Budaya      Yogyakarta Budaya  "
      ]
     },
     "execution_count": 12,
     "metadata": {},
     "output_type": "execute_result"
    }
   ],
   "source": [
    "all_tourism['city_category'] = all_tourism[['City','Category']].agg(' '.join,axis=1)\n",
    "\n",
    "all_tourism.head()"
   ]
  },
  {
   "cell_type": "code",
   "execution_count": 13,
   "metadata": {},
   "outputs": [
    {
     "data": {
      "text/plain": [
       "User_Id          0\n",
       "Place_Id         0\n",
       "Place_Ratings    0\n",
       "Place_Name       0\n",
       "Description      0\n",
       "City             0\n",
       "Category         0\n",
       "city_category    0\n",
       "dtype: int64"
      ]
     },
     "execution_count": 13,
     "metadata": {},
     "output_type": "execute_result"
    }
   ],
   "source": [
    "all_tourism.isnull().sum()"
   ]
  },
  {
   "cell_type": "code",
   "execution_count": 14,
   "metadata": {},
   "outputs": [
    {
     "data": {
      "text/html": [
       "<div>\n",
       "<style scoped>\n",
       "    .dataframe tbody tr th:only-of-type {\n",
       "        vertical-align: middle;\n",
       "    }\n",
       "\n",
       "    .dataframe tbody tr th {\n",
       "        vertical-align: top;\n",
       "    }\n",
       "\n",
       "    .dataframe thead th {\n",
       "        text-align: right;\n",
       "    }\n",
       "</style>\n",
       "<table border=\"1\" class=\"dataframe\">\n",
       "  <thead>\n",
       "    <tr style=\"text-align: right;\">\n",
       "      <th></th>\n",
       "      <th>User_Id</th>\n",
       "      <th>Place_Id</th>\n",
       "      <th>Place_Ratings</th>\n",
       "      <th>Place_Name</th>\n",
       "      <th>Description</th>\n",
       "      <th>City</th>\n",
       "      <th>Category</th>\n",
       "      <th>city_category</th>\n",
       "    </tr>\n",
       "  </thead>\n",
       "  <tbody>\n",
       "    <tr>\n",
       "      <th>0</th>\n",
       "      <td>1</td>\n",
       "      <td>179</td>\n",
       "      <td>3</td>\n",
       "      <td>Candi Ratu Boko</td>\n",
       "      <td>Situs Ratu Baka atau Candi Boko (Hanacaraka:ꦕꦤ...</td>\n",
       "      <td>Yogyakarta</td>\n",
       "      <td>Budaya</td>\n",
       "      <td>Yogyakarta Budaya</td>\n",
       "    </tr>\n",
       "    <tr>\n",
       "      <th>1</th>\n",
       "      <td>1</td>\n",
       "      <td>344</td>\n",
       "      <td>2</td>\n",
       "      <td>Pantai Marina</td>\n",
       "      <td>Pantai Marina (bahasa Jawa: ꦥꦱꦶꦱꦶꦂ​ꦩꦫꦶꦤ, trans...</td>\n",
       "      <td>Semarang</td>\n",
       "      <td>Bahari</td>\n",
       "      <td>Semarang Bahari</td>\n",
       "    </tr>\n",
       "    <tr>\n",
       "      <th>2</th>\n",
       "      <td>1</td>\n",
       "      <td>5</td>\n",
       "      <td>5</td>\n",
       "      <td>Atlantis Water Adventure</td>\n",
       "      <td>Atlantis Water Adventure atau dikenal dengan A...</td>\n",
       "      <td>Jakarta</td>\n",
       "      <td>Taman Hiburan</td>\n",
       "      <td>Jakarta Taman Hiburan</td>\n",
       "    </tr>\n",
       "    <tr>\n",
       "      <th>3</th>\n",
       "      <td>1</td>\n",
       "      <td>373</td>\n",
       "      <td>3</td>\n",
       "      <td>Museum Kereta Ambarawa</td>\n",
       "      <td>Museum Kereta Api Ambarawa (bahasa Inggris: In...</td>\n",
       "      <td>Semarang</td>\n",
       "      <td>Budaya</td>\n",
       "      <td>Semarang Budaya</td>\n",
       "    </tr>\n",
       "    <tr>\n",
       "      <th>4</th>\n",
       "      <td>1</td>\n",
       "      <td>101</td>\n",
       "      <td>4</td>\n",
       "      <td>Kampung Wisata Sosro Menduran</td>\n",
       "      <td>Kampung wisata Sosromenduran merupakan kampung...</td>\n",
       "      <td>Yogyakarta</td>\n",
       "      <td>Budaya</td>\n",
       "      <td>Yogyakarta Budaya</td>\n",
       "    </tr>\n",
       "  </tbody>\n",
       "</table>\n",
       "</div>"
      ],
      "text/plain": [
       "   User_Id  Place_Id  Place_Ratings                     Place_Name  \\\n",
       "0        1       179              3                Candi Ratu Boko   \n",
       "1        1       344              2                  Pantai Marina   \n",
       "2        1         5              5       Atlantis Water Adventure   \n",
       "3        1       373              3         Museum Kereta Ambarawa   \n",
       "4        1       101              4  Kampung Wisata Sosro Menduran   \n",
       "\n",
       "                                         Description        City  \\\n",
       "0  Situs Ratu Baka atau Candi Boko (Hanacaraka:ꦕꦤ...  Yogyakarta   \n",
       "1  Pantai Marina (bahasa Jawa: ꦥꦱꦶꦱꦶꦂ​ꦩꦫꦶꦤ, trans...    Semarang   \n",
       "2  Atlantis Water Adventure atau dikenal dengan A...     Jakarta   \n",
       "3  Museum Kereta Api Ambarawa (bahasa Inggris: In...    Semarang   \n",
       "4  Kampung wisata Sosromenduran merupakan kampung...  Yogyakarta   \n",
       "\n",
       "        Category          city_category  \n",
       "0         Budaya      Yogyakarta Budaya  \n",
       "1         Bahari        Semarang Bahari  \n",
       "2  Taman Hiburan  Jakarta Taman Hiburan  \n",
       "3         Budaya        Semarang Budaya  \n",
       "4         Budaya      Yogyakarta Budaya  "
      ]
     },
     "execution_count": 14,
     "metadata": {},
     "output_type": "execute_result"
    }
   ],
   "source": [
    "preparation= all_tourism.drop_duplicates(\"Place_Id\") \n",
    "preparation.head()"
   ]
  },
  {
   "cell_type": "code",
   "execution_count": 15,
   "metadata": {},
   "outputs": [],
   "source": [
    "place_id = preparation.Place_Id.tolist()\n",
    "\n",
    "place_name = preparation.Place_Name.tolist()\n",
    "\n",
    "place_category = preparation.Category.tolist()\n",
    "\n",
    "place_desc = preparation.Description.tolist()\n",
    "\n",
    "place_city = preparation.City.tolist()\n",
    "\n",
    "city_category = preparation.city_category.tolist()"
   ]
  },
  {
   "cell_type": "code",
   "execution_count": 16,
   "metadata": {},
   "outputs": [
    {
     "data": {
      "text/html": [
       "<div>\n",
       "<style scoped>\n",
       "    .dataframe tbody tr th:only-of-type {\n",
       "        vertical-align: middle;\n",
       "    }\n",
       "\n",
       "    .dataframe tbody tr th {\n",
       "        vertical-align: top;\n",
       "    }\n",
       "\n",
       "    .dataframe thead th {\n",
       "        text-align: right;\n",
       "    }\n",
       "</style>\n",
       "<table border=\"1\" class=\"dataframe\">\n",
       "  <thead>\n",
       "    <tr style=\"text-align: right;\">\n",
       "      <th></th>\n",
       "      <th>id</th>\n",
       "      <th>name</th>\n",
       "      <th>category</th>\n",
       "      <th>description</th>\n",
       "      <th>city</th>\n",
       "      <th>city_category</th>\n",
       "    </tr>\n",
       "  </thead>\n",
       "  <tbody>\n",
       "    <tr>\n",
       "      <th>0</th>\n",
       "      <td>179</td>\n",
       "      <td>Candi Ratu Boko</td>\n",
       "      <td>Budaya</td>\n",
       "      <td>Situs Ratu Baka atau Candi Boko (Hanacaraka:ꦕꦤ...</td>\n",
       "      <td>Yogyakarta</td>\n",
       "      <td>Yogyakarta Budaya</td>\n",
       "    </tr>\n",
       "    <tr>\n",
       "      <th>1</th>\n",
       "      <td>344</td>\n",
       "      <td>Pantai Marina</td>\n",
       "      <td>Bahari</td>\n",
       "      <td>Pantai Marina (bahasa Jawa: ꦥꦱꦶꦱꦶꦂ​ꦩꦫꦶꦤ, trans...</td>\n",
       "      <td>Semarang</td>\n",
       "      <td>Semarang Bahari</td>\n",
       "    </tr>\n",
       "    <tr>\n",
       "      <th>2</th>\n",
       "      <td>5</td>\n",
       "      <td>Atlantis Water Adventure</td>\n",
       "      <td>Taman Hiburan</td>\n",
       "      <td>Atlantis Water Adventure atau dikenal dengan A...</td>\n",
       "      <td>Jakarta</td>\n",
       "      <td>Jakarta Taman Hiburan</td>\n",
       "    </tr>\n",
       "    <tr>\n",
       "      <th>3</th>\n",
       "      <td>373</td>\n",
       "      <td>Museum Kereta Ambarawa</td>\n",
       "      <td>Budaya</td>\n",
       "      <td>Museum Kereta Api Ambarawa (bahasa Inggris: In...</td>\n",
       "      <td>Semarang</td>\n",
       "      <td>Semarang Budaya</td>\n",
       "    </tr>\n",
       "    <tr>\n",
       "      <th>4</th>\n",
       "      <td>101</td>\n",
       "      <td>Kampung Wisata Sosro Menduran</td>\n",
       "      <td>Budaya</td>\n",
       "      <td>Kampung wisata Sosromenduran merupakan kampung...</td>\n",
       "      <td>Yogyakarta</td>\n",
       "      <td>Yogyakarta Budaya</td>\n",
       "    </tr>\n",
       "  </tbody>\n",
       "</table>\n",
       "</div>"
      ],
      "text/plain": [
       "    id                           name       category  \\\n",
       "0  179                Candi Ratu Boko         Budaya   \n",
       "1  344                  Pantai Marina         Bahari   \n",
       "2    5       Atlantis Water Adventure  Taman Hiburan   \n",
       "3  373         Museum Kereta Ambarawa         Budaya   \n",
       "4  101  Kampung Wisata Sosro Menduran         Budaya   \n",
       "\n",
       "                                         description        city  \\\n",
       "0  Situs Ratu Baka atau Candi Boko (Hanacaraka:ꦕꦤ...  Yogyakarta   \n",
       "1  Pantai Marina (bahasa Jawa: ꦥꦱꦶꦱꦶꦂ​ꦩꦫꦶꦤ, trans...    Semarang   \n",
       "2  Atlantis Water Adventure atau dikenal dengan A...     Jakarta   \n",
       "3  Museum Kereta Api Ambarawa (bahasa Inggris: In...    Semarang   \n",
       "4  Kampung wisata Sosromenduran merupakan kampung...  Yogyakarta   \n",
       "\n",
       "           city_category  \n",
       "0      Yogyakarta Budaya  \n",
       "1        Semarang Bahari  \n",
       "2  Jakarta Taman Hiburan  \n",
       "3        Semarang Budaya  \n",
       "4      Yogyakarta Budaya  "
      ]
     },
     "execution_count": 16,
     "metadata": {},
     "output_type": "execute_result"
    }
   ],
   "source": [
    "tourism_new = pd.DataFrame({\n",
    "    \"id\":place_id,\n",
    "    \"name\":place_name,\n",
    "    \"category\":place_category,\n",
    "    \"description\":place_desc,\n",
    "    \"city\":place_city,\n",
    "    \"city_category\":city_category\n",
    "})\n",
    "\n",
    "tourism_new.head()"
   ]
  },
  {
   "cell_type": "code",
   "execution_count": 17,
   "metadata": {},
   "outputs": [
    {
     "data": {
      "image/png": "[encoded data removed]",
      "text/plain": [
       "<Figure size 800x500 with 1 Axes>"
      ]
     },
     "metadata": {},
     "output_type": "display_data"
    }
   ],
   "source": [
    "# First get the top 10 counts\n",
    "top_10 = tourism_new['id'].value_counts().reset_index()[0:10]\n",
    "\n",
    "# Rename the columns to make them more clear\n",
    "top_10.columns = ['Place_Id', 'Count']\n",
    "\n",
    "# Now merge with the preparation dataframe to get the place names\n",
    "top_10 = pd.merge(\n",
    "    top_10,\n",
    "    preparation[['Place_Id', 'Place_Name']], \n",
    "    how='left', \n",
    "    left_on='Place_Id', \n",
    "    right_on='Place_Id'\n",
    ")\n",
    "\n",
    "\n",
    "# Membuat visualisasi wisata dengan jumlah rating terbanyak\n",
    "plt.figure(figsize=(8,5))\n",
    "sns.barplot(x='Place_Id', y='Place_Name', data=top_10)\n",
    "plt.title('Number of Tourist Spots with the Most Ratings', pad=20)\n",
    "plt.ylabel('Number of Ratings')\n",
    "plt.xlabel('Location Name')\n",
    "plt.show()"
   ]
  }
 ],
 "metadata": {
  "kernelspec": {
   "display_name": "Python 3",
   "language": "python",
   "name": "python3"
  },
  "language_info": {
   "codemirror_mode": {
    "name": "ipython",
    "version": 3
   },
   "file_extension": ".py",
   "mimetype": "text/x-python",
   "name": "python",
   "nbconvert_exporter": "python",
   "pygments_lexer": "ipython3",
   "version": "3.11.9"
  }
 },
 "nbformat": 4,
 "nbformat_minor": 2
}
