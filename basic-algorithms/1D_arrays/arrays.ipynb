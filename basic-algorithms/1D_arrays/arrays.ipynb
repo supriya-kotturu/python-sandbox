{
 "cells": [
  {
   "cell_type": "markdown",
   "metadata": {},
   "source": [
    "# 1D Arrays\n",
    "\n",
    "This notebook explores the sorting operations that can be performed on a 1D Array\n"
   ]
  },
  {
   "cell_type": "code",
   "execution_count": 2,
   "metadata": {},
   "outputs": [],
   "source": [
    "from typing import List"
   ]
  },
  {
   "cell_type": "code",
   "execution_count": 21,
   "metadata": {},
   "outputs": [
    {
     "name": "stdout",
     "output_type": "stream",
     "text": [
      "[1, 2, 3, 3, 4, 4, 5, 5, 6, 24]\n"
     ]
    }
   ],
   "source": [
    "# Merge Sort\n",
    "\n",
    "def merge(target: List[int], leftArry: List[int], rightArry: List[int]) -> List[int]:\n",
    "    leftIdx, rightIdx, idx = 0, 0, 0\n",
    "\n",
    "    while(leftIdx  < len(leftArry) and rightIdx < len(rightArry)):\n",
    "        left = leftArry[leftIdx]\n",
    "        right = rightArry[rightIdx]\n",
    "\n",
    "        target[idx] = min(left, right)\n",
    "\n",
    "        if(left <= right): leftIdx += 1\n",
    "        else: rightIdx += 1\n",
    "\n",
    "        idx += 1\n",
    "\n",
    "    while(leftIdx < len(leftArry)):\n",
    "        target[idx] = leftArry[leftIdx]\n",
    "        leftIdx += 1\n",
    "        idx += 1\n",
    "\n",
    "    while(rightIdx < len(rightArry)):\n",
    "        target[idx] = rightArry[rightIdx]\n",
    "        rightIdx += 1\n",
    "        idx += 1\n",
    "\n",
    "    return target\n",
    "\n",
    "\n",
    "def mergeSort(arr: List[int]) -> List[int]:\n",
    "    length = len(arr)\n",
    "\n",
    "    if(length <= 1): return arr\n",
    "\n",
    "    midIdx = length // 2\n",
    "\n",
    "    left_arry = arr[:midIdx]\n",
    "    right_arry = arr[midIdx:]\n",
    "\n",
    "    mergeSort(left_arry)\n",
    "    mergeSort(right_arry)\n",
    "\n",
    "    return merge(arr, left_arry, right_arry)\n",
    "\n",
    "\n",
    "\n",
    "arry = [3,6,5,24,1, 4,5,4,3,2]\n",
    "sorted_arry = mergeSort(arry)\n",
    "print(f\"{sorted_arry}\")"
   ]
  },
  {
   "cell_type": "code",
   "execution_count": null,
   "metadata": {},
   "outputs": [],
   "source": []
  }
 ],
 "metadata": {
  "kernelspec": {
   "display_name": "Python 3",
   "language": "python",
   "name": "python3"
  },
  "language_info": {
   "codemirror_mode": {
    "name": "ipython",
    "version": 3
   },
   "file_extension": ".py",
   "mimetype": "text/x-python",
   "name": "python",
   "nbconvert_exporter": "python",
   "pygments_lexer": "ipython3",
   "version": "3.10.2"
  }
 },
 "nbformat": 4,
 "nbformat_minor": 2
}
