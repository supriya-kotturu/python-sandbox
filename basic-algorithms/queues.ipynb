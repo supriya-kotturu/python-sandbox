{
 "cells": [
  {
   "cell_type": "markdown",
   "metadata": {},
   "source": [
    "# Queues\n",
    "\n",
    "- It's an abstract data structure.It follows LILO - Last In Last Out.\n",
    "\n",
    "- enqueue - add element to the start of the queue\n",
    "- dequeue - remove element from the end of the queue\n",
    "\n",
    "[Docs](https://docs.python.org/3/library/queue.html)\n"
   ]
  }
 ],
 "metadata": {
  "language_info": {
   "name": "python"
  }
 },
 "nbformat": 4,
 "nbformat_minor": 2
}
