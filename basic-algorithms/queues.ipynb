{
 "cells": [
  {
   "cell_type": "markdown",
   "metadata": {},
   "source": [
    "# Queues\n",
    "\n",
    "It's an abstract data structure.It follows LILO - Last In Last Out.\n",
    "\n",
    "- enqueue - add element to the start of the queue\n",
    "- dequeue - remove element from the end of the queue\n",
    "- front - gets the front element in the queue\n",
    "- clear - deletes all the elements in the queue\n",
    "\n",
    "[Docs](https://docs.python.org/3/library/queue.html)\n"
   ]
  },
  {
   "cell_type": "code",
   "execution_count": 1,
   "metadata": {},
   "outputs": [],
   "source": [
    "import math as m\n",
    "import random as r\n",
    "from collections import deque"
   ]
  },
  {
   "cell_type": "code",
   "execution_count": 2,
   "metadata": {},
   "outputs": [],
   "source": [
    "# utilities\n",
    "\n",
    "def get_random_int(start, end):\n",
    "    return r.randint(start, end)\n",
    "\n",
    "QUEUE_CREATED = \"Queue created.\"\n",
    "QUEUE_EMPTY_ERROR = \"Queue is empty. No operations can be performed.\""
   ]
  },
  {
   "cell_type": "code",
   "execution_count": 3,
   "metadata": {},
   "outputs": [],
   "source": [
    "# build a queue using LIST\n",
    "\n"
   ]
  },
  {
   "cell_type": "code",
   "execution_count": 12,
   "metadata": {},
   "outputs": [
    {
     "name": "stdout",
     "output_type": "stream",
     "text": [
      "Length of the queue: 9\n",
      "2 4 2 3 1 1 5 4 2 \n",
      "\n",
      "Length of the queue: 10\n",
      "100 2 4 2 3 1 1 5 4 2 \n",
      "\n",
      "Length of the queue: 8\n",
      "100 2 4 2 3 1 1 5 \n",
      "\n"
     ]
    }
   ],
   "source": [
    "# queue using collections - DEQUE\n",
    "\n",
    "def print_queue(q):\n",
    "    if(len(q) == 0):\n",
    "        print(QUEUE_EMPTY_ERROR)\n",
    "    else:\n",
    "        print(\"Length of the queue: {}\".format(len(q)))\n",
    "        for ele in q:\n",
    "            print(ele, end= ' ')\n",
    "        print('\\n')\n",
    "\n",
    "que = deque()\n",
    "length = get_random_int(1, 10)\n",
    "\n",
    "for _ in range(length):\n",
    "    que.append(get_random_int(1, 5))\n",
    "\n",
    "print_queue(que)\n",
    "que.appendleft(100)\n",
    "print_queue(que)\n",
    "\n",
    "que.pop()\n",
    "que.pop()\n",
    "\n",
    "print_queue(que)\n"
   ]
  },
  {
   "cell_type": "code",
   "execution_count": 5,
   "metadata": {},
   "outputs": [],
   "source": [
    "# queue using queues - QUEUE"
   ]
  }
 ],
 "metadata": {
  "kernelspec": {
   "display_name": "Python 3",
   "language": "python",
   "name": "python3"
  },
  "language_info": {
   "codemirror_mode": {
    "name": "ipython",
    "version": 3
   },
   "file_extension": ".py",
   "mimetype": "text/x-python",
   "name": "python",
   "nbconvert_exporter": "python",
   "pygments_lexer": "ipython3",
   "version": "3.10.2"
  }
 },
 "nbformat": 4,
 "nbformat_minor": 2
}
